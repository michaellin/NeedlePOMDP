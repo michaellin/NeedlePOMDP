{
 "cells": [
  {
   "cell_type": "markdown",
   "metadata": {},
   "source": [
    "# Tiger Tutorial: Solving POMDPs"
   ]
  },
  {
   "cell_type": "markdown",
   "metadata": {},
   "source": [
    "This tutorial outlines how to define a POMDP using the [POMDPs.jl](https://github.com/JuliaPOMDP/POMDPs.jl) interface. We will go through a simple problem simply known as the tiger problem (we will refer to it as the tiger POMDP). After defining the tiger POMDP, we will use QMDP and SARSOP to solve the POMDP. If you are new to working with this package, check out the [tutorial](http://nbviewer.ipython.org/github/JuliaPOMDP/POMDPs.jl/blob/master/examples/GridWorld.ipynb) on MDPs first."
   ]
  },
  {
   "cell_type": "markdown",
   "metadata": {},
   "source": [
    "## Dependencies\n",
    "You need to install a few modules in order to use this notebook. If you have all the modules below installed, great! If not run the following commands:\n",
    "\n",
    "```julia\n",
    "# install the POMDPs.jl interface\n",
    "Pkg.clone(\"https://github.com/sisl/POMDPs.jl.git\")\n",
    "\n",
    "using POMDPs\n",
    "\n",
    "# install the SARSOP wrapper\n",
    "POMDPs.add(\"SARSOP\") # note this downloads and builds the APPL toolit and may take a few minutes \n",
    "\n",
    "# install the QMDP solver\n",
    "POMDPs.add(\"QMDP\")\n",
    "\n",
    "# install a helper modules\n",
    "POMDPs.add(\"POMDPToolbox\") # this provides implementations of discrete belief updating\n",
    "\n",
    "# install a Julia packages for working with distributions\n",
    "Pkg.add(\"Distributions\")\n",
    "```\n",
    "\n",
    "If you already have all of the modules above, make sure you have the most recent versions. Many of these are still under heavy development, so update before starting by running\n",
    "\n",
    "```julia\n",
    "Pkg.update()\n",
    "```"
   ]
  },
  {
   "cell_type": "markdown",
   "metadata": {},
   "source": [
    "## Problem Overview\n",
    "In the tiger POMDP, the agent is tasked with escaping from a room. There are two doors leading out of the room. Behind one of the doors is a tiger, and behind the other is sweet, sweet freedom. If the agent opens the door and finds the tiger, it gets eaten (and receives a reward of -100). If the agent opens the other door, it escapes and receives a reward of 10. The agent can also listen. Listening gives a noisy measuremnt of which door the tiger is hiding behind. Listening gives the agent the correct location of the tiger 85% of the time. The agent receives a reward of -1 for listening. "
   ]
  },
  {
   "cell_type": "code",
   "execution_count": 1,
   "metadata": {
    "collapsed": true
   },
   "outputs": [],
   "source": [
    "# first import POMDPs.jl\n",
    "using POMDPs"
   ]
  },
  {
   "cell_type": "markdown",
   "metadata": {},
   "source": [
    "## POMDP \n",
    "A POMDP is defined by the tuple\n",
    "$$(\\mathcal{S}, \\mathcal{A}, \\mathcal{Z}, T, R, O).$$\n",
    "In addition to the familiar, state $\\mathcal{S}$ and action $\\mathcal{A}$ spaces, we must also define an observation space $\\mathcal{Z}$ and an observation function $O$. The POMDP problem definition may be similar to the one for MDP. For example, if you wanted to add state uncertaitniy to your problem, you can define the observation space, and observation function in addition to your previous MDP definition.\n",
    "\n",
    "Before defining the spaces for this problem, let's first deinfe the concrete type for the tiger POMDP. "
   ]
  },
  {
   "cell_type": "code",
   "execution_count": 2,
   "metadata": {
    "collapsed": false
   },
   "outputs": [],
   "source": [
    "type TigerPOMDP <: POMDP{Bool, Symbol, Bool} # POMDP{State, Action, Observation} all parametarized by Int64s\n",
    "    r_listen::Float64 # reward for listening (default -1)\n",
    "    r_findtiger::Float64 # reward for finding the tiger (default -100)\n",
    "    r_escapetiger::Float64 # reward for escaping (default 10)\n",
    "    p_listen_correctly::Float64 # prob of correctly listening (default 0.85)\n",
    "    discount_factor::Float64 # discount\n",
    "end\n",
    "# default constructor\n",
    "function TigerPOMDP()\n",
    "    return TigerPOMDP(-1.0, -100.0, 10.0, 0.85, 0.95)\n",
    "end;"
   ]
  },
  {
   "cell_type": "markdown",
   "metadata": {},
   "source": [
    "There are a number of parameters in the problem definition, but we can treat them all as constants. You can read more about the Tiger problem and POMDPs [here](http://www.techfak.uni-bielefeld.de/~skopp/Lehre/STdKI_SS10/POMDP_tutorial.pdf#page=28). However, we created a default constructor that allows us to initialize the tiger POMDP by simply running:"
   ]
  },
  {
   "cell_type": "code",
   "execution_count": 3,
   "metadata": {
    "collapsed": false
   },
   "outputs": [
    {
     "data": {
      "text/plain": [
       "TigerPOMDP(-1.0,-100.0,10.0,0.85,0.95)"
      ]
     },
     "execution_count": 3,
     "metadata": {},
     "output_type": "execute_result"
    }
   ],
   "source": [
    "pomdp = TigerPOMDP()"
   ]
  },
  {
   "cell_type": "markdown",
   "metadata": {},
   "source": [
    "Note that the TigerPOMDP type inherits from a ```POMDP{Bool, Symbol, Bool}```. This means that in our problem we will use ```Bool``` to represent our states, ```Symbol``` to represent our actions and ```Bool``` to represent our observations. More details on states, actions and observations in this problem are below."
   ]
  },
  {
   "cell_type": "markdown",
   "metadata": {},
   "source": [
    "## States\n",
    "We define our state with a boolean that indicates weather or not the tiger is hiding behind the left door. If our state is ```true```, the tiger is behind the left door. If its ```false```, the tiger is behind the right door. "
   ]
  },
  {
   "cell_type": "code",
   "execution_count": 4,
   "metadata": {
    "collapsed": false
   },
   "outputs": [],
   "source": [
    "example_state = false # tiger is hiding behind right door\n",
    "# initialization function\n",
    "POMDPs.create_state(::TigerPOMDP) = true;"
   ]
  },
  {
   "cell_type": "markdown",
   "metadata": {},
   "source": [
    "Since the state is a binary value, we represent it as a boolean, but we could have represented it as an integer or any other sensible type."
   ]
  },
  {
   "cell_type": "markdown",
   "metadata": {},
   "source": [
    "## Actions\n",
    "There are three possible actions our agent can take: open the left door, open the right door, and listen. For clarity, we will represent these with symbols."
   ]
  },
  {
   "cell_type": "code",
   "execution_count": 5,
   "metadata": {
    "collapsed": false
   },
   "outputs": [],
   "source": [
    "example_action = :listen # agent listens, can be :openl or :openr\n",
    "# initialization function\n",
    "POMDPs.create_action(::TigerPOMDP) = :listen;"
   ]
  },
  {
   "cell_type": "markdown",
   "metadata": {},
   "source": [
    "We will represent our actions with the following symbols: open left (:openl), open right (:openr), and listen (:listen). For example, the action below represnts listening:"
   ]
  },
  {
   "cell_type": "code",
   "execution_count": 6,
   "metadata": {
    "collapsed": false
   },
   "outputs": [
    {
     "data": {
      "text/plain": [
       ":listen"
      ]
     },
     "execution_count": 6,
     "metadata": {},
     "output_type": "execute_result"
    }
   ],
   "source": [
    "a = :listen"
   ]
  },
  {
   "cell_type": "markdown",
   "metadata": {},
   "source": [
    "## Observations\n",
    "There are two possible observations: the agent either hears the tiger behind the left door or behind the right door. We use a boolean to represent the observations:"
   ]
  },
  {
   "cell_type": "code",
   "execution_count": 7,
   "metadata": {
    "collapsed": true
   },
   "outputs": [],
   "source": [
    "example_observation = true # agent heard the tiger behind the left door\n",
    "# initialization function\n",
    "POMDPs.create_observation(::TigerPOMDP) = true;"
   ]
  },
  {
   "cell_type": "markdown",
   "metadata": {},
   "source": [
    "## Spaces\n",
    "Let's define our state, action and observation spaces."
   ]
  },
  {
   "cell_type": "markdown",
   "metadata": {},
   "source": [
    "### State Space\n",
    "There are only two states in the tiger POMDP: the tiger is either behind the left door or behind the right door. Our state space is simply an array of the states in the problem."
   ]
  },
  {
   "cell_type": "code",
   "execution_count": 8,
   "metadata": {
    "collapsed": true
   },
   "outputs": [],
   "source": [
    "type TigerStateSpace <: AbstractSpace\n",
    "    states::Vector{Bool} \n",
    "end"
   ]
  },
  {
   "cell_type": "markdown",
   "metadata": {},
   "source": [
    "Let's now define the ```states``` and the ```iterator``` functions. Recall, that the ```states``` function returns the state space for a given POMDP type, and the ```iterator``` function returns an iterator for a given space. Here, the iterator function returns an array of the two possible states in our problem."
   ]
  },
  {
   "cell_type": "code",
   "execution_count": 9,
   "metadata": {
    "collapsed": false
   },
   "outputs": [],
   "source": [
    "POMDPs.states(::TigerPOMDP) = TigerStateSpace([true, false])\n",
    "POMDPs.iterator(space::TigerStateSpace) = space.states;\n",
    "POMDPs.state_index(::TigerPOMDP, s::Bool) = (Int64(s) + 1);"
   ]
  },
  {
   "cell_type": "markdown",
   "metadata": {},
   "source": [
    "Recall that in the [tutorial](http://nbviewer.ipython.org/github/sisl/POMDPs.jl/blob/master/examples/GridWorld.ipynb) on MDPs, we also defined a ```rand!``` function that sampled the space. We do not need this function when using QMDP or SARSOP. However, if you wanted to use Monte Carlo solvers solvers like POMCP or DESPOT you would need a function that can sample your spaces. It may be convenient to have these sampling functions if you plan to simulate your policy."
   ]
  },
  {
   "cell_type": "markdown",
   "metadata": {},
   "source": [
    "### Action Space\n",
    "There are three actions in our problem. Once again, we represent the action space as an array of the actions in our problem. The ```actions``` and ```iterator``` functions serve a similar purpose to the ```states``` and ```iterator``` functions above."
   ]
  },
  {
   "cell_type": "code",
   "execution_count": 10,
   "metadata": {
    "collapsed": false
   },
   "outputs": [],
   "source": [
    "type TigerActionSpace <: AbstractSpace\n",
    "    actions::Vector{Symbol} \n",
    "end\n",
    "# define actions function\n",
    "POMDPs.actions(::TigerPOMDP) = TigerActionSpace([:openl, :openr, :listen]); # default\n",
    "POMDPs.actions(::TigerPOMDP, state::Bool, acts::TigerActionSpace) = acts; # convenience (actions do not change in different states)\n",
    "# define iterator function\n",
    "POMDPs.iterator(space::TigerActionSpace) = space.actions;"
   ]
  },
  {
   "cell_type": "markdown",
   "metadata": {},
   "source": [
    "### Observation Space\n",
    "The observation space looks similar to the state space. Recall that the state represents the truth about our system, while the observation is potentially false information recieves about the state. In the tiger POMDP, our observation could give us a false representation of our state. "
   ]
  },
  {
   "cell_type": "code",
   "execution_count": 11,
   "metadata": {
    "collapsed": true
   },
   "outputs": [],
   "source": [
    "type TigerObservationSpace <: AbstractSpace\n",
    "    obs::Vector{Bool} \n",
    "end\n",
    "# function returning observation space\n",
    "POMDPs.observations(::TigerPOMDP) = TigerObservationSpace([true, false]);\n",
    "POMDPs.observations(::TigerPOMDP, s::Bool, obs::TigerObservationSpace) = obs;\n",
    "# function returning an iterator over that space\n",
    "POMDPs.iterator(space::TigerObservationSpace) = space.obs;"
   ]
  },
  {
   "cell_type": "markdown",
   "metadata": {},
   "source": [
    "Now that we've defined the POMDP spaces, let's move on to defining the model functions."
   ]
  },
  {
   "cell_type": "markdown",
   "metadata": {},
   "source": [
    "## Transition and Observation Distributions\n",
    "Before defining the model functions, we first need to create a distributions data-type. In general, our distributions should support sampling and have a ```pdf``` method. If you only want to get a policy from the SARSOP and QMDP solvers, you do not need to worry about implementing a sampling function. However, if you want to simulate the policy, you should implement these functions.\n",
    "\n",
    "Since the transition and observation distributions have identical form, we could just use a single type to serve the needs of both. This will not be the case in general."
   ]
  },
  {
   "cell_type": "code",
   "execution_count": 12,
   "metadata": {
    "collapsed": false
   },
   "outputs": [],
   "source": [
    "# distribution type that will be used for both transitions and observations\n",
    "type TigerDistribution <: AbstractDistribution\n",
    "    p::Float64\n",
    "    it::Vector{Bool}\n",
    "end\n",
    "TigerDistribution() = TigerDistribution(0.5, [true, false])\n",
    "POMDPs.iterator(d::TigerDistribution) = d.it\n",
    "\n",
    "POMDPs.create_transition_distribution(::TigerPOMDP) = TigerDistribution()\n",
    "POMDPs.create_observation_distribution(::TigerPOMDP) = TigerDistribution();"
   ]
  },
  {
   "cell_type": "markdown",
   "metadata": {},
   "source": [
    "We now define the ```pdf``` function. For a discrete problem, this function returns the probability of a given element (state or observation in our case)."
   ]
  },
  {
   "cell_type": "code",
   "execution_count": 13,
   "metadata": {
    "collapsed": false
   },
   "outputs": [],
   "source": [
    "# transition and observation pdf\n",
    "function POMDPs.pdf(d::TigerDistribution, so::Bool)\n",
    "    so ? (return d.p) : (return 1.0-d.p)\n",
    "end;"
   ]
  },
  {
   "cell_type": "markdown",
   "metadata": {},
   "source": [
    "Finally, let's create the sampling functions. "
   ]
  },
  {
   "cell_type": "code",
   "execution_count": 14,
   "metadata": {
    "collapsed": false
   },
   "outputs": [],
   "source": [
    "# samples from transition or observation distribution\n",
    "POMDPs.rand(rng::AbstractRNG, d::TigerDistribution, so::Bool) = rand(rng) <= d.p;"
   ]
  },
  {
   "cell_type": "markdown",
   "metadata": {},
   "source": [
    "This is all we have to do for our distribution functions!"
   ]
  },
  {
   "cell_type": "markdown",
   "metadata": {},
   "source": [
    "## Transition Model\n",
    "Here we define the transition model for the tiger POMDP. The model itself is fairly simple. Our state is represented by the location of the tiger (left or right). The location of the tiger doesn't change when the agent listens. However, after the agent opens the door, it reaches a terminal state. That is the agent either escapes or gets eaten. To simplify our formulation, we simply reset the location of the tiger randomly. We could model this problem with a terminal state (i.e. one in which the agent no longer receives reward) as well. "
   ]
  },
  {
   "cell_type": "code",
   "execution_count": 15,
   "metadata": {
    "collapsed": false
   },
   "outputs": [],
   "source": [
    "# Resets the problem after opening door; does nothing after listening\n",
    "function POMDPs.transition(pomdp::TigerPOMDP, s::Bool, a::Symbol, d::TigerDistribution=create_transition_distribution(pomdp))\n",
    "    if a == :openl || a == :openr\n",
    "        d.p = 0.5\n",
    "    elseif s\n",
    "        d.p = 1.0\n",
    "    else\n",
    "        d.p = 0.0\n",
    "    end\n",
    "    d\n",
    "end;"
   ]
  },
  {
   "cell_type": "markdown",
   "metadata": {},
   "source": [
    "## Reward Model\n",
    "The reward model caputres the immediate objectives of the agent. It recieves a large negative reward for opening the door with the tiger behind it (-100), gets a positive reward for opening the other door (+10), and a small penalty for listening (-1)."
   ]
  },
  {
   "cell_type": "code",
   "execution_count": 16,
   "metadata": {
    "collapsed": false
   },
   "outputs": [],
   "source": [
    "# reward model\n",
    "function POMDPs.reward(pomdp::TigerPOMDP, s::Bool, a::Symbol)\n",
    "    r = 0.0\n",
    "    a == :listen ? (r+=pomdp.r_listen) : (nothing)\n",
    "    if a == :openl\n",
    "        s ? (r += pomdp.r_findtiger) : (r += pomdp.r_escapetiger)\n",
    "    end\n",
    "    if a == :openr\n",
    "        s ? (r += pomdp.r_escapetiger) : (r += pomdp.r_findtiger)\n",
    "    end\n",
    "    return r\n",
    "end\n",
    "POMDPs.reward(pomdp::TigerPOMDP, s::Bool, a::Symbol, sp::Bool) = reward(pomdp, s, a);"
   ]
  },
  {
   "cell_type": "markdown",
   "metadata": {},
   "source": [
    "## Observation Model\n",
    "The observation model captures the uncertaintiy in the agent's lsitening ability. When we listen, we receive a noisy measurement of the tiger's location. "
   ]
  },
  {
   "cell_type": "code",
   "execution_count": 17,
   "metadata": {
    "collapsed": false
   },
   "outputs": [],
   "source": [
    "# observation model\n",
    "function POMDPs.observation(pomdp::TigerPOMDP, a::Symbol, s::Bool, d::TigerDistribution=create_observation_distribution(pomdp))\n",
    "    pc = pomdp.p_listen_correctly\n",
    "    if a == :listen\n",
    "        s ? (d.p = pc) : (d.p = 1.0-pc)\n",
    "    else\n",
    "        d.p = 0.5\n",
    "    end\n",
    "    d\n",
    "end\n",
    "POMDPs.observation(pomdp::TigerPOMDP, \n",
    "                   s::Bool, \n",
    "                   a::Symbol, \n",
    "                   sp::Bool, \n",
    "                   d::TigerDistribution=create_observation_distribution(pomdp)) = observation(pomdp, a, sp, d);"
   ]
  },
  {
   "cell_type": "markdown",
   "metadata": {},
   "source": [
    "## Miscallenous Functions"
   ]
  },
  {
   "cell_type": "markdown",
   "metadata": {},
   "source": [
    "Let's define the ```discount``` function and the functions that return the size of our spaces."
   ]
  },
  {
   "cell_type": "code",
   "execution_count": 18,
   "metadata": {
    "collapsed": true
   },
   "outputs": [],
   "source": [
    "POMDPs.discount(pomdp::TigerPOMDP) = pomdp.discount_factor\n",
    "POMDPs.n_states(::TigerPOMDP) = 2\n",
    "POMDPs.n_actions(::TigerPOMDP) = 3\n",
    "POMDPs.n_observations(::TigerPOMDP) = 2;"
   ]
  },
  {
   "cell_type": "markdown",
   "metadata": {},
   "source": [
    "## Beliefs\n",
    "If you are somewhat familiar with Julia defining all of the above may have been relaitvely simple. However, all POMDPs must be represented with a belief. Implementing beliefs and their updaters can be tricky. Luckily, our solvers abstract away the belief updating. All you need to do is define a function that returns an initial distriubtion over states. This distribution needs to support ```pdf``` and ```rand``` function. We already defined a dsitribution like that, so our job here is simple!"
   ]
  },
  {
   "cell_type": "code",
   "execution_count": 19,
   "metadata": {
    "collapsed": false
   },
   "outputs": [],
   "source": [
    "POMDPs.initial_state_distribution(pomdp::TigerPOMDP) = TigerDistribution(0.5, [true, false]);"
   ]
  },
  {
   "cell_type": "markdown",
   "metadata": {},
   "source": [
    "If you are interested in creating your own beliefs and update schemes check out the [POMDPToolbox](https://github.com/JuliaPOMDP/POMDPToolbox.jl) module which implements a number of beliefs and udpate schemes."
   ]
  },
  {
   "cell_type": "markdown",
   "metadata": {},
   "source": [
    "## SARSOP Solver\n",
    "Let's play around with the [SARSOP.jl](https://github.com/sisl/SARSOP.jl) solver. The module we provide is a wrapper for the SARSOP backend. You can find more information about it [here](http://bigbird.comp.nus.edu.sg/pmwiki/farm/appl/)."
   ]
  },
  {
   "cell_type": "code",
   "execution_count": 20,
   "metadata": {
    "collapsed": false
   },
   "outputs": [
    {
     "name": "stdout",
     "output_type": "stream",
     "text": [
      "Generating a pomdpx file: model.pomdpx\n",
      "\n",
      "Loading the model ...\n",
      "  input file   : model.pomdpx\n",
      "  loading time : 0.00s \n",
      "\n",
      "SARSOP initializing ...\n",
      "  initialization time : 0.00s\n",
      "\n",
      "-------------------------------------------------------------------------------\n",
      " Time   |#Trial |#Backup |LBound    |UBound    |Precision  |#Alphas |#Beliefs  \n",
      "-------------------------------------------------------------------------------\n",
      " 0       0       0        -20        92.8206    112.821     3        1        \n",
      " 0       2       51       -6.2981    63.1396    69.4377     7        16       \n",
      " 0       4       103      0.149651   52.2764    52.1268     9        21       \n",
      " 0       6       151      6.19248    42.0546    35.8621     9        21       \n",
      " 0       8       200      10.3563    35.232     24.8757     12       21       \n",
      " 0       11      250      14.0433    29.5471    15.5037     6        21       \n",
      " 0       14      300      16.545     25.0926    8.54759     10       21       \n",
      " 0.01    17      350      18.2281    21.8163    3.5882      14       21       \n",
      " 0.01    18      400      18.7451    20.9384    2.19328     8        21       \n",
      " 0.01    21      465      19.1109    20.0218    0.910956    5        21       \n",
      " 0.01    22      500      19.2369    19.7071    0.470219    11       21       \n",
      " 0.01    24      550      19.3036    19.5405    0.236865    6        21       \n",
      " 0.01    25      600      19.3369    19.4574    0.120445    13       21       \n",
      " 0.01    27      669      19.3579    19.4049    0.0469305   5        21       \n",
      " 0.01    28      713      19.3643    19.389     0.024739    5        21       \n",
      " 0.01    29      757      19.3676    19.3807    0.0130409   5        21       \n",
      " 0.01    30      801      19.3694    19.3763    0.0068744   5        21       \n",
      " 0.01    31      850      19.3704    19.3739    0.00351433  10       21       \n",
      " 0.01    32      900      19.3709    19.3725    0.00155165  5        21       \n",
      " 0.01    33      936      19.3711    19.3721    0.000976551 8        21       \n",
      "-------------------------------------------------------------------------------\n",
      "\n",
      "SARSOP finishing ...\n",
      "  target precision reached\n",
      "  target precision  : 0.001000\n",
      "  precision reached : 0.000977 \n",
      "\n",
      "-------------------------------------------------------------------------------\n",
      " Time   |#Trial |#Backup |LBound    |UBound    |Precision  |#Alphas |#Beliefs  \n",
      "-------------------------------------------------------------------------------\n",
      " 0.01    33      936      19.3711    19.3721    0.000976551 5        21       \n",
      "-------------------------------------------------------------------------------\n",
      "\n",
      "Writing out policy ...\n",
      "  output file : out.policy\n",
      "\n"
     ]
    },
    {
     "data": {
      "text/plain": [
       "SARSOP.POMDPPolicy(\"out.policy\",POMDPXFiles.POMDPAlphas(2x5 Array{Float64,2}:\n",
       " -81.5975   3.01448  24.6954    28.4025  19.3711\n",
       "  28.4025  24.6954    3.01452  -81.5975  19.3711,[0,2,2,1,2]),TigerPOMDP(-1.0,-100.0,10.0,0.85,0.95),Any[:openl,:openr,:listen])"
      ]
     },
     "execution_count": 20,
     "metadata": {},
     "output_type": "execute_result"
    }
   ],
   "source": [
    "using SARSOP # load the module\n",
    "# initialize our tiger POMDP\n",
    "pomdp = TigerPOMDP()\n",
    "\n",
    "# initialize the solver\n",
    "solver = SARSOPSolver()\n",
    "# run the solve function\n",
    "policy = solve(solver, pomdp)"
   ]
  },
  {
   "cell_type": "code",
   "execution_count": 21,
   "metadata": {
    "collapsed": false
   },
   "outputs": [
    {
     "data": {
      "text/plain": [
       "2x5 Array{Float64,2}:\n",
       " -81.5975   3.01448  24.6954    28.4025  19.3711\n",
       "  28.4025  24.6954    3.01452  -81.5975  19.3711"
      ]
     },
     "execution_count": 21,
     "metadata": {},
     "output_type": "execute_result"
    }
   ],
   "source": [
    "# we can retrieve the alpha vectors by calling\n",
    "alphas(policy)"
   ]
  },
  {
   "cell_type": "markdown",
   "metadata": {},
   "source": [
    "Let's now see how our policy changes with the belief."
   ]
  },
  {
   "cell_type": "code",
   "execution_count": 22,
   "metadata": {
    "collapsed": false
   },
   "outputs": [
    {
     "data": {
      "text/plain": [
       "POMDPToolbox.DiscreteBelief([0.5,0.5],[0.5,0.5],2,true)"
      ]
     },
     "execution_count": 22,
     "metadata": {},
     "output_type": "execute_result"
    }
   ],
   "source": [
    "# use POMDPToolbox for beliefs\n",
    "using POMDPToolbox\n",
    "\n",
    "# let's initialize the beliefs\n",
    "b = DiscreteBelief(2); # the initial prior"
   ]
  },
  {
   "cell_type": "code",
   "execution_count": 23,
   "metadata": {
    "collapsed": false
   },
   "outputs": [
    {
     "data": {
      "text/plain": [
       ":listen"
      ]
     },
     "execution_count": 23,
     "metadata": {},
     "output_type": "execute_result"
    }
   ],
   "source": [
    "a = action(policy, b) # index of action, you need to convert this to the true action, support for automatic conversion is coming soon"
   ]
  },
  {
   "cell_type": "markdown",
   "metadata": {},
   "source": [
    "Let's simulate our policy. We'll use POMDPToolbox to do the simulation. As mentioned earlier, in a POMDP, the decision is based on a belief. However, each policy (comes from the solver modules) implements its own belief udpating scheme, so you do not need to worry about deling with beliefs. The only thing you need is to define an ```initial_state_distribution```. "
   ]
  },
  {
   "cell_type": "code",
   "execution_count": 24,
   "metadata": {
    "collapsed": false
   },
   "outputs": [
    {
     "name": "stdout",
     "output_type": "stream",
     "text": [
      "Total reward: 28.951808801120205\n"
     ]
    }
   ],
   "source": [
    "using POMDPToolbox # for simulation\n",
    "\n",
    "pomdp = TigerPOMDP() # initialize problem\n",
    "init_dist = initial_state_distribution(pomdp) # initialize distriubtion over state\n",
    "\n",
    "up = updater(policy) # belief updater for our policy, SARSOP uses a discrete Bayesian filter\n",
    "hist = HistoryRecorder(max_steps=100, rng=MersenneTwister(1)) # history recorder that keeps track of states, observations and beliefs\n",
    "\n",
    "r = simulate(hist, pomdp, policy, up, init_dist)\n",
    "\n",
    "println(\"Total reward: $r\")"
   ]
  },
  {
   "cell_type": "markdown",
   "metadata": {},
   "source": [
    "Notice that over the first six time steps, the policy is fairly simple. We listen twice, and then decide which door to open. However, in the following steps, we get a mix of observations, which makes the decision harder. Our agent does not open a door, because its belief is still uniform at the last time step! "
   ]
  },
  {
   "cell_type": "markdown",
   "metadata": {},
   "source": [
    "## QMDP Solver\n",
    "We will briefly go over the [QMDP.jl](https://github.com/sisl/QMDP.jl) solver. You should use QMDP with a word of caution. QMDP assumes that all state uncetainty dissapears in the next time step. This could lead to bad policies in problems with information gathering actions. For example, in the tiger POMDP listening is an information gathering action, and the resulting QMDP policy is quite poor. However, QMDP can work very well in problems where the state uncertainity is not impacted by the agent's action (for example systems with noisy sensor measurements)."
   ]
  },
  {
   "cell_type": "code",
   "execution_count": 25,
   "metadata": {
    "collapsed": false
   },
   "outputs": [
    {
     "name": "stdout",
     "output_type": "stream",
     "text": [
      "Iteration : 1, residual: 14.75, iteration run-time: 1.7425e-5, total run-time: 1.7425e-5\n",
      "Iteration : 2, residual: 12.59046875, iteration run-time: 9.781e-6, total run-time: 2.7206e-5\n",
      "Iteration : 3, residual: 11.564691406249999, iteration run-time: 4.567e-6, total run-time: 3.1773e-5\n",
      "Iteration : 4, residual: 10.943236428222654, iteration run-time: 4.029e-6, total run-time: 3.5802e-5\n",
      "Iteration : 5, residual: 10.2558588273941, iteration run-time: 3.944e-6, total run-time: 3.9746e-5\n",
      "Iteration : 6, residual: 9.587976314837448, iteration run-time: 3.873e-6, total run-time: 4.3619000000000004e-5\n",
      "Iteration : 7, residual: 8.957886507199987, iteration run-time: 3.643e-6, total run-time: 4.7262e-5\n",
      "Iteration : 8, residual: 8.367828168991792, iteration run-time: 3.448e-6, total run-time: 5.071e-5\n",
      "Iteration : 9, residual: 7.816304847983972, iteration run-time: 3.345e-6, total run-time: 5.4055e-5\n",
      "Iteration : 10, residual: 7.301052156282381, iteration run-time: 4.197e-6, total run-time: 5.8252000000000004e-5\n",
      "Iteration : 11, residual: 6.8197456599030915, iteration run-time: 3.59e-6, total run-time: 6.184200000000001e-5\n",
      "Iteration : 12, residual: 6.370163598662359, iteration run-time: 3.433e-6, total run-time: 6.527500000000001e-5\n",
      "Iteration : 13, residual: 5.9502184661618, iteration run-time: 3.166e-6, total run-time: 6.844100000000002e-5\n",
      "Iteration : 14, residual: 5.557957422333274, iteration run-time: 6.603e-6, total run-time: 7.504400000000002e-5\n",
      "Iteration : 15, residual: 5.191555653202798, iteration run-time: 4.642e-6, total run-time: 7.968600000000002e-5\n",
      "Iteration : 16, residual: 4.849308471382614, iteration run-time: 3.777e-6, total run-time: 8.346300000000002e-5\n",
      "Iteration : 17, residual: 4.529623527415282, iteration run-time: 6.35e-6, total run-time: 8.981300000000003e-5\n",
      "Iteration : 18, residual: 4.231013435561891, iteration run-time: 6.471e-6, total run-time: 9.628400000000003e-5\n",
      "Iteration : 19, residual: 3.9520888618093863, iteration run-time: 7.3387e-5, total run-time: 0.00016967100000000004\n",
      "Iteration : 20, residual: 3.6915520617660036, iteration run-time: 4.079e-6, total run-time: 0.00017375000000000005\n",
      "Iteration : 21, residual: 3.448190843167879, iteration run-time: 3.727e-6, total run-time: 0.00017747700000000005\n",
      "Iteration : 22, residual: 3.2208729260632936, iteration run-time: 3.651e-6, total run-time: 0.00018112800000000005\n",
      "Iteration : 23, residual: 3.00854067471343, iteration run-time: 3.45e-6, total run-time: 0.00018457800000000005\n",
      "Iteration : 24, residual: 2.8102061767669397, iteration run-time: 6.399e-6, total run-time: 0.00019097700000000005\n",
      "Iteration : 25, residual: 2.624946646829443, iteration run-time: 3.989e-6, total run-time: 0.00019496600000000006\n",
      "Iteration : 26, residual: 2.451900133045797, iteration run-time: 3.718e-6, total run-time: 0.00019868400000000005\n",
      "Iteration : 27, residual: 2.290261506721066, iteration run-time: 3.555e-6, total run-time: 0.00020223900000000005\n",
      "Iteration : 28, residual: 2.13927871632049, iteration run-time: 3.457e-6, total run-time: 0.00020569600000000006\n",
      "Iteration : 29, residual: 1.9982492884203396, iteration run-time: 3.278e-6, total run-time: 0.00020897400000000006\n",
      "Iteration : 30, residual: 1.866517059329368, iteration run-time: 3.608e-6, total run-time: 0.00021258200000000006\n",
      "Iteration : 31, residual: 1.7434691221742469, iteration run-time: 3.597e-6, total run-time: 0.00021617900000000007\n",
      "Iteration : 32, residual: 1.628532975244866, iteration run-time: 3.421e-6, total run-time: 0.00021960000000000008\n",
      "Iteration : 33, residual: 1.5211738583317356, iteration run-time: 3.666e-6, total run-time: 0.00022326600000000007\n",
      "Iteration : 34, residual: 1.4208922646616031, iteration run-time: 3.432e-6, total run-time: 0.00022669800000000006\n",
      "Iteration : 35, residual: 1.32722161685669, iteration run-time: 3.347e-6, total run-time: 0.00023004500000000006\n",
      "Iteration : 36, residual: 1.2397260961028849, iteration run-time: 3.742e-6, total run-time: 0.00023378700000000006\n",
      "Iteration : 37, residual: 1.1579986144276404, iteration run-time: 3.529e-6, total run-time: 0.00023731600000000006\n",
      "Iteration : 38, residual: 1.0816589206533251, iteration run-time: 3.444e-6, total run-time: 0.00024076000000000005\n",
      "Iteration : 39, residual: 1.0103518312128017, iteration run-time: 3.649e-6, total run-time: 0.00024440900000000007\n",
      "Iteration : 40, residual: 0.9437455775971557, iteration run-time: 3.607e-6, total run-time: 0.00024801600000000005\n",
      "Iteration : 41, residual: 0.8815302627452866, iteration run-time: 3.704e-6, total run-time: 0.00025172000000000004\n",
      "Iteration : 42, residual: 0.8234164191945297, iteration run-time: 3.373e-6, total run-time: 0.000255093\n",
      "Iteration : 43, residual: 0.7691336622836786, iteration run-time: 3.913e-6, total run-time: 0.000259006\n",
      "Iteration : 44, residual: 0.7184294321414484, iteration run-time: 3.412e-6, total run-time: 0.000262418\n",
      "Iteration : 45, residual: 0.6710678186085772, iteration run-time: 3.209e-6, total run-time: 0.000265627\n",
      "Iteration : 46, residual: 0.6268284636247756, iteration run-time: 3.506e-6, total run-time: 0.000269133\n",
      "Iteration : 47, residual: 0.5855055359753294, iteration run-time: 3.738e-6, total run-time: 0.000272871\n",
      "Iteration : 48, residual: 0.5469067736256363, iteration run-time: 3.976e-6, total run-time: 0.000276847\n",
      "Iteration : 49, residual: 0.5108525891891986, iteration run-time: 3.713e-6, total run-time: 0.00028056\n",
      "Iteration : 50, residual: 0.4771752343663138, iteration run-time: 3.451e-6, total run-time: 0.00028401100000000003\n"
     ]
    },
    {
     "data": {
      "text/plain": [
       "QMDP.QMDPPolicy(2x3 Array{Float64,2}:\n",
       "  83.2389  193.239   182.354\n",
       " 193.466    83.6846  182.577,Any[:openl,:openr,:listen],TigerPOMDP(-1.0,-100.0,10.0,0.85,0.95))"
      ]
     },
     "execution_count": 25,
     "metadata": {},
     "output_type": "execute_result"
    }
   ],
   "source": [
    "using QMDP\n",
    "\n",
    "# initialize the solver\n",
    "# key-word args are the maximum number of iterations the solver will run for, and the Bellman tolerance\n",
    "solver = QMDPSolver(max_iterations=50, tolerance=1e-3) \n",
    "\n",
    "# run the solver\n",
    "qmdp_policy = solve(solver, pomdp, verbose=true)"
   ]
  },
  {
   "cell_type": "code",
   "execution_count": 26,
   "metadata": {
    "collapsed": false
   },
   "outputs": [
    {
     "data": {
      "text/plain": [
       "2x3 Array{Float64,2}:\n",
       "  83.2389  193.239   182.354\n",
       " 193.466    83.6846  182.577"
      ]
     },
     "execution_count": 26,
     "metadata": {},
     "output_type": "execute_result"
    }
   ],
   "source": [
    "qmdp_policy.alphas"
   ]
  },
  {
   "cell_type": "markdown",
   "metadata": {},
   "source": [
    "Notice that these alpha-vectors differ from those compute by SARSOP. Let's see how the policy looks in simulation. We'll use the same procedure to simulate the QMDP policy. "
   ]
  },
  {
   "cell_type": "code",
   "execution_count": 27,
   "metadata": {
    "collapsed": false
   },
   "outputs": [
    {
     "name": "stdout",
     "output_type": "stream",
     "text": [
      "Total reward: 28.951808801120205\n"
     ]
    }
   ],
   "source": [
    "pomdp = TigerPOMDP() # initialize problem\n",
    "init_dist = initial_state_distribution(pomdp) # initialize distriubtion over state\n",
    "\n",
    "up = updater(policy) # belief updater for our policy, SARSOP uses a discrete Bayesian filter\n",
    "hist = HistoryRecorder(max_steps=100, rng=MersenneTwister(1)) # history recorder that keeps track of states, observations and beliefs\n",
    "\n",
    "r = simulate(hist, pomdp, policy, up, init_dist)\n",
    "\n",
    "println(\"Total reward: $r\")"
   ]
  },
  {
   "cell_type": "markdown",
   "metadata": {},
   "source": [
    "The results are identical! At least for this problem. In general, if you are dealing with a complex problem, it is good to compare the SARSOP and QMDP policies. This framework makes comparing the two policies very simple once you have defined the problem! "
   ]
  },
  {
   "cell_type": "code",
   "execution_count": null,
   "metadata": {
    "collapsed": true
   },
   "outputs": [],
   "source": []
  }
 ],
 "metadata": {
  "kernelspec": {
   "display_name": "Julia 0.5.0",
   "language": "julia",
   "name": "julia-0.5"
  },
  "language_info": {
   "file_extension": ".jl",
   "mimetype": "application/julia",
   "name": "julia",
   "version": "0.5.0"
  }
 },
 "nbformat": 4,
 "nbformat_minor": 0
}
