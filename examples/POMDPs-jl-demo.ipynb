{
 "cells": [
  {
   "cell_type": "code",
   "execution_count": 1,
   "metadata": {
    "collapsed": false
   },
   "outputs": [
    {
     "name": "stderr",
     "output_type": "stream",
     "text": [
      "INFO: Nothing to be done\n",
      "INFO: METADATA is out-of-date — you may not have the latest version of POMDPs\n",
      "INFO: Use `Pkg.update()` to get the latest versions of your packages\n"
     ]
    }
   ],
   "source": [
    "Pkg.add(\"POMDPs\")\n",
    "using POMDPs"
   ]
  },
  {
   "cell_type": "code",
   "execution_count": 2,
   "metadata": {
    "collapsed": false,
    "scrolled": true
   },
   "outputs": [
    {
     "name": "stdout",
     "output_type": "stream",
     "text": [
      "Package already installed\n"
     ]
    },
    {
     "name": "stderr",
     "output_type": "stream",
     "text": [
      "INFO: Cloning POMDPToolbox from https://github.com/JuliaPOMDP/POMDPToolbox.jl\n"
     ]
    },
    {
     "data": {
      "text/plain": [
       "POMDPToolbox.DiscreteBelief"
      ]
     },
     "execution_count": 2,
     "metadata": {},
     "output_type": "execute_result"
    }
   ],
   "source": [
    "POMDPs.add(\"POMDPToolbox\")\n",
    "using POMDPToolbox # for DiscreteBelief, HistoryRecorder, etc\n",
    "typealias Categorical DiscreteBelief # just a vector of probabilities"
   ]
  },
  {
   "cell_type": "code",
   "execution_count": 3,
   "metadata": {
    "collapsed": false
   },
   "outputs": [
    {
     "ename": "LoadError",
     "evalue": "LoadError: could not open file /home/juser/NeedlePOMDP/examples/helpers.jl\nwhile loading In[3], in expression starting on line 2",
     "output_type": "error",
     "traceback": [
      "LoadError: could not open file /home/juser/NeedlePOMDP/examples/helpers.jl\nwhile loading In[3], in expression starting on line 2",
      "",
      " in include_from_node1(::String) at ./loading.jl:488"
     ]
    }
   ],
   "source": [
    "importall POMDPs\n",
    "include(\"helpers.jl\");"
   ]
  },
  {
   "cell_type": "code",
   "execution_count": 4,
   "metadata": {
    "collapsed": false,
    "scrolled": true
   },
   "outputs": [
    {
     "ename": "LoadError",
     "evalue": "LoadError: UndefVarError: plot_chain not defined\nwhile loading In[4], in expression starting on line 1",
     "output_type": "error",
     "traceback": [
      "LoadError: UndefVarError: plot_chain not defined\nwhile loading In[4], in expression starting on line 1",
      ""
     ]
    }
   ],
   "source": [
    "plot_chain(4, fill=Dict(4=>\"green\"))"
   ]
  },
  {
   "cell_type": "code",
   "execution_count": 5,
   "metadata": {
    "collapsed": false
   },
   "outputs": [
    {
     "data": {
      "text/plain": [
       "discount (generic function with 2 methods)"
      ]
     },
     "execution_count": 5,
     "metadata": {},
     "output_type": "execute_result"
    }
   ],
   "source": [
    "type ChainMDP <: MDP{Int, Bool} # left is false, right is true\n",
    "    len::Int\n",
    "    p_success::Float64\n",
    "    discount::Float64\n",
    "end\n",
    "discount(mdp::ChainMDP) = mdp.discount"
   ]
  },
  {
   "cell_type": "code",
   "execution_count": 6,
   "metadata": {
    "collapsed": false
   },
   "outputs": [
    {
     "data": {
      "text/plain": [
       "create_transition_distribution (generic function with 2 methods)"
      ]
     },
     "execution_count": 6,
     "metadata": {},
     "output_type": "execute_result"
    }
   ],
   "source": [
    "create_transition_distribution(mdp::ChainMDP) = Categorical(mdp.len)"
   ]
  },
  {
   "cell_type": "code",
   "execution_count": 7,
   "metadata": {
    "collapsed": false
   },
   "outputs": [
    {
     "data": {
      "text/plain": [
       "transition (generic function with 4 methods)"
      ]
     },
     "execution_count": 7,
     "metadata": {},
     "output_type": "execute_result"
    }
   ],
   "source": [
    "# the transition function returns the distribution of sp given that action a is taken in state s\n",
    "function transition(mdp::ChainMDP, s::Int, a::Bool, d::Categorical=create_transition_distribution(mdp))\n",
    "    fill!(d, 0.0)\n",
    "    if a == true\n",
    "        success = min(s+1, mdp.len)\n",
    "        failure = max(s-1, 1)\n",
    "    else # false\n",
    "        success = max(s-1, 1)\n",
    "        failure = min(s+1, mdp.len)\n",
    "    end\n",
    "    d[success] = mdp.p_success\n",
    "    d[failure] = 1.0 - mdp.p_success\n",
    "    return d\n",
    "end"
   ]
  },
  {
   "cell_type": "code",
   "execution_count": 8,
   "metadata": {
    "collapsed": false
   },
   "outputs": [
    {
     "data": {
      "text/plain": [
       "reward (generic function with 3 methods)"
      ]
     },
     "execution_count": 8,
     "metadata": {},
     "output_type": "execute_result"
    }
   ],
   "source": [
    "function reward(mdp::ChainMDP, s::Int, a::Bool)\n",
    "    if s == mdp.len\n",
    "        return 1.0\n",
    "    else\n",
    "        return 0.0\n",
    "    end \n",
    "end"
   ]
  },
  {
   "cell_type": "code",
   "execution_count": null,
   "metadata": {
    "collapsed": true
   },
   "outputs": [],
   "source": []
  },
  {
   "cell_type": "code",
   "execution_count": 9,
   "metadata": {
    "collapsed": false
   },
   "outputs": [
    {
     "data": {
      "text/plain": [
       "ChainMDP(4,0.7,0.9)"
      ]
     },
     "execution_count": 9,
     "metadata": {},
     "output_type": "execute_result"
    }
   ],
   "source": [
    "mdp = ChainMDP(4, 0.7, 0.9)"
   ]
  },
  {
   "cell_type": "code",
   "execution_count": 10,
   "metadata": {
    "collapsed": false
   },
   "outputs": [
    {
     "data": {
      "text/plain": [
       "POMDPToolbox.DiscreteBelief([0.3,0.7,0.0,0.0])"
      ]
     },
     "execution_count": 10,
     "metadata": {},
     "output_type": "execute_result"
    }
   ],
   "source": [
    "transition(mdp, 1, true)"
   ]
  },
  {
   "cell_type": "code",
   "execution_count": 11,
   "metadata": {
    "collapsed": false
   },
   "outputs": [
    {
     "data": {
      "text/plain": [
       "0.0"
      ]
     },
     "execution_count": 11,
     "metadata": {},
     "output_type": "execute_result"
    }
   ],
   "source": [
    "reward(mdp, 1, true)"
   ]
  },
  {
   "cell_type": "code",
   "execution_count": 12,
   "metadata": {
    "collapsed": false
   },
   "outputs": [
    {
     "data": {
      "text/plain": [
       "0.0"
      ]
     },
     "execution_count": 12,
     "metadata": {},
     "output_type": "execute_result"
    }
   ],
   "source": [
    "reward(mdp, 1, true)"
   ]
  },
  {
   "cell_type": "code",
   "execution_count": null,
   "metadata": {
    "collapsed": true
   },
   "outputs": [],
   "source": []
  },
  {
   "cell_type": "code",
   "execution_count": null,
   "metadata": {
    "collapsed": true
   },
   "outputs": [],
   "source": []
  },
  {
   "cell_type": "code",
   "execution_count": 13,
   "metadata": {
    "collapsed": false
   },
   "outputs": [],
   "source": [
    "rec = HistoryRecorder(max_steps=100);"
   ]
  },
  {
   "cell_type": "code",
   "execution_count": 14,
   "metadata": {
    "collapsed": false
   },
   "outputs": [
    {
     "data": {
      "text/plain": [
       "POMDPToolbox.VectorPolicy{Int64,Bool}(ChainMDP(4,0.7,0.9),Bool[true,true,true,true])"
      ]
     },
     "execution_count": 14,
     "metadata": {},
     "output_type": "execute_result"
    }
   ],
   "source": [
    "policy = VectorPolicy(mdp, fill(true, 4))"
   ]
  },
  {
   "cell_type": "code",
   "execution_count": 15,
   "metadata": {
    "collapsed": false,
    "scrolled": true
   },
   "outputs": [
    {
     "data": {
      "text/plain": [
       "2.5514399145469504"
      ]
     },
     "execution_count": 15,
     "metadata": {},
     "output_type": "execute_result"
    }
   ],
   "source": [
    "simulate(rec, mdp, policy, 1)"
   ]
  },
  {
   "cell_type": "code",
   "execution_count": null,
   "metadata": {
    "collapsed": true
   },
   "outputs": [],
   "source": []
  },
  {
   "cell_type": "code",
   "execution_count": 16,
   "metadata": {
    "collapsed": false
   },
   "outputs": [
    {
     "name": "stderr",
     "output_type": "stream",
     "text": [
      "WARNING: using MCTS.mdp in module Main conflicts with an existing identifier.\n"
     ]
    }
   ],
   "source": [
    "using MCTS\n",
    "solver = MCTSSolver(enable_tree_vis=true)\n",
    "mcts_pol = solve(solver, mdp);"
   ]
  },
  {
   "cell_type": "code",
   "execution_count": 17,
   "metadata": {
    "collapsed": false
   },
   "outputs": [
    {
     "data": {
      "text/plain": [
       "6.011218487714211"
      ]
     },
     "execution_count": 17,
     "metadata": {},
     "output_type": "execute_result"
    }
   ],
   "source": [
    "simulate(rec, mdp, mcts_pol, 1)"
   ]
  },
  {
   "cell_type": "code",
   "execution_count": 18,
   "metadata": {
    "collapsed": false
   },
   "outputs": [
    {
     "data": {
      "text/html": [
       "    <div id=\"treevisRwXvPpka\">\n",
       "    <style>\n",
       "        \n",
       ".node {\n",
       "    cursor: pointer;\n",
       "}\n",
       "\n",
       ".node circle {\n",
       "\t  fill: #fff;\n",
       "\t  stroke: steelblue;\n",
       "\t  stroke-width: 3px;\n",
       "}\n",
       "\n",
       ".node path {\n",
       "    fill: #ffffff;\n",
       "    /* stroke: steelblue; */\n",
       "    stroke-width: 2px;\n",
       "}\n",
       ".node text {\n",
       "    font-family: Arial, Helvetica, sans-serif;\n",
       "    font-style: normal;\n",
       "    font-size: 12px;\n",
       "}\n",
       ".link /* path */ {\n",
       "    fill: none;\n",
       "    stroke: #cccccc;\n",
       "    stroke-width: 2px;\n",
       "}\n",
       ".link text {\n",
       "    font-family: Arial, Helvetica, sans-serif;\n",
       "    font-style: normal;\n",
       "    font-size: 12px;\n",
       "}\n",
       ".hover text{\n",
       "    font-family: Arial, Helvetica, sans-serif;\n",
       "    font-style: normal;\n",
       "    font-size: 12px;\n",
       "}\n",
       "\n",
       "    </style>\n",
       "    <script>\n",
       "       (function(){\n",
       "        var treeData = {\"2\":{\"Q\":3.1267853792860403,\"tag\":\"true\",\"children_ids\":[1,7],\"N\":62693,\"id\":2,\"tt_tag\":\"true\",\"type\":\"action\"},\"11\":{\"Q\":0.4786671014165673,\"tag\":\"true\",\"children_ids\":[4,10],\"N\":3344,\"id\":11,\"tt_tag\":\"true\",\"type\":\"action\"},\"7\":{\"tag\":\"3\",\"children_ids\":[8,9],\"N\":24717,\"id\":7,\"tt_tag\":\"3\",\"type\":\"state\"},\"9\":{\"Q\":0.0,\"tag\":\"false\",\"children_ids\":[4],\"N\":3,\"id\":9,\"tt_tag\":\"false\",\"type\":\"action\"},\"10\":{\"tag\":\"1\",\"children_ids\":[11,12],\"N\":3447,\"id\":10,\"tt_tag\":\"1\",\"type\":\"state\"},\"8\":{\"Q\":1.8468485203572573,\"tag\":\"true\",\"children_ids\":[1,4],\"N\":24714,\"id\":8,\"tt_tag\":\"true\",\"type\":\"action\"},\"6\":{\"Q\":0.29758242857142847,\"tag\":\"false\",\"children_ids\":[7,10],\"N\":21,\"id\":6,\"tt_tag\":\"false\",\"type\":\"action\"},\"4\":{\"tag\":\"2\",\"children_ids\":[5,6],\"N\":9088,\"id\":4,\"tt_tag\":\"2\",\"type\":\"state\"},\"3\":{\"Q\":1.75318675,\"tag\":\"false\",\"children_ids\":[1,7],\"N\":24,\"id\":3,\"tt_tag\":\"false\",\"type\":\"action\"},\"5\":{\"Q\":0.9335719724690634,\"tag\":\"true\",\"children_ids\":[7,10],\"N\":9067,\"id\":5,\"tt_tag\":\"true\",\"type\":\"action\"},\"12\":{\"Q\":0.23634414978640794,\"tag\":\"false\",\"children_ids\":[4,10],\"N\":103,\"id\":12,\"tt_tag\":\"false\",\"type\":\"action\"},\"1\":{\"tag\":\"4\",\"children_ids\":[2,3],\"N\":62717,\"id\":1,\"tt_tag\":\"4\",\"type\":\"state\"}};\n",
       "        var rootID = 10;\n",
       "        var div = \"treevisRwXvPpka\";\n",
       "        // ************** Generate the tree diagram\t *****************\n",
       "// var margin = {top: 20, right: 120, bottom: 20, left: 120},\n",
       "var margin = {top: 20, right: 120, bottom: 80, left: 120},\n",
       "\twidth = $(\"#\"+div).width() - margin.right - margin.left,\n",
       "    height = 600 - margin.top - margin.bottom;\n",
       "    // TODO make height a parameter of TreeVisualizer\n",
       "\t\n",
       "var i = 0,\n",
       "\tduration = 750,\n",
       "\troot;\n",
       "\n",
       "if (typeof d3 === 'undefined') {\n",
       "    loadScript(\"https://d3js.org/d3.v3.js\", showTree)\n",
       "} else {\n",
       "    showTree()\n",
       "}\n",
       "\n",
       "function loadScript(url, callback)\n",
       "{\n",
       "    console.log(\"starting script load...\")\n",
       "    // Adding the script tag to the head as suggested before\n",
       "    var head = document.getElementsByTagName('head')[0];\n",
       "    var script = document.createElement('script');\n",
       "    script.type = 'text/javascript';\n",
       "    script.src = url;\n",
       "\n",
       "    // Then bind the event to the callback function.\n",
       "    // There are several events for cross browser compatibility.\n",
       "    script.onreadystatechange = callback;\n",
       "    script.onload = callback;\n",
       "\n",
       "    // Fire the loading\n",
       "    head.appendChild(script);\n",
       "}\n",
       "\n",
       "\n",
       "function showTree() {\n",
       "    var tree = d3.layout.tree()\n",
       "        .size([width, height]);\n",
       "\n",
       "    var diagonal = d3.svg.diagonal();\n",
       "        //.projection(function(d) { return [d.y, d.x]; });\n",
       "        // uncomment above to make the tree go horizontally\n",
       "\n",
       "    if (d3.select(\"#\"+div+\"_svg\").empty()) {\n",
       "        d3.select(\"#\"+div).append(\"svg\")\n",
       "            .attr(\"id\", div+\"_svg\")\n",
       "            .attr(\"width\", width + margin.right + margin.left)\n",
       "            .attr(\"height\", height + margin.top + margin.bottom)\n",
       "    }\n",
       "\n",
       "    d3.select(\"#\"+div+\"_svg\").selectAll(\"*\").remove();\n",
       "\n",
       "    var svg = d3.select(\"#\"+div+\"_svg\")\n",
       "        .append(\"g\")\n",
       "            .attr(\"transform\", \"translate(\" + margin.left + \",\" + margin.top + \")\");\n",
       "\n",
       "    // console.log(\"tree data:\");\n",
       "    // console.log(treeData[rootID]);\n",
       "    root = createDisplayNode(treeData[rootID]);\n",
       "    root.x0 = width / 2;\n",
       "    root.y0 = 0;\n",
       "\n",
       "    // find maxima and minima for \n",
       "    var maxQ = 0.0;\n",
       "    var minQ = 0.0;\n",
       "    var maxN = 0;\n",
       "    for (var id in treeData) {\n",
       "      data = treeData[id];\n",
       "      if (data.type==\"action\") {\n",
       "        if (data.Q > maxQ) {\n",
       "          maxQ = data.Q\n",
       "        } else if (data.Q < minQ) {\n",
       "          minQ = data.Q\n",
       "        }\n",
       "        if (data.N > maxN) {\n",
       "          maxN = data.N\n",
       "        }\n",
       "      }\n",
       "    }\n",
       "    // console.log(\"maxN: \" + maxN)\n",
       "\n",
       "    update(root);\n",
       "    console.log(\"tree should appear\");\n",
       "\n",
       "    function createDisplayNode(nd) {\n",
       "      var dnode = {\"dataID\":nd.id,\n",
       "                   \"children\":null,\n",
       "                   \"_children\":null};\n",
       "      if (nd.type==\"action\") {\n",
       "          dnode.Q = nd.Q;\n",
       "      }\n",
       "      return dnode;\n",
       "    }\n",
       "\n",
       "    function initializeChildren(d) {\n",
       "      // create children\n",
       "      var ndata = treeData[d.dataID];\n",
       "      d.children = [];\n",
       "      if (ndata.children_ids) {\n",
       "        for (var i = 0; i < ndata.children_ids.length; i++) {\n",
       "          var id = ndata.children_ids[i];\n",
       "          if (!treeData[id]) {\n",
       "            alert(\"bad node id:\"+id+\" (in node \"+d.dataID+\")\")\n",
       "          } else {\n",
       "              d.children.push(createDisplayNode(treeData[id]));\n",
       "          }\n",
       "        }\n",
       "      }\n",
       "    }\n",
       "\n",
       "    function tooltip(d) {\n",
       "        var data = treeData[d.dataID]\n",
       "        var tt = data.tt_tag + \"\\n\" +\n",
       "        \"id: \" + data.id + \"\\n\" +\n",
       "        \"N: \" + data.N;\n",
       "        if (data.type==\"action\") {\n",
       "            tt += \"\\nQ: \" + data.Q;\n",
       "        }\n",
       "        return tt;\n",
       "    }\n",
       "    /*\n",
       "    function collapse(d) {\n",
       "        if (\"children\" in d && d.children) {\n",
       "            d._children = d.children;\n",
       "            d._children.forEach(collapse);\n",
       "            d.children = null;\n",
       "        }\n",
       "    }\n",
       "    */\n",
       "\n",
       "    function update(source) {\n",
       "\n",
       "      // Compute the new tree layout.\n",
       "      var nodes = tree.nodes(root).reverse(),\n",
       "          links = tree.links(nodes);\n",
       "\n",
       "      // Normalize for fixed-depth.\n",
       "      // nodes.forEach(function(d) { d.y = d.depth * 180; });\n",
       "\n",
       "      /*\n",
       "      var newHeight = height;\n",
       "      nodes.forEach(function(d) { if (d.y > newHeight) {newHeight = d.y;} });\n",
       "      svg.attr(\"height\", height + margin.top + margin.bottom);\n",
       "      */\n",
       "\n",
       "      // Update the nodes…\n",
       "      var node = svg.selectAll(\"g.node\")\n",
       "          .data(nodes, function(d) { return d.id || (d.id = ++i); });\n",
       "\n",
       "      // Enter any new nodes at the parent's previous position.\n",
       "      var nodeEnter = node.enter().append(\"g\")\n",
       "          .attr(\"class\", \"node\")\n",
       "          .attr(\"transform\", function(d) { return \"translate(\" + source.x0 + \",\" + source.y0 + \")\"; })\n",
       "          .on(\"click\", click);\n",
       "\n",
       "      nodeEnter.append(\"circle\")\n",
       "          .attr(\"r\", 1e-6)\n",
       "          .style(\"fill\", function(d) { return d._children ? \"lightsteelblue\" : \"#fff\"; });\n",
       "\n",
       "      /*\n",
       "      nodeEnter.append(\"text\")\n",
       "          .attr(\"x\", function(d) { return d.children || d._children ? -13 : 13; })\n",
       "          .attr(\"dy\", \".35em\")\n",
       "          .attr(\"text-anchor\", function(d) { return d.children || d._children ? \"end\" : \"start\"; })\n",
       "          .text(function(d) { return d.tag; })\n",
       "          .style(\"fill-opacity\", 1e-6);\n",
       "          */\n",
       "\n",
       "      /*\n",
       "      nodeEnter.append(\"text\")\n",
       "          .attr(\"y\", 25)\n",
       "          .attr(\"text-anchor\", \"middle\")\n",
       "          .text(function(d) { return d.tag + \" N: \" + d.N + (d.type==\"action\"? \" Q: \" + d.Q.toPrecision(4):\"\"); })\n",
       "          .style(\"fill-opacity\", 1e-6);\n",
       "          */\n",
       "      var tbox = nodeEnter.append(\"text\")\n",
       "          .attr(\"y\", 25)\n",
       "          .attr(\"text-anchor\", \"middle\")\n",
       "          .style(\"fill-opacity\", 1e-6);\n",
       "\n",
       "      tbox.append(\"tspan\")\n",
       "          .text( function(d) { return treeData[d.dataID].tag; } );\n",
       "\n",
       "      tbox.append(\"tspan\")\n",
       "          .attr(\"dy\",\"1.2em\")\n",
       "          .attr(\"x\",0)\n",
       "          .text( function(d) {return \"N:\" + treeData[d.dataID].N;} );\n",
       "\n",
       "      tbox.append(\"tspan\")\n",
       "          .attr(\"dy\",\"1.2em\")\n",
       "          .attr(\"x\",0)\n",
       "          .text( function(d) { if (treeData[d.dataID].type==\"action\") {return \" Q:\" + treeData[d.dataID].Q.toPrecision(4);}});\n",
       "\n",
       "      // tooltip\n",
       "      nodeEnter.append(\"title\").text(tooltip)\n",
       "\n",
       "\n",
       "      // Transition nodes to their new position.\n",
       "      var nodeUpdate = node.transition()\n",
       "          .duration(duration)\n",
       "          .attr(\"transform\", function(d) { return \"translate(\" + d.x + \",\" + d.y + \")\"; });\n",
       "\n",
       "      nodeUpdate.select(\"circle\")\n",
       "          .attr(\"r\", 10)\n",
       "          .style(\"fill\", function(d) { return d._children ? \"lightsteelblue\" : \"#fff\"; });\n",
       "\n",
       "      nodeUpdate.select(\"text\")\n",
       "          .style(\"fill-opacity\", 1);\n",
       "\n",
       "      // Transition exiting nodes to the parent's new position.\n",
       "      var nodeExit = node.exit().transition()\n",
       "          .duration(duration)\n",
       "          .attr(\"transform\", function(d) { return \"translate(\" + source.x + \",\" + source.y + \")\"; })\n",
       "          .remove();\n",
       "\n",
       "      nodeExit.select(\"circle\")\n",
       "          .attr(\"r\", 1e-6);\n",
       "\n",
       "      nodeExit.select(\"text\")\n",
       "          .style(\"fill-opacity\", 1e-6);\n",
       "\n",
       "      // Update the links…\n",
       "      var link = svg.selectAll(\"path.link\")\n",
       "          .data(links, function(d) { return d.target.id; });\n",
       "\n",
       "      // Enter any new links at the parent's previous position.\n",
       "      // XXX link width should be based on transition data, not node data\n",
       "      link.enter().insert(\"path\", \"g\")\n",
       "          .attr(\"class\", \"link\")\n",
       "          .style(\"stroke-width\", function(d) {\n",
       "              return 10.0*Math.log(treeData[d.target.dataID].N+2)/Math.log(maxN) + \"px\";})\n",
       "          .attr(\"d\", function(d) {\n",
       "            var o = {x: source.x0, y: source.y0};\n",
       "            return diagonal({source: o, target: o});\n",
       "          });\n",
       "\n",
       "      // Transition links to their new position.\n",
       "      link.transition()\n",
       "          .duration(duration)\n",
       "          .attr(\"d\", diagonal);\n",
       "\n",
       "      // Transition exiting nodes to the parent's new position.\n",
       "      link.exit().transition()\n",
       "          .duration(duration)\n",
       "          .attr(\"d\", function(d) {\n",
       "            var o = {x: source.x, y: source.y};\n",
       "            return diagonal({source: o, target: o});\n",
       "          })\n",
       "          .remove();\n",
       "\n",
       "      // Stash the old positions for transition.\n",
       "      nodes.forEach(function(d) {\n",
       "        d.x0 = d.x;\n",
       "        d.y0 = d.y;\n",
       "      });\n",
       "    }\n",
       "\n",
       "    // Toggle children on click.\n",
       "    function click(d) {\n",
       "      // console.log(\"clicked\");\n",
       "      if (d.children) {\n",
       "        d._children = d.children;\n",
       "        d.children = null;\n",
       "      } else if (d._children) {\n",
       "        d.children = d._children;\n",
       "        d._children = null;\n",
       "      } else {\n",
       "        initializeChildren(d);\n",
       "      }\n",
       "      update(d);\n",
       "    }\n",
       "\n",
       "}\n",
       "\n",
       "        })();\n",
       "    </script>\n",
       "    </div>\n",
       "\n"
      ],
      "text/plain": [
       "MCTS.TreeVisualizer{MCTS.MCTSPolicy{Int64,Bool,Void}}(MCTS.MCTSPolicy{Int64,Bool,Void}(MCTS.MCTSSolver(100,10,1.0,MersenneTwister(UInt32[0x00000000],Base.dSFMT.DSFMT_state(Int32[-837992505,1073430652,653755050,1073432280,-881398583,1072864555,740330250,1073725942,99456662,1073545709  …  -131277659,1072883343,-426838800,1072810381,-908659251,-459045743,-359578457,570071932,382,0]),[1.70324,1.7048,1.16337,1.98485,1.81297,1.09254,1.26,1.92402,1.13971,1.77571  …  1.9399,1.48986,1.14969,1.99687,1.80173,1.96197,1.8768,1.35384,1.18129,1.11171],329),POMDPToolbox.RandomSolver(MersenneTwister(UInt32[0x00000000],Base.dSFMT.DSFMT_state(Int32[-837992505,1073430652,653755050,1073432280,-881398583,1072864555,740330250,1073725942,99456662,1073545709  …  -131277659,1072883343,-426838800,1072810381,-908659251,-459045743,-359578457,570071932,382,0]),[1.70324,1.7048,1.16337,1.98485,1.81297,1.09254,1.26,1.92402,1.13971,1.77571  …  1.9399,1.48986,1.14969,1.99687,1.80173,1.96197,1.8768,1.35384,1.18129,1.11171],329)),nothing,true),ChainMDP(4,0.7,0.9),POMDPToolbox.RandomPolicy(MersenneTwister(UInt32[0x00000000],Base.dSFMT.DSFMT_state(Int32[-837992505,1073430652,653755050,1073432280,-881398583,1072864555,740330250,1073725942,99456662,1073545709  …  -131277659,1072883343,-426838800,1072810381,-908659251,-459045743,-359578457,570071932,382,0]),[1.70324,1.7048,1.16337,1.98485,1.81297,1.09254,1.26,1.92402,1.13971,1.77571  …  1.9399,1.48986,1.14969,1.99687,1.80173,1.96197,1.8768,1.35384,1.18129,1.11171],329),ChainMDP(4,0.7,0.9),POMDPToolbox.VoidUpdater(),(true,false)),Dict(4=>MCTS.StateNode{Bool}(62717,MCTS.StateActionNode{Bool}[MCTS.StateActionNode{Bool}(true,62693,3.12679,Set(Any[4,3])),MCTS.StateActionNode{Bool}(false,24,1.75319,Set(Any[4,3]))]),2=>MCTS.StateNode{Bool}(9088,MCTS.StateActionNode{Bool}[MCTS.StateActionNode{Bool}(true,9067,0.933572,Set(Any[3,1])),MCTS.StateActionNode{Bool}(false,21,0.297582,Set(Any[3,1]))]),3=>MCTS.StateNode{Bool}(24717,MCTS.StateActionNode{Bool}[MCTS.StateActionNode{Bool}(true,24714,1.84685,Set(Any[4,2])),MCTS.StateActionNode{Bool}(false,3,0.0,Set(Any[2]))]),1=>MCTS.StateNode{Bool}(3447,MCTS.StateActionNode{Bool}[MCTS.StateActionNode{Bool}(true,3344,0.478667,Set(Any[2,1])),MCTS.StateActionNode{Bool}(false,103,0.236344,Set(Any[2,1]))]))),1)"
      ]
     },
     "execution_count": 18,
     "metadata": {},
     "output_type": "execute_result"
    }
   ],
   "source": [
    "TreeVisualizer(mcts_pol, 1)"
   ]
  },
  {
   "cell_type": "code",
   "execution_count": 19,
   "metadata": {
    "collapsed": false
   },
   "outputs": [
    {
     "name": "stdout",
     "output_type": "stream",
     "text": [
      "Package already installed\n"
     ]
    },
    {
     "name": "stderr",
     "output_type": "stream",
     "text": [
      "INFO: Cloning DiscreteValueIteration from https://github.com/JuliaPOMDP/DiscreteValueIteration.jl\n"
     ]
    }
   ],
   "source": [
    "POMDPs.add(\"DiscreteValueIteration\")"
   ]
  },
  {
   "cell_type": "code",
   "execution_count": 20,
   "metadata": {
    "collapsed": true
   },
   "outputs": [],
   "source": [
    "using DiscreteValueIteration"
   ]
  },
  {
   "cell_type": "code",
   "execution_count": 21,
   "metadata": {
    "collapsed": false
   },
   "outputs": [
    {
     "data": {
      "text/plain": [
       "states (generic function with 6 methods)"
      ]
     },
     "execution_count": 21,
     "metadata": {},
     "output_type": "execute_result"
    }
   ],
   "source": [
    "n_states(mdp::ChainMDP) = mdp.len\n",
    "states(mdp::ChainMDP) = 1:mdp.len"
   ]
  },
  {
   "cell_type": "code",
   "execution_count": 22,
   "metadata": {
    "collapsed": false
   },
   "outputs": [
    {
     "data": {
      "text/plain": [
       "2.6416001153803537"
      ]
     },
     "execution_count": 22,
     "metadata": {},
     "output_type": "execute_result"
    }
   ],
   "source": [
    "solver = ValueIterationSolver()\n",
    "vi_policy = solve(solver, mdp)\n",
    "simulate(rec, mdp, vi_policy, 1)"
   ]
  },
  {
   "cell_type": "code",
   "execution_count": 23,
   "metadata": {
    "collapsed": false
   },
   "outputs": [
    {
     "name": "stdout",
     "output_type": "stream",
     "text": [
      "# The solver type \n",
      "type ValueIterationSolver <: Solver\n",
      "    max_iterations::Int64 # max number of iterations \n",
      "    belres::Float64 # the Bellman Residual\n",
      "end\n",
      "# Default constructor\n",
      "function ValueIterationSolver(;max_iterations::Int64=100, belres::Float64=1e-3)\n",
      "    return ValueIterationSolver(max_iterations, belres)\n",
      "end\n",
      "\n",
      "# The policy type\n",
      "type ValueIterationPolicy <: Policy\n",
      "    qmat::Matrix{Float64} # Q matrix stroign Q(s,a) values\n",
      "    util::Vector{Float64} # The value function V(s)\n",
      "    policy::Vector{Int64} # Policy array, maps state index to action index\n",
      "    action_map::Vector{Any} # Maps the action index to the concrete action type\n",
      "    include_Q::Bool # Flag for including the Q-matrix\n",
      "    mdp::Union{MDP,POMDP} # uses the model for indexing in the action function\n",
      "    # constructor with an optinal initial value function argument\n",
      "    function ValueIterationPolicy(mdp::Union{MDP,POMDP}; \n",
      "                                  utility::Vector{Float64}=Array(Float64,0),\n",
      "                                  include_Q::Bool=true)\n",
      "        ns = n_states(mdp)\n",
      "        na = n_actions(mdp)\n",
      "        self = new()\n",
      "        if !isempty(utility)\n",
      "            @assert size(utilty) == ns \"Input utility dimension mismatch\"\n",
      "            self.util = utility\n",
      "        else\n",
      "            self.util = zeros(ns)\n",
      "        end\n",
      "        am = Any[]\n",
      "        space = actions(mdp)\n",
      "        for a in iterator(space)\n",
      "            push!(am, a)\n",
      "        end\n",
      "        self.action_map = am\n",
      "        self.policy = zeros(Int64,ns)\n",
      "        include_Q ? self.qmat = zeros(ns,na) : self.qmat = zeros(0,0)\n",
      "        self.include_Q = include_Q\n",
      "        self.mdp = mdp\n",
      "        return self\n",
      "    end\n",
      "    # constructor for solved q, util and policy\n",
      "    function ValueIterationPolicy(mdp::Union{MDP,POMDP}, q::Matrix{Float64}, util::Vector{Float64}, policy::Vector{Int64})\n",
      "        self = new()\n",
      "        self.qmat = q\n",
      "        self.util = util\n",
      "        self.policy = policy\n",
      "        am = Any[]\n",
      "        space = actions(mdp)\n",
      "        for a in iterator(space)\n",
      "            push!(am, a)\n",
      "        end\n",
      "        self.action_map = am\n",
      "        self.include_Q = true\n",
      "        self.mdp = mdp\n",
      "        return self\n",
      "    end\n",
      "    # constructor for defualt Q-matrix\n",
      "    function ValueIterationPolicy(mdp::Union{MDP,POMDP}, q::Matrix{Float64})\n",
      "        (ns, na) = size(q)\n",
      "        p = zeros(ns)\n",
      "        u = zeros(ns)\n",
      "        for i = 1:ns\n",
      "            p[i] = indmax(q[i,:])\n",
      "            u[i] = maximum(q[i,:])\n",
      "        end\n",
      "        am = Any[]\n",
      "        space = actions(mdp)\n",
      "        for a in iterator(space)\n",
      "            push!(am, a)\n",
      "        end\n",
      "        self = new()\n",
      "        self.qmat = q\n",
      "        self.util = u\n",
      "        self.policy = p\n",
      "        self.action_map = am\n",
      "        self.include_Q = true\n",
      "        self.action_map = am\n",
      "        self.mdp = mdp\n",
      "        return self\n",
      "    end\n",
      "end\n",
      "\n",
      "# returns a default value iteration policy\n",
      "function create_policy(solver::ValueIterationSolver, mdp::Union{MDP,POMDP})\n",
      "    return ValueIterationPolicy(mdp)\n",
      "end\n",
      "\n",
      "# returns the fields of the policy type\n",
      "function locals(p::ValueIterationPolicy)\n",
      "    return (p.qmat,p.util,p.policy,p.action_map)\n",
      "end\n",
      "\n",
      "#####################################################################\n",
      "# Solve runs the value iteration algorithm.\n",
      "# The policy input argument is either provided by the user or \n",
      "# initialized during the function call.\n",
      "# Verbose is a flag that triggers text output to the command line\n",
      "# Example code for running the function:\n",
      "# mdp = GridWorld(10, 10) # initialize a 10x10 grid world MDP (user written code)\n",
      "# solver = ValueIterationSolver(max_iterations=40, belres=1e-3)\n",
      "# policy = ValueIterationPolicy(mdp)\n",
      "# solve(solver, mdp, policy, verbose=true) \n",
      "#####################################################################\n",
      "function solve(solver::ValueIterationSolver, mdp::Union{MDP,POMDP}, policy=create_policy(solver, mdp); verbose::Bool=false)\n",
      "\n",
      "    # solver parameters\n",
      "    max_iterations = solver.max_iterations\n",
      "    belres = solver.belres\n",
      "    discount_factor = discount(mdp)\n",
      "\n",
      "    # intialize the utility and Q-matrix\n",
      "    util = policy.util\n",
      "    qmat = policy.qmat\n",
      "    include_Q = policy.include_Q\n",
      "    pol = policy.policy \n",
      "\n",
      "    # pre-allocate the transtion distirbution and the interpolants\n",
      "    dist = create_transition_distribution(mdp)\n",
      "\n",
      "    # initalize space\n",
      "    sspace = states(mdp)\n",
      "    aspace = actions(mdp)\n",
      "\n",
      "    total_time = 0.0\n",
      "    iter_time = 0.0\n",
      "\n",
      "    # main loop\n",
      "    for i = 1:max_iterations\n",
      "        residual = 0.0\n",
      "        tic()\n",
      "        # state loop\n",
      "        for (istate, s) in enumerate(iterator(sspace))\n",
      "            old_util = util[istate] # for residual \n",
      "            max_util = -Inf\n",
      "            # action loop\n",
      "            # util(s) = max_a( R(s,a) + discount_factor * sum(T(s'|s,a)util(s') )\n",
      "            for (iaction, a) in enumerate(iterator(aspace))\n",
      "                dist = transition(mdp, s, a, dist) # fills distribution over neighbors\n",
      "                u = 0.0\n",
      "                for sp in iterator(dist)\n",
      "                    p = pdf(dist, sp)\n",
      "                    p == 0.0 ? continue : nothing # skip if zero prob\n",
      "                    r = reward(mdp, s, a, sp)\n",
      "                    sidx = state_index(mdp, sp)\n",
      "                    u += p * (r + discount_factor * util[sidx]) \n",
      "                end\n",
      "                new_util = u \n",
      "                if new_util > max_util\n",
      "                    max_util = new_util\n",
      "                    pol[istate] = iaction\n",
      "                end\n",
      "                include_Q ? (qmat[istate, iaction] = new_util) : nothing\n",
      "            end # action\n",
      "            # update the value array\n",
      "            util[istate] = max_util \n",
      "            diff = abs(max_util - old_util)\n",
      "            diff > residual ? (residual = diff) : nothing\n",
      "        end # state\n",
      "        iter_time = toq()\n",
      "        total_time += iter_time\n",
      "        verbose ? println(\"Iteration : $i, residual: $residual, iteration run-time: $iter_time, total run-time: $total_time\") : nothing\n",
      "        residual < belres ? break : nothing\n",
      "    end # main\n",
      "    policy\n",
      "end\n",
      "\n",
      "function action{S}(policy::ValueIterationPolicy, s::S)\n",
      "    sidx = state_index(policy.mdp, s)\n",
      "    aidx = policy.policy[sidx]\n",
      "    return policy.action_map[aidx]\n",
      "end\n",
      "function value{S}(policy::ValueIterationPolicy, s::S)\n",
      "    sidx = state_index(policy.mdp, s)\n",
      "    policy.util[sidx]\n",
      "end\n",
      "\n"
     ]
    }
   ],
   "source": [
    "@less create_policy(solver, mdp)"
   ]
  },
  {
   "cell_type": "code",
   "execution_count": null,
   "metadata": {
    "collapsed": true
   },
   "outputs": [],
   "source": []
  },
  {
   "cell_type": "code",
   "execution_count": null,
   "metadata": {
    "collapsed": true
   },
   "outputs": [],
   "source": []
  },
  {
   "cell_type": "code",
   "execution_count": 24,
   "metadata": {
    "collapsed": false
   },
   "outputs": [
    {
     "name": "stdout",
     "output_type": "stream",
     "text": [
      "Package already installed\n"
     ]
    },
    {
     "name": "stderr",
     "output_type": "stream",
     "text": [
      "INFO: Cloning POMDPModels from https://github.com/JuliaPOMDP/POMDPModels.jl\n"
     ]
    }
   ],
   "source": [
    "POMDPs.add(\"POMDPModels\")\n",
    "using POMDPModels"
   ]
  },
  {
   "cell_type": "code",
   "execution_count": 25,
   "metadata": {
    "collapsed": false
   },
   "outputs": [
    {
     "data": {
      "text/plain": [
       "POMDPModels.BabyBeliefUpdater(POMDPModels.BabyPOMDP(-5.0,-10.0,0.1,0.8,0.1,0.9,[0.0]))"
      ]
     },
     "execution_count": 25,
     "metadata": {},
     "output_type": "execute_result"
    }
   ],
   "source": [
    "bp = BabyPOMDP()\n",
    "up = BabyBeliefUpdater(bp)"
   ]
  },
  {
   "cell_type": "code",
   "execution_count": 26,
   "metadata": {
    "collapsed": false
   },
   "outputs": [
    {
     "name": "stdout",
     "output_type": "stream",
     "text": [
      "Package already installed\n"
     ]
    },
    {
     "name": "stderr",
     "output_type": "stream",
     "text": [
      "INFO: Cloning SARSOP from https://github.com/JuliaPOMDP/SARSOP.jl\n"
     ]
    }
   ],
   "source": [
    "POMDPs.add(\"SARSOP\") # might take a while to compile\n",
    "using SARSOP"
   ]
  },
  {
   "cell_type": "code",
   "execution_count": 27,
   "metadata": {
    "collapsed": false
   },
   "outputs": [
    {
     "data": {
      "text/plain": [
       "SARSOP.SARSOPSolver(Dict{AbstractString,Any}())"
      ]
     },
     "execution_count": 27,
     "metadata": {},
     "output_type": "execute_result"
    }
   ],
   "source": [
    "solver = SARSOPSolver()"
   ]
  },
  {
   "cell_type": "code",
   "execution_count": 28,
   "metadata": {
    "collapsed": false,
    "scrolled": false
   },
   "outputs": [
    {
     "name": "stdout",
     "output_type": "stream",
     "text": [
      "Generating a pomdpx file: model.pomdpx\n",
      "\n",
      "Loading the model ...\n",
      "  input file   : model.pomdpx\n",
      "  loading time : 0.00s \n",
      "\n",
      "SARSOP initializing ...\n",
      "  initialization time : 0.00s\n",
      "\n",
      "-------------------------------------------------------------------------------\n",
      " Time   |#Trial |#Backup |LBound    |UBound    |Precision  |#Alphas |#Beliefs  \n",
      "-------------------------------------------------------------------------------\n",
      " 0       0       0        -47.3685   -16.0713   31.2971     2        1        \n",
      " 0       5       51       -17.9323   -16.0492   1.88318     9        6        \n",
      " 0       10      103      -16.3978   -16.2159   0.181953    2        8        \n",
      " 0       14      151      -16.3124   -16.277    0.0353847   2        13       \n",
      " 0       18      207      -16.3058   -16.2969   0.00887227  2        16       \n",
      " 0       21      250      -16.3055   -16.3022   0.00329006  7        16       \n",
      " 0       25      305      -16.3055   -16.3044   0.00111584  2        18       \n",
      " 0       26      323      -16.3055   -16.3045   0.000944675 2        18       \n",
      "-------------------------------------------------------------------------------\n",
      "\n",
      "SARSOP finishing ...\n",
      "  target precision reached\n",
      "  target precision  : 0.001000\n",
      "  precision reached : 0.000945 \n",
      "\n",
      "-------------------------------------------------------------------------------\n",
      " Time   |#Trial |#Backup |LBound    |UBound    |Precision  |#Alphas |#Beliefs  \n",
      "-------------------------------------------------------------------------------\n",
      " 0       26      323      -16.3055   -16.3045   0.000944675 2        18       \n",
      "-------------------------------------------------------------------------------\n",
      "\n",
      "Writing out policy ...\n",
      "  output file : out.policy\n",
      "\n"
     ]
    },
    {
     "data": {
      "text/plain": [
       "SARSOP.POMDPPolicy(\"out.policy\",POMDPXFiles.POMDPAlphas([-29.6749 -38.2512; -19.6749 -16.3055],[0,1]),POMDPModels.BabyPOMDP(-5.0,-10.0,0.1,0.8,0.1,0.9,[0.0]),Any[true,false])"
      ]
     },
     "execution_count": 28,
     "metadata": {},
     "output_type": "execute_result"
    }
   ],
   "source": [
    "p = solve(solver, bp)"
   ]
  },
  {
   "cell_type": "code",
   "execution_count": 29,
   "metadata": {
    "collapsed": false,
    "scrolled": true
   },
   "outputs": [
    {
     "data": {
      "text/plain": [
       "-23.781178142898746"
      ]
     },
     "execution_count": 29,
     "metadata": {},
     "output_type": "execute_result"
    }
   ],
   "source": [
    "simulate(rec, bp, p, up, BoolDistribution(0.0))"
   ]
  },
  {
   "cell_type": "code",
   "execution_count": 30,
   "metadata": {
    "collapsed": false
   },
   "outputs": [
    {
     "name": "stdout",
     "output_type": "stream",
     "text": [
      "0.00 hungry belief => don't feed\n",
      "0.47 hungry belief => feed\n",
      "0.00 hungry belief => don't feed\n",
      "0.47 hungry belief => feed\n",
      "0.00 hungry belief => don't feed\n",
      "0.47 hungry belief => feed\n",
      "0.00 hungry belief => don't feed\n",
      "0.02 hungry belief => don't feed\n",
      "0.03 hungry belief => don't feed\n",
      "0.54 hungry belief => feed\n",
      "0.00 hungry belief => don't feed\n",
      "0.02 hungry belief => don't feed\n",
      "0.03 hungry belief => don't feed\n",
      "0.03 hungry belief => don't feed\n",
      "0.03 hungry belief => don't feed\n",
      "0.03 hungry belief => don't feed\n",
      "0.03 hungry belief => don't feed\n",
      "0.03 hungry belief => don't feed\n",
      "0.03 hungry belief => don't feed\n",
      "0.54 hungry belief => feed\n",
      "0.00 hungry belief => don't feed\n",
      "0.02 hungry belief => don't feed\n",
      "0.03 hungry belief => don't feed\n",
      "0.03 hungry belief => don't feed\n",
      "0.54 hungry belief => feed\n",
      "0.00 hungry belief => don't feed\n",
      "0.02 hungry belief => don't feed\n",
      "0.03 hungry belief => don't feed\n",
      "0.54 hungry belief => feed\n",
      "0.00 hungry belief => don't feed\n",
      "0.02 hungry belief => don't feed\n",
      "0.03 hungry belief => don't feed\n",
      "0.03 hungry belief => don't feed\n",
      "0.03 hungry belief => don't feed\n",
      "0.03 hungry belief => don't feed\n",
      "0.03 hungry belief => don't feed\n",
      "0.03 hungry belief => don't feed\n",
      "0.03 hungry belief => don't feed\n",
      "0.54 hungry belief => feed\n",
      "0.00 hungry belief => don't feed\n",
      "0.02 hungry belief => don't feed\n",
      "0.03 hungry belief => don't feed\n",
      "0.03 hungry belief => don't feed\n",
      "0.03 hungry belief => don't feed\n",
      "0.03 hungry belief => don't feed\n",
      "0.03 hungry belief => don't feed\n",
      "0.03 hungry belief => don't feed\n",
      "0.03 hungry belief => don't feed\n",
      "0.03 hungry belief => don't feed\n",
      "0.54 hungry belief => feed\n",
      "0.00 hungry belief => don't feed\n",
      "0.47 hungry belief => feed\n",
      "0.00 hungry belief => don't feed\n",
      "0.02 hungry belief => don't feed\n",
      "0.53 hungry belief => feed\n",
      "0.00 hungry belief => don't feed\n",
      "0.02 hungry belief => don't feed\n",
      "0.03 hungry belief => don't feed\n",
      "0.03 hungry belief => don't feed\n",
      "0.03 hungry belief => don't feed\n",
      "0.03 hungry belief => don't feed\n",
      "0.03 hungry belief => don't feed\n",
      "0.03 hungry belief => don't feed\n",
      "0.03 hungry belief => don't feed\n",
      "0.03 hungry belief => don't feed\n",
      "0.03 hungry belief => don't feed\n",
      "0.03 hungry belief => don't feed\n",
      "0.03 hungry belief => don't feed\n",
      "0.03 hungry belief => don't feed\n",
      "0.03 hungry belief => don't feed\n",
      "0.03 hungry belief => don't feed\n",
      "0.03 hungry belief => don't feed\n",
      "0.03 hungry belief => don't feed\n",
      "0.54 hungry belief => feed\n",
      "0.00 hungry belief => don't feed\n",
      "0.02 hungry belief => don't feed\n",
      "0.03 hungry belief => don't feed\n",
      "0.54 hungry belief => feed\n",
      "0.00 hungry belief => don't feed\n",
      "0.02 hungry belief => don't feed\n",
      "0.03 hungry belief => don't feed\n",
      "0.03 hungry belief => don't feed\n",
      "0.54 hungry belief => feed\n",
      "0.00 hungry belief => don't feed\n",
      "0.02 hungry belief => don't feed\n",
      "0.53 hungry belief => feed\n",
      "0.00 hungry belief => don't feed\n",
      "0.47 hungry belief => feed\n",
      "0.00 hungry belief => don't feed\n",
      "0.02 hungry belief => don't feed\n",
      "0.03 hungry belief => don't feed\n",
      "0.03 hungry belief => don't feed\n",
      "0.03 hungry belief => don't feed\n",
      "0.03 hungry belief => don't feed\n",
      "0.03 hungry belief => don't feed\n",
      "0.54 hungry belief => feed\n",
      "0.00 hungry belief => don't feed\n",
      "0.47 hungry belief => feed\n",
      "0.00 hungry belief => don't feed\n",
      "0.02 hungry belief => don't feed\n"
     ]
    }
   ],
   "source": [
    "for i in 1:length(rec.action_hist)\n",
    "    @printf(\"%3.2f hungry belief => %s\\n\",\n",
    "            rec.belief_hist[i].p,\n",
    "            rec.action_hist[i] ? \"feed\":\"don't feed\")\n",
    "end"
   ]
  },
  {
   "cell_type": "code",
   "execution_count": null,
   "metadata": {
    "collapsed": true
   },
   "outputs": [],
   "source": []
  }
 ],
 "metadata": {
  "anaconda-cloud": {},
  "kernelspec": {
   "display_name": "Julia 0.5.0",
   "language": "julia",
   "name": "julia-0.5"
  },
  "language_info": {
   "file_extension": ".jl",
   "mimetype": "application/julia",
   "name": "julia",
   "version": "0.5.0"
  }
 },
 "nbformat": 4,
 "nbformat_minor": 1
}
