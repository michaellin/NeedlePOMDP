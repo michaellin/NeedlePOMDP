{
 "cells": [
  {
   "cell_type": "code",
   "execution_count": null,
   "metadata": {
    "collapsed": true
   },
   "outputs": [],
   "source": [
    "# Model\n",
    "# -----\n",
    "#\n",
    "#    -3-2-1 0 1 2 3\n",
    "# ...| | | | | | | | ...\n",
    "#           G   S\n",
    "#\n",
    "# Here G is the goal. S is the starting location\n",
    "\n",
    "type LightDark1DState\n",
    "    status::Int64\n",
    "    y::Float64\n",
    "    LightDark1DState() = new()\n",
    "    LightDark1DState(x, y) = new(x, y)\n",
    "end\n",
    "\n",
    "# FIXME Status arithmetic\n",
    "==(s1::LightDark1DState, s2::LightDark1DState) = (s1.status == s2.status) && (s1.y == s2.y)\n",
    "+(s1::LightDark1DState, s2::LightDark1DState) = LightDark1DState(s1.status+s2.status, s1.y+s2.y)\n",
    "-(s1::LightDark1DState, s2::LightDark1DState) = LightDark1DState(s1.status-s2.status, s1.y-s2.y)\n",
    "*(n::Number, s::LightDark1DState) = LightDark1DState(s.status, n*s.y)\n",
    "*(s1::LightDark1DState, s2::LightDark1DState) = LightDark1DState(s1.status*s2.status, s1.y*s2.y)\n",
    "\n",
    "Base.hash(s::LightDark1DState, h::UInt64=zero(UInt64)) = hash(s.status, hash(s.y, h))\n",
    "copy(s::LightDark1DState) = LightDark1DState(s.status, s.y)\n",
    "\n",
    "type LightDark1D <: POMDPs.POMDP{LightDark1DState,Int64,Float64}\n",
    "    discount_factor::Float64\n",
    "    # lower_act::Int64\n",
    "    correct_r::Float64\n",
    "    incorrect_r::Float64\n",
    "    step_size::Float64\n",
    "    movement_cost::Float64\n",
    "end\n",
    "\n",
    "LightDark1D() = LightDark1D(0.9, 10, -10, 1, 0)\n",
    "\n",
    "create_state(p::LightDark1D) = LightDark1DState(0,0)\n",
    "\n",
    "discount(p::LightDark1D) = p.discount_factor\n",
    "\n",
    "isterminal(::LightDark1D, act::Int64) = act == 0\n",
    "\n",
    "isterminal(::LightDark1D, s::LightDark1DState) = s.status < 0\n",
    "\n",
    "type LightDark1DActionSpace <: POMDPs.AbstractSpace{Int64}\n",
    "    actions::Vector{Int64}\n",
    "end\n",
    "Base.length(asp::LightDark1DActionSpace) = length(asp.actions)\n",
    "actions(::LightDark1D) = LightDark1DActionSpace([-1, 0, 1]) # Left Stop Right\n",
    "actions(pomdp::LightDark1D, s::LightDark1DState, acts::LightDark1DActionSpace=actions(pomdp)) = acts\n",
    "iterator(space::LightDark1DActionSpace) = space.actions\n",
    "dimensions(::LightDark1DActionSpace) = 1\n",
    "n_actions(p::LightDark1D) = length(actions(p))\n",
    "\n",
    "function rand(rng::AbstractRNG, asp::LightDark1DActionSpace, a::Int64)\n",
    "    a = rand(rng, iterator(asp))\n",
    "    return a\n",
    "end\n",
    "\n",
    "function initial_state(p::LightDark1D, rng::AbstractRNG)\n",
    "    return LightDark1DState(0, 2+Base.randn(rng)*3)\n",
    "end\n",
    "\n",
    "# function generate_sr{LightDark1DState}(p::LightDark1D, s::LightDark1DState, a::Int64, rng::AbstractRNG)\n",
    "#     sprime = copy(s)\n",
    "#     if sprime.x > 0\n",
    "#         r = 0\n",
    "#         return (sprime, r)\n",
    "#     end\n",
    "#     if a == 0\n",
    "#         sprime.x = 1.0\n",
    "#         if abs(sprime.y) < 1\n",
    "#             r = 10\n",
    "#         else\n",
    "#             r = -10\n",
    "#         end\n",
    "#     else\n",
    "#         sprime.y += a\n",
    "#         r = 0\n",
    "#     end\n",
    "#     return (sprime, r)\n",
    "# end\n",
    "\n",
    "sigma(x::Float64) = abs(x - 5)/sqrt(2) + 1e-2\n",
    "function generate_o(p::LightDark1D, s, a, sp::LightDark1DState, rng::AbstractRNG)\n",
    "    return sp.y + Base.randn(rng)*sigma(sp.y)\n",
    "end\n",
    "\n",
    "function generate_sor(p::LightDark1D, s::LightDark1DState, a::Int64, rng::AbstractRNG)\n",
    "    if s.status < 0                  # Terminal state\n",
    "        sprime = copy(s)\n",
    "        o = generate_o(p, nothing, nothing, sprime, rng)\n",
    "        r = 0                   # Penalty?\n",
    "        return (sprime, o, r)\n",
    "    end\n",
    "    if a == 0                   # Enter\n",
    "        sprime = LightDark1DState(-1, s.y)\n",
    "        if abs(s.y) < 1         # Correct loc is near 0\n",
    "            r = p.correct_r     # Correct\n",
    "        else\n",
    "            r = p.incorrect_r   # Incorrect\n",
    "        end\n",
    "    else\n",
    "        sprime = LightDark1DState(s.status, s.y+a)\n",
    "        r = 0\n",
    "    end\n",
    "    o = generate_o(p, nothing, nothing, sprime, rng)\n",
    "    return (sprime, o, r)\n",
    "end\n",
    "\n",
    "function init_lower_action(p::LightDark1D)\n",
    "    return 0 # Worst? This depends on the initial state? TODO\n",
    "end\n",
    "\n",
    "type LightDark1DLowerBound <: Bound\n",
    "    rng::AbstractRNG\n",
    "end\n",
    "\n",
    "type LightDark1DUpperBound <: Bound\n",
    "    rng::AbstractRNG\n",
    "end\n",
    "\n",
    "function lower_bound(lb::LightDark1DLowerBound, p::LightDark1D, s::LightDark1DState)\n",
    "    _, _, r = generate_sor(p, s, init_lower_action(p), lb.rng)\n",
    "    return r * discount(p)\n",
    "end\n",
    "\n",
    "function upper_bound(ub::LightDark1DUpperBound, p::LightDark1D, s::LightDark1DState)\n",
    "    steps = abs(s.y)/p.step_size + 1\n",
    "    return p.correct_r*(discount(p)^steps)\n",
    "end\n",
    "\n",
    "gauss(s::Float64, x::Float64) = 1 / sqrt(2*pi) / s * exp(-1*x^2/(2*s^2))\n",
    "function pdf(s::LightDark1DState, obs::Float64)\n",
    "    return gauss(sigma(s.y), s.y-obs)\n",
    "end\n",
    "\n",
    "\n",
    "# Define some simple policies based on particle belief\n",
    "\n",
    "type DummyHeuristic1DPolicy <: POMDPs.Policy\n",
    "    thres::Float64\n",
    "end\n",
    "DummyHeuristic1DPolicy() = DummyHeuristic1DPolicy(0.1)\n",
    "\n",
    "type SmartHeuristic1DPolicy <: POMDPs.Policy\n",
    "    thres::Float64\n",
    "end\n",
    "SmartHeuristic1DPolicy() = SmartHeuristic1DPolicy(0.1)\n",
    "\n",
    "function action{B}(p::DummyHeuristic1DPolicy, b::B)\n",
    "    target = 0.0\n",
    "    μ = mean(b)\n",
    "    σ = std(b, μ)\n",
    "\n",
    "    if σ.y < p.thres && -0.5 < μ.y < 0.5\n",
    "        a = 0\n",
    "    elseif μ.y < target\n",
    "        a = 1                   # Right\n",
    "    elseif μ.y > target\n",
    "        a = -1                  # Left\n",
    "    end\n",
    "    return a\n",
    "end\n",
    "\n",
    "function action{B}(p::SmartHeuristic1DPolicy, b::B)\n",
    "    μ = mean(b)\n",
    "    σ = std(b, μ)\n",
    "    target = 0.0\n",
    "    if σ.y > p.thres\n",
    "        target = 5.0\n",
    "    end\n",
    "    if σ.y < p.thres && -0.5 < μ.y < 0.5\n",
    "        a = 0\n",
    "    elseif μ.y < target\n",
    "        a = 1                   # Right\n",
    "    elseif μ.y > target\n",
    "        a = -1                  # Left\n",
    "    end\n",
    "    return a\n",
    "end\n"
   ]
  },
  {
   "cell_type": "code",
   "execution_count": null,
   "metadata": {
    "collapsed": false
   },
   "outputs": [],
   "source": [
    "import Base: ==, +, *, -\n",
    "\n",
    "using POMDPs\n",
    "import POMDPs: create_state, discount, isterminal, pdf, actions, iterator, n_actions\n",
    "using GenerativeModels\n",
    "import GenerativeModels: generate_sor, generate_o, initial_state\n",
    "import POMDPBounds: lower_bound, upper_bound, Bound"
   ]
  },
  {
   "cell_type": "code",
   "execution_count": 2,
   "metadata": {
    "collapsed": false
   },
   "outputs": [
    {
     "data": {
      "text/plain": [
       "Needle"
      ]
     },
     "execution_count": 2,
     "metadata": {},
     "output_type": "execute_result"
    }
   ],
   "source": [
    "type NeedleState\n",
    "    x::Float64 # x position\n",
    "    y::Float64 # y position\n",
    "    psi::Float64 # orientation\n",
    "    done::Bool # are we in a terminal state?\n",
    "end\n",
    "NeedleState(x::Float64, y::Float64, psi::Float64) = NeedleState(x,y,psi,false)\n",
    "\n",
    "==(s1::NeedleState, s2::NeedleState) = (s1.x == s2.x) && (s1.y == s2.y) && (s1.psi == s2.psi) && (s1.done == s2.done);\n",
    "+(s1::NeedleState, s2::NeedleState) = NeedleState(s1.x+s2.x, s1.y+s2.y, s1.psi+s2.psi);\n",
    "-(s1::NeedleState, s2::NeedleState) = NeedleState(s1.x-s2.x, s1.y-s2.y, s1.psi-s2.psi);\n",
    "\n",
    "# the needle mdp type\n",
    "type Needle <: POMDP{NeedleState, Symbol, NeedleState} # Note that our MDP is parametarized by the state and the action\n",
    "    reward_states::Vector{NeedleState} # target/obstacle states\n",
    "    reward_values::Vector{Float64} # reward values for those states\n",
    "    tprob::Array{Float64} # probability of transitioning to the desired state\n",
    "    discount_factor::Float64 # disocunt factor\n",
    "end\n",
    "\n",
    "\n",
    "function Needle(;rs::Vector{NeedleState} = [NeedleState(8.0,4.0,0.0); # target states\n",
    "                                            NeedleState(4.0,6.0,0.0); # obstacle states\n",
    "                                            #[NeedleState(1,y,psi) for y = 1:sy, psi = 3:7][:]; # boundary states\n",
    "                                            #[NeedleState(sx,y,psi) for y = 1:sy, psi = [1:3;7:spsi]][:];\n",
    "                                            #[NeedleState(x,1,psi) for x = 2:sx-1, psi = [5:spsi;1]][:];\n",
    "                                            #[NeedleState(x,sy,psi) for x = 2:sx-1, psi = 1:5][:]],\n",
    "                                            ],\n",
    "                rv::Vector{Float64} = [100.0; -20.0],\n",
    "                tp::Array{Float64} = [0.05, 0.9, 0.05, 0.0], # tprob\n",
    "                discount_factor::Float64 = 0.9)\n",
    "    #return Needle(sx, sy, spsi, rs, rv, tp, discount_factor)\n",
    "    return Needle(rs, rv, tp, discount_factor)\n",
    "end;"
   ]
  },
  {
   "cell_type": "code",
   "execution_count": 3,
   "metadata": {
    "collapsed": false
   },
   "outputs": [
    {
     "data": {
      "text/plain": [
       "rand (generic function with 1 method)"
      ]
     },
     "execution_count": 3,
     "metadata": {},
     "output_type": "execute_result"
    }
   ],
   "source": [
    "type ActionSpace <: AbstractSpace\n",
    "    actions::Vector{Symbol}\n",
    "end\n",
    "\n",
    "function POMDPs.actions(pomdp::Needle)\n",
    "    acts = [:cw, :ccw]\n",
    "    return ActionSpace(acts)\n",
    "end;\n",
    "POMDPs.actions(pomdp::Needle, s::NeedleState, as::ActionSpace=actions(pomdp)) = as;\n",
    "Base.length(asp::ActionSpace) = length(asp.actions)\n",
    "iterator(space::ActionSpace) = space.actions\n",
    "n_actions(p::Needle) = length(actions(p))\n",
    "\n",
    "function rand(rng::AbstractRNG, asp::ActionSpace, a::Symbol)\n",
    "    a = rand(rng, iterator(asp))\n",
    "    return a\n",
    "end;\n",
    "\n"
   ]
  },
  {
   "cell_type": "code",
   "execution_count": 4,
   "metadata": {
    "collapsed": false
   },
   "outputs": [
    {
     "ename": "LoadError",
     "evalue": "LoadError: UndefVarError: LightDark1D not defined\nwhile loading In[4], in expression starting on line 19",
     "output_type": "error",
     "traceback": [
      "LoadError: UndefVarError: LightDark1D not defined\nwhile loading In[4], in expression starting on line 19",
      ""
     ]
    }
   ],
   "source": [
    "# Implements the starting state of the needle\n",
    "function initial_state(pomdp::Needle, rng::AbstractRNG)\n",
    "    return NeedleState(4,10,7);\n",
    "end\n",
    "\n",
    "\n",
    "function sigma(s::NeedleState, rng::AbstractRNG; sig_pos::Float64 = 1.0, sig_rot::Float64 = 5.0/360*pi)\n",
    "    x = Base.randn(rng)*(s.x/sqrt(sig_pos) + 1e-2);\n",
    "    y = Base.randn(rng)*(s.y/sqrt(sig_pos) + 1e-2);\n",
    "    psi = Base.randn(rng)*(s.psi/sqrt(sig_rot) + 1e-2);\n",
    "    return NeedleState(x, y, psi);\n",
    "end\n",
    "# Implements the noisy observation\n",
    "function generate_o(pomdp::Needle, s::NeedleState, a::Symbol, sp::NeedleState, rng::AbstractRNG)\n",
    "    #return sp + sigma(sp, rng) TODO\n",
    "    return sp;\n",
    "end"
   ]
  },
  {
   "cell_type": "code",
   "execution_count": null,
   "metadata": {
    "collapsed": true
   },
   "outputs": [],
   "source": [
    "function straight(s::NeedleState)\n",
    "    \n",
    "end\n",
    "\n",
    "function generate_sor(pomdp::Needle, s::NeedleState, a::Symbol, rng::AbstractRNG)\n",
    "    if s.done                  # Terminal state\n",
    "        sprime = copy(s)\n",
    "        o = generate_o(pomdp, nothing, nothing, sprime, rng)\n",
    "        r = 0                   # Penalty?\n",
    "        return (sprime, o, r)\n",
    "    end\n",
    "    s_straight = straight(s)\n",
    "    if a == :cw                   # Enter\n",
    "        # Make a transition corresponding to cw action\n",
    "        \n",
    "    elseif a == :ccw\n",
    "        # Make a transition corresponding to ccw action\n",
    "    else\n",
    "            err\n",
    "    end\n",
    "    o = generate_o(p, nothing, nothing, sprime, rng)\n",
    "    return (sprime, o, r)\n",
    "end"
   ]
  },
  {
   "cell_type": "code",
   "execution_count": null,
   "metadata": {
    "collapsed": false
   },
   "outputs": [],
   "source": [
    "pomdp = Needle()"
   ]
  },
  {
   "cell_type": "code",
   "execution_count": null,
   "metadata": {
    "collapsed": false
   },
   "outputs": [],
   "source": [
    "n_actions(pomdp)"
   ]
  },
  {
   "cell_type": "code",
   "execution_count": null,
   "metadata": {
    "collapsed": true
   },
   "outputs": [],
   "source": [
    "POMDPs.create_state(pomdp::Needle) = NeedleState(1.0,1.0,1.0)\n",
    "\n",
    "POMDPs.discount(pomdp::Needle) = pomdp.discount_factor;\n",
    "\n",
    "function POMDPs.isterminal(pomdp::Needle, s::NeedleState)\n",
    "    s.done ? (return true) : (return false)\n",
    "end;"
   ]
  }
 ],
 "metadata": {
  "kernelspec": {
   "display_name": "Julia 0.5.0",
   "language": "julia",
   "name": "julia-0.5"
  },
  "language_info": {
   "file_extension": ".jl",
   "mimetype": "application/julia",
   "name": "julia",
   "version": "0.5.0"
  }
 },
 "nbformat": 4,
 "nbformat_minor": 1
}
