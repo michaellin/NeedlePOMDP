{
 "cells": [
  {
   "cell_type": "markdown",
   "metadata": {
    "slideshow": {
     "slide_type": "slide"
    }
   },
   "source": [
    "# Needle Insertion Markov Decision Process"
   ]
  },
  {
   "cell_type": "code",
   "execution_count": 1,
   "metadata": {
    "collapsed": false,
    "slideshow": {
     "slide_type": "slide"
    }
   },
   "outputs": [],
   "source": [
    "using POMDPs\n",
    "using Distributions\n",
    "using POMDPToolbox\n",
    "using PyPlot"
   ]
  },
  {
   "cell_type": "markdown",
   "metadata": {
    "slideshow": {
     "slide_type": "slide"
    }
   },
   "source": [
    "## States\n",
    "The data container below represents the state of the agent in the grid world."
   ]
  },
  {
   "cell_type": "code",
   "execution_count": 2,
   "metadata": {
    "collapsed": false
   },
   "outputs": [],
   "source": [
    "type NeedleState \n",
    "    x::Int64 # x position\n",
    "    y::Int64 # y position\n",
    "    psi::Int64 # orientation\n",
    "    bumped::Bool # did we bump the wall?\n",
    "    done::Bool # are we in a terminal state?\n",
    "end"
   ]
  },
  {
   "cell_type": "markdown",
   "metadata": {},
   "source": [
    "Below are some convenience functions for working with the NeedleState. "
   ]
  },
  {
   "cell_type": "code",
   "execution_count": 3,
   "metadata": {
    "collapsed": false
   },
   "outputs": [],
   "source": [
    "# initial state constructor\n",
    "NeedleState(x::Int64, y::Int64, psi::Int64) = NeedleState(x,y,psi,false,false)\n",
    "# checks if the position of two states are the same\n",
    "posequal(s1::NeedleState, s2::NeedleState) = s1.x == s2.x && s1.y == s2.y && s1.psi == s2.psi\n",
    "# copies state s2 to s1\n",
    "function Base.copy!(s1::NeedleState, s2::NeedleState) \n",
    "    s1.x = s2.x\n",
    "    s1.y = s2.y\n",
    "    s1.psi = s2.psi\n",
    "    s1.bumped = s2.bumped\n",
    "    s1.done = s2.done\n",
    "    s1\n",
    "end\n",
    "# if you want to use Monte Carlo Tree Search, you will need to define the functions below\n",
    "Base.hash(s::NeedleState, h::UInt64 = zero(UInt64)) = hash(s.x, hash(s.y, hash(s.psi, hash(s.bumped, hash(s.done, h)))))\n",
    "Base.isequal(s1::NeedleState,s2::NeedleState) = s1.x == s2.x && s1.y == s2.y && s1.psi == s2.psi && s1.bumped == s2.bumped && s1.done == s2.done;"
   ]
  },
  {
   "cell_type": "markdown",
   "metadata": {},
   "source": [
    "## Actions\n",
    "Since our action is simply the direction the agent chooses to go (i.e. cw, ccw), we can use a Symbol to represent it. Symbols are special types in Julia that allow for nice represntation of complex data. However, in our case a string could serve the same purpose as the symbol or even and integer, so feel free to use what you're most comfortable with. Note that in this case, we will not define a type for our action, instead we represent it directly with a symbol."
   ]
  },
  {
   "cell_type": "markdown",
   "metadata": {},
   "source": [
    "## MDP\n",
    "The Needle data container is defined below. It holds all the information we need to define the MDP tuple $$(\\mathcal{S}, \\mathcal{A}, T, R).$$"
   ]
  },
  {
   "cell_type": "code",
   "execution_count": 4,
   "metadata": {
    "collapsed": false
   },
   "outputs": [],
   "source": [
    "# the needle mdp type\n",
    "type Needle <: MDP{NeedleState, Symbol} # Note that our MDP is parametarized by the state and the action\n",
    "    size_x::Int64 # x size of the grid\n",
    "    size_y::Int64 # y size of the grid\n",
    "    size_psi::Int64 # number of orientation bins\n",
    "    reward_states::Vector{NeedleState} # target/obstacle states\n",
    "    reward_values::Vector{Float64} # reward values for those states\n",
    "#     bounds_penalty::Float64 # penalty for bumping the wall\n",
    "    tprob::Array{Float64} # probability of transitioning to the desired state\n",
    "    discount_factor::Float64 # disocunt factor\n",
    "    \n",
    "end"
   ]
  },
  {
   "cell_type": "markdown",
   "metadata": {},
   "source": [
    "Before moving on, I want to create a constructor for Needle for convenience. Currently, if I want to create an instance of Needle, I have to pass in all of fields inside the Needle container (size_x, size_y, etc). The function below will return a Needle type with all the fields filled with some default values."
   ]
  },
  {
   "cell_type": "code",
   "execution_count": 5,
   "metadata": {
    "collapsed": false
   },
   "outputs": [
    {
     "data": {
      "text/plain": [
       "196-element Array{NeedleState,1}:\n",
       " NeedleState(8,4,1,false,false) \n",
       " NeedleState(8,4,2,false,false) \n",
       " NeedleState(8,4,3,false,false) \n",
       " NeedleState(8,4,4,false,false) \n",
       " NeedleState(8,4,5,false,false) \n",
       " NeedleState(8,4,6,false,false) \n",
       " NeedleState(8,4,7,false,false) \n",
       " NeedleState(8,4,8,false,false) \n",
       " NeedleState(4,6,1,false,false) \n",
       " NeedleState(4,6,2,false,false) \n",
       " NeedleState(4,6,3,false,false) \n",
       " NeedleState(4,6,4,false,false) \n",
       " NeedleState(4,6,5,false,false) \n",
       " ⋮                              \n",
       " NeedleState(6,10,4,false,false)\n",
       " NeedleState(7,10,4,false,false)\n",
       " NeedleState(8,10,4,false,false)\n",
       " NeedleState(9,10,4,false,false)\n",
       " NeedleState(2,10,5,false,false)\n",
       " NeedleState(3,10,5,false,false)\n",
       " NeedleState(4,10,5,false,false)\n",
       " NeedleState(5,10,5,false,false)\n",
       " NeedleState(6,10,5,false,false)\n",
       " NeedleState(7,10,5,false,false)\n",
       " NeedleState(8,10,5,false,false)\n",
       " NeedleState(9,10,5,false,false)"
      ]
     },
     "execution_count": 5,
     "metadata": {},
     "output_type": "execute_result"
    }
   ],
   "source": [
    "# we use key worded arguments so we can change any of the values we pass in \n",
    "function Needle(;sx::Int64 = 10, # size_x\n",
    "                sy::Int64 = 10, # size_y\n",
    "                spsi::Int64 = 8, # size_psi\n",
    "                rs::Vector{NeedleState} = [[NeedleState(8,4,psi) for psi = 1:spsi]; # target states\n",
    "                                            [NeedleState(4,6,psi) for psi = 1:spsi]; # obstacle states\n",
    "                                            [NeedleState(1,y,psi) for y = 1:sy, psi = 3:7][:]; # boundary states\n",
    "                                            [NeedleState(sx,y,psi) for y = 1:sy, psi = [1:3;7:spsi]][:];\n",
    "                                            [NeedleState(x,1,psi) for x = 2:sx-1, psi = [5:spsi;1]][:];\n",
    "                                            [NeedleState(x,sy,psi) for x = 2:sx-1, psi = 1:5][:]],\n",
    "                rv::Vector{Float64} = [fill(100.0,spsi); fill(-20.0,spsi); fill(-5,(2*sx+2*sy-4)*5)],\n",
    "                tp::Array{Float64} = [0.05, 0.9, 0.05, 0.0], # tprob\n",
    "                discount_factor::Float64 = 0.9)\n",
    "    return Needle(sx, sy, spsi, rs, rv, tp, discount_factor)\n",
    "end\n",
    "\n",
    "# we can now create a NeedleState mdp instance like this:\n",
    "mdp = Needle()\n",
    "mdp.reward_states # mdp contains all the defualt values from the constructor"
   ]
  },
  {
   "cell_type": "markdown",
   "metadata": {},
   "source": [
    "## Spaces"
   ]
  },
  {
   "cell_type": "markdown",
   "metadata": {},
   "source": [
    "### State Space ($ \\mathcal{S}$)\n",
    "The state space in an MDP represents all the states in the problem. There are two primary functionalities that we want our spaces to support. We want to be able to iterate over the state space (for Value Iteration for example), and sometimes we want to be able to sample form the state space (used in some POMDP solvers). In this notebook, we will only look at iterable state spaces. "
   ]
  },
  {
   "cell_type": "code",
   "execution_count": 6,
   "metadata": {
    "collapsed": false
   },
   "outputs": [],
   "source": [
    "type StateSpace <: AbstractSpace\n",
    "    states::Vector{NeedleState}\n",
    "end"
   ]
  },
  {
   "cell_type": "markdown",
   "metadata": {},
   "source": [
    "Since we can iterate over elements of an array, and our problem is small, we can store all of our states in an array. If your problem is very large (tens of millions of states), it might be worthwhile to create an iterator over your state space. See [this](http://stackoverflow.com/questions/25028539/how-to-implement-an-iterator-in-julia) post on stackoverflow on making simple iterators. "
   ]
  },
  {
   "cell_type": "code",
   "execution_count": 7,
   "metadata": {
    "collapsed": false
   },
   "outputs": [],
   "source": [
    "function POMDPs.states(mdp::Needle)\n",
    "    s = NeedleState[] # initialize an array of NeedleStates\n",
    "    # loop over all our states, remeber there are two binary variables: done (d) and bumped(b)\n",
    "    for d = 0:1, b = 0:1, y = 1:mdp.size_y, x = 1:mdp.size_x, psi = 1:mdp.size_psi\n",
    "        push!(s, NeedleState(x,y,psi,b,d))\n",
    "    end\n",
    "    return StateSpace(s)\n",
    "end;"
   ]
  },
  {
   "cell_type": "markdown",
   "metadata": {},
   "source": [
    "To finish up we need to define a function that returns the iterator over the state space. Remeber ```states(...)``` returns the state space type, and our iterator is hidden inside of it."
   ]
  },
  {
   "cell_type": "code",
   "execution_count": 8,
   "metadata": {
    "collapsed": false
   },
   "outputs": [],
   "source": [
    "function POMDPs.iterator(space::StateSpace)\n",
    "    return space.states \n",
    "end;"
   ]
  },
  {
   "cell_type": "markdown",
   "metadata": {},
   "source": [
    "We want to be able to uniformly sample for our state space. A sampling function for doing this is fairly simple to implement if you already have an array of all your states."
   ]
  },
  {
   "cell_type": "code",
   "execution_count": 9,
   "metadata": {
    "collapsed": false
   },
   "outputs": [],
   "source": [
    "function POMDPs.rand(rng::AbstractRNG, space::StateSpace, s::NeedleState)\n",
    "    sp = space.states[rand(rng, 1:end)]\n",
    "    copy!(s, sp)\n",
    "    s\n",
    "end;"
   ]
  },
  {
   "cell_type": "markdown",
   "metadata": {},
   "source": [
    "### Action Space ($\\mathcal{A}$)"
   ]
  },
  {
   "cell_type": "markdown",
   "metadata": {},
   "source": [
    "The action space is the set of all actions availiable to the agent. In the grid world problem the action space consists of up, down, left, and right. Let's define the type for our action space."
   ]
  },
  {
   "cell_type": "code",
   "execution_count": 10,
   "metadata": {
    "collapsed": false
   },
   "outputs": [],
   "source": [
    "type ActionSpace <: AbstractSpace\n",
    "    actions::Vector{Symbol}\n",
    "end"
   ]
  },
  {
   "cell_type": "markdown",
   "metadata": {},
   "source": [
    "Let's now write a function called actions that returns our action space."
   ]
  },
  {
   "cell_type": "code",
   "execution_count": 11,
   "metadata": {
    "collapsed": false
   },
   "outputs": [],
   "source": [
    "function POMDPs.actions(mdp::Needle)\n",
    "    acts = [:cw, :ccw]\n",
    "    return ActionSpace(acts)\n",
    "end;\n",
    "POMDPs.actions(mdp::Needle, s::NeedleState, as::ActionSpace=actions(mdp)) = as;"
   ]
  },
  {
   "cell_type": "code",
   "execution_count": 12,
   "metadata": {
    "collapsed": false
   },
   "outputs": [],
   "source": [
    "function POMDPs.iterator(space::ActionSpace)\n",
    "    return space.actions \n",
    "end;"
   ]
  },
  {
   "cell_type": "code",
   "execution_count": 13,
   "metadata": {
    "collapsed": false
   },
   "outputs": [],
   "source": [
    "function POMDPs.rand(rng::AbstractRNG, space::ActionSpace, a::Symbol)\n",
    "    return space.actions[rand(rng, 1:end)]\n",
    "end;\n",
    "function POMDPs.rand(rng::AbstractRNG, space::ActionSpace)\n",
    "    a = NeedleAction(:cw)\n",
    "    return rand(rng, space, a)\n",
    "end;"
   ]
  },
  {
   "cell_type": "markdown",
   "metadata": {},
   "source": [
    "To finish up, we add a couple of initializer functions for out state and action."
   ]
  },
  {
   "cell_type": "code",
   "execution_count": 14,
   "metadata": {
    "collapsed": false
   },
   "outputs": [],
   "source": [
    "POMDPs.create_state(mdp::Needle) = NeedleState(1,1,1)\n",
    "POMDPs.create_action(mdp::Needle) = :cw;"
   ]
  },
  {
   "cell_type": "markdown",
   "metadata": {},
   "source": [
    "## Distributions"
   ]
  },
  {
   "cell_type": "markdown",
   "metadata": {},
   "source": [
    "Since MDPs are probabilistic models, we have to deal with probability distributions. In this section, we outline how to define probability distriubtions, and what tools are availiable to help you with the task."
   ]
  },
  {
   "cell_type": "markdown",
   "metadata": {},
   "source": [
    "### Transition Distribution "
   ]
  },
  {
   "cell_type": "markdown",
   "metadata": {},
   "source": [
    "If you are familiar with MDPs, you know that the transition function $T(s' \\mid s, a)$ captures the dynamics of the system. Specifically, $T(s' \\mid s, a)$ is a real value that defines the probabiltiy of transitioning to state $s'$ given that you took action $a$ in state $s$. The transition distirubtion $T(\\cdot \\mid s, a)$ is a slightly different construct. This is the actual distribution over the states that our agent can reach given that its in state $s$ and took action $a$. In other words this is the distribution over $s'$. "
   ]
  },
  {
   "cell_type": "markdown",
   "metadata": {},
   "source": [
    "There are many ways to implement transition distributions for your problem. Your choice of distribution as well as how you implement it will heavily depend on your problem. [Distributions.jl](https://github.com/JuliaStats/Distributions.jl) provides support for many common univariate and multivarite distributions. Below is how we implement the one for grid world. "
   ]
  },
  {
   "cell_type": "code",
   "execution_count": 15,
   "metadata": {
    "collapsed": false
   },
   "outputs": [],
   "source": [
    "type NeedleDistribution <: AbstractDistribution\n",
    "    neighbors::Array{NeedleState} # the states s' in the distribution\n",
    "    probs::Array{Float64} # the probability corresponding to each state s'\n",
    "    cat::Categorical # this comes from Distributions.jl and is used for sampling\n",
    "end"
   ]
  },
  {
   "cell_type": "markdown",
   "metadata": {},
   "source": [
    "To reduce memory allocation, the POMDPs.jl interface defines some initalization functions that return initial types to be filled lated. This function returns the distribution type filled with some values. We don't care what the distribution container has in it, because it will be modified at each call to the transition function."
   ]
  },
  {
   "cell_type": "code",
   "execution_count": 16,
   "metadata": {
    "collapsed": false
   },
   "outputs": [],
   "source": [
    "function POMDPs.create_transition_distribution(mdp::Needle)\n",
    "    # can have at most five neighbors in grid world\n",
    "    neighbors =  [NeedleState(i,i,1) for i = 1:5]\n",
    "    probabilities = zeros(5) + 1.0/5.0\n",
    "    cat = Categorical(5)\n",
    "    return NeedleDistribution(neighbors, probabilities, cat)\n",
    "end;"
   ]
  },
  {
   "cell_type": "markdown",
   "metadata": {},
   "source": [
    "The next function we want is ```domain(...)```. For discrete state distributions, domain returns an iterator over the states in that distributions (this is just the neighbors array in our distriubtion type). The function takes on the following form:"
   ]
  },
  {
   "cell_type": "code",
   "execution_count": 17,
   "metadata": {
    "collapsed": false
   },
   "outputs": [],
   "source": [
    "function POMDPs.iterator(d::NeedleDistribution)\n",
    "    return d.neighbors\n",
    "end;"
   ]
  },
  {
   "cell_type": "markdown",
   "metadata": {},
   "source": [
    "Let's implement the probability density function (really this is a probability mass function since the distriubtion is discrete, but we overload the pdf function name to serve as both). Below is a fairly inneficient impelemntation of pdf. For the discrete distribution in our problem, the pdf function returns the probability of drawing the state s from the distribution d. "
   ]
  },
  {
   "cell_type": "code",
   "execution_count": 18,
   "metadata": {
    "collapsed": false
   },
   "outputs": [],
   "source": [
    "function POMDPs.pdf(d::NeedleDistribution, s::NeedleState)\n",
    "    for (i, sp) in enumerate(d.neighbors)\n",
    "        if s == sp\n",
    "            return d.probs[i]\n",
    "        end\n",
    "    end   \n",
    "    return 0.0\n",
    "end;"
   ]
  },
  {
   "cell_type": "markdown",
   "metadata": {},
   "source": [
    "Finally, we want to implement a smapling function that can draw samples from our distribution. Once again, there are many ways to do this, but we recommend using Distributions.jl. We use POMDPDistributions which mimicks a lot of the behavior of Distributions.jl. "
   ]
  },
  {
   "cell_type": "code",
   "execution_count": 19,
   "metadata": {
    "collapsed": false
   },
   "outputs": [],
   "source": [
    "function POMDPs.rand(rng::AbstractRNG, d::NeedleDistribution, s::NeedleState)\n",
    "    d.cat = Categorical(d.probs) # init the categorical distribution\n",
    "    ns = d.neighbors[rand(d.cat)] # sample a neighbor state according to the distribution c\n",
    "    copy!(s, ns)\n",
    "    return s # return the pointer to s\n",
    "end;"
   ]
  },
  {
   "cell_type": "markdown",
   "metadata": {},
   "source": [
    "To recap, there are two functionalities that we require your distirbutions to support. We want to be able to sample from them using the ```rand!(...)``` function, and we want to obtain the probability density using the ```pdf(...)``` function."
   ]
  },
  {
   "cell_type": "markdown",
   "metadata": {},
   "source": [
    "## Transition Model (T)"
   ]
  },
  {
   "cell_type": "markdown",
   "metadata": {},
   "source": [
    "In this section we will define the system dynamics of the gird world MDP. In POMDPs.jl, we work with transition distirbution functions $T(s' \\mid s, a)$, so we want to write a function that can generate the transition distributions over $s'$ for us given an $(s, a)$ pair. "
   ]
  },
  {
   "cell_type": "markdown",
   "metadata": {},
   "source": [
    "In the transition function we want to fill the neighbors in our distribution d with the reachable states from the state, action pair. We want to fill the probs in our distirbution d with the probabilities of reaching that neighbor. "
   ]
  },
  {
   "cell_type": "code",
   "execution_count": 20,
   "metadata": {
    "collapsed": false
   },
   "outputs": [],
   "source": [
    "# transition helpers\n",
    "function inbounds(mdp::Needle,x::Int64,y::Int64,psi::Int64)\n",
    "    if 1 <= x <= mdp.size_x && 1 <= y <= mdp.size_y && 1 <= psi <= mdp.size_psi\n",
    "        return true\n",
    "    else\n",
    "        return false\n",
    "    end\n",
    "end\n",
    "\n",
    "function inbounds(mdp::Needle,state::NeedleState)\n",
    "    x = state.x\n",
    "    y = state.y\n",
    "    psi = state.psi\n",
    "    return inbounds(mdp, x, y, psi)\n",
    "end\n",
    "\n",
    "###########################################################\n",
    "\n",
    "function atbounds(mdp::Needle,x::Int64,y::Int64,psi::Int64)\n",
    "    # at bounds if: at wall, facing outward or at corner\n",
    "    if (x == 1 || x == mdp.size_x) && (y == 1 || y == mdp.size_y) # at corner\n",
    "        return true\n",
    "        elseif (x == 1 && 3 <= psi <= 7) || (x == mdp.size_x && (7 <= psi || psi <= 3) ) ||\n",
    "        (y == 1 && (5 <= psi || psi <= 1) ) || (y == mdp.size_y && 1 <= psi <= 5) # at wall, facing outward\n",
    "        return true\n",
    "    else\n",
    "        return false\n",
    "    end\n",
    "end\n",
    "\n",
    "function atbounds(mdp::Needle,state::NeedleState)\n",
    "    x = state.x\n",
    "    y = state.y\n",
    "    psi = state.psi\n",
    "    return atbounds(mdp, x, y, psi)\n",
    "end\n",
    "\n",
    "###########################################################\n",
    "\n",
    "function fill_probability!(p::Vector{Float64}, val::Float64, index::Int64)\n",
    "    for i = 1:length(p)\n",
    "        if i == index\n",
    "            p[i] = val\n",
    "        else\n",
    "            p[i] = 0.0\n",
    "        end\n",
    "    end\n",
    "end;\n"
   ]
  },
  {
   "cell_type": "code",
   "execution_count": 21,
   "metadata": {
    "collapsed": false
   },
   "outputs": [],
   "source": [
    "function POMDPs.transition(mdp::Needle,\n",
    "                            state::NeedleState,\n",
    "                            action::Symbol,\n",
    "                            d::NeedleDistribution=create_transition_distribution(mdp))\n",
    "    tp = mdp.tprob\n",
    "    \n",
    "    a = action\n",
    "    x = state.x\n",
    "    y = state.y\n",
    "    psi = state.psi\n",
    "    \n",
    "    neighbors = d.neighbors\n",
    "    probability = d.probs\n",
    "    \n",
    "    # let's handle the done case first\n",
    "    if state.done\n",
    "        # can only transition to the same done state\n",
    "        fill!(probability, 0.0)\n",
    "        probability[1] = 1.0\n",
    "        copy!(neighbors[1], state)\n",
    "        # when we sample d, we will only get the state in neighbors[1] - our done state\n",
    "        return d\n",
    "    end\n",
    "    \n",
    "    fill!(probability, 0.0)\n",
    "\n",
    "    if a == :ccw\n",
    "        if psi == 1\n",
    "            neighbors[1].x = x+1; neighbors[1].y = y;   neighbors[1].psi = psi; \n",
    "            neighbors[2].x = x+1; neighbors[2].y = y;   neighbors[2].psi = psi+1;\n",
    "            neighbors[3].x = x+1; neighbors[3].y = y+1; neighbors[3].psi = psi+1;\n",
    "            neighbors[4].x = x+1; neighbors[4].y = y+1; neighbors[4].psi = psi+2;\n",
    "        elseif psi == 2\n",
    "            neighbors[1].x = x+1; neighbors[1].y = y+1; neighbors[1].psi = psi; \n",
    "            neighbors[2].x = x+1; neighbors[2].y = y+1; neighbors[2].psi = psi+1;\n",
    "            neighbors[3].x = x;   neighbors[3].y = y+1; neighbors[3].psi = psi+1;\n",
    "            neighbors[4].x = x;   neighbors[4].y = y+1; neighbors[4].psi = psi+2;\n",
    "        elseif psi == 3\n",
    "            neighbors[1].x = x;   neighbors[1].y = y+1; neighbors[1].psi = psi; \n",
    "            neighbors[2].x = x;   neighbors[2].y = y+1; neighbors[2].psi = psi+1;\n",
    "            neighbors[3].x = x-1; neighbors[3].y = y+1; neighbors[3].psi = psi+1;\n",
    "            neighbors[4].x = x-1; neighbors[4].y = y+1; neighbors[4].psi = psi+2;\n",
    "        elseif psi == 4\n",
    "            neighbors[1].x = x-1; neighbors[1].y = y+1; neighbors[1].psi = psi; \n",
    "            neighbors[2].x = x-1; neighbors[2].y = y+1; neighbors[2].psi = psi+1;\n",
    "            neighbors[3].x = x-1; neighbors[3].y = y;   neighbors[3].psi = psi+1;\n",
    "            neighbors[4].x = x-1; neighbors[4].y = y;   neighbors[4].psi = psi+2;\n",
    "        elseif psi == 5\n",
    "            neighbors[1].x = x-1; neighbors[1].y = y;   neighbors[1].psi = psi; \n",
    "            neighbors[2].x = x-1; neighbors[2].y = y;   neighbors[2].psi = psi+1;\n",
    "            neighbors[3].x = x-1; neighbors[3].y = y-1; neighbors[3].psi = psi+1;\n",
    "            neighbors[4].x = x-1; neighbors[4].y = y-1; neighbors[4].psi = psi+2;\n",
    "        elseif psi == 6\n",
    "            neighbors[1].x = x-1; neighbors[1].y = y-1; neighbors[1].psi = psi; \n",
    "            neighbors[2].x = x-1; neighbors[2].y = y-1; neighbors[2].psi = psi+1;\n",
    "            neighbors[3].x = x;   neighbors[3].y = y-1; neighbors[3].psi = psi+1;\n",
    "            neighbors[4].x = x;   neighbors[4].y = y-1; neighbors[4].psi = psi+2;\n",
    "        elseif psi == 7\n",
    "            neighbors[1].x = x;   neighbors[1].y = y-1; neighbors[1].psi = psi; \n",
    "            neighbors[2].x = x;   neighbors[2].y = y-1; neighbors[2].psi = psi+1;\n",
    "            neighbors[3].x = x+1; neighbors[3].y = y-1; neighbors[3].psi = psi+1;\n",
    "            neighbors[4].x = x+1; neighbors[4].y = y-1; neighbors[4].psi = psi+2;\n",
    "        elseif psi == 8\n",
    "            neighbors[1].x = x+1; neighbors[1].y = y-1; neighbors[1].psi = psi; \n",
    "            neighbors[2].x = x+1; neighbors[2].y = y-1; neighbors[2].psi = psi+1;\n",
    "            neighbors[3].x = x+1; neighbors[3].y = y;   neighbors[3].psi = psi+1;\n",
    "            neighbors[4].x = x+1; neighbors[4].y = y;   neighbors[4].psi = psi+2;\n",
    "        end\n",
    "    elseif a == :cw\n",
    "        if psi == 1\n",
    "            neighbors[1].x = x+1; neighbors[1].y = y;   neighbors[1].psi = psi; \n",
    "            neighbors[2].x = x+1; neighbors[2].y = y;   neighbors[2].psi = psi+7;\n",
    "            neighbors[3].x = x+1; neighbors[3].y = y-1; neighbors[3].psi = psi+7;\n",
    "            neighbors[4].x = x+1; neighbors[4].y = y-1; neighbors[4].psi = psi+6;\n",
    "        elseif psi == 2\n",
    "            neighbors[1].x = x+1; neighbors[1].y = y+1; neighbors[1].psi = psi; \n",
    "            neighbors[2].x = x+1; neighbors[2].y = y+1; neighbors[2].psi = psi+7;\n",
    "            neighbors[3].x = x+1; neighbors[3].y = y;   neighbors[3].psi = psi+7;\n",
    "            neighbors[4].x = x+1; neighbors[4].y = y;   neighbors[4].psi = psi+6;\n",
    "        elseif psi == 3\n",
    "            neighbors[1].x = x;   neighbors[1].y = y+1; neighbors[1].psi = psi; \n",
    "            neighbors[2].x = x;   neighbors[2].y = y+1; neighbors[2].psi = psi+7;\n",
    "            neighbors[3].x = x+1; neighbors[3].y = y+1; neighbors[3].psi = psi+7;\n",
    "            neighbors[4].x = x+1; neighbors[4].y = y+1; neighbors[4].psi = psi+6;\n",
    "        elseif psi == 4\n",
    "            neighbors[1].x = x-1; neighbors[1].y = y+1; neighbors[1].psi = psi; \n",
    "            neighbors[2].x = x-1; neighbors[2].y = y+1; neighbors[2].psi = psi+7;\n",
    "            neighbors[3].x = x;   neighbors[3].y = y+1; neighbors[3].psi = psi+7;\n",
    "            neighbors[4].x = x;   neighbors[4].y = y+1; neighbors[4].psi = psi+6;\n",
    "        elseif psi == 5\n",
    "            neighbors[1].x = x-1; neighbors[1].y = y;   neighbors[1].psi = psi; \n",
    "            neighbors[2].x = x-1; neighbors[2].y = y;   neighbors[2].psi = psi+7;\n",
    "            neighbors[3].x = x-1; neighbors[3].y = y+1; neighbors[3].psi = psi+7;\n",
    "            neighbors[4].x = x-1; neighbors[4].y = y+1; neighbors[4].psi = psi+6;\n",
    "        elseif psi == 6\n",
    "            neighbors[1].x = x-1; neighbors[1].y = y-1; neighbors[1].psi = psi; \n",
    "            neighbors[2].x = x-1; neighbors[2].y = y-1; neighbors[2].psi = psi+7;\n",
    "            neighbors[3].x = x-1; neighbors[3].y = y;   neighbors[3].psi = psi+7;\n",
    "            neighbors[4].x = x-1; neighbors[4].y = y;   neighbors[4].psi = psi+6;\n",
    "        elseif psi == 7\n",
    "            neighbors[1].x = x;   neighbors[1].y = y-1; neighbors[1].psi = psi; \n",
    "            neighbors[2].x = x;   neighbors[2].y = y-1; neighbors[2].psi = psi+7;\n",
    "            neighbors[3].x = x-1; neighbors[3].y = y-1; neighbors[3].psi = psi+7;\n",
    "            neighbors[4].x = x-1; neighbors[4].y = y-1; neighbors[4].psi = psi+6;\n",
    "        elseif psi == 8\n",
    "            neighbors[1].x = x+1; neighbors[1].y = y-1; neighbors[1].psi = psi; \n",
    "            neighbors[2].x = x+1; neighbors[2].y = y-1; neighbors[2].psi = psi+7;\n",
    "            neighbors[3].x = x;   neighbors[3].y = y-1; neighbors[3].psi = psi+7;\n",
    "            neighbors[4].x = x;   neighbors[4].y = y-1; neighbors[4].psi = psi+6;\n",
    "        end\n",
    "    end\n",
    "    # make sure psi is between 1 and 8\n",
    "    for i = 1:4\n",
    "        neighbors[i].psi = mod(neighbors[i].psi,8)\n",
    "        if neighbors[i].psi == 0\n",
    "            neighbors[i].psi = 8;\n",
    "        end\n",
    "    end\n",
    "    neighbors[5].x = x; neighbors[5].y = y; neighbors[5].psi = psi;\n",
    "    \n",
    "    # initialize bumped and done states \n",
    "    for i = 1:5 neighbors[i].bumped = false end\n",
    "    for i = 1:5 neighbors[i].done = false end\n",
    "    reward_states = mdp.reward_states\n",
    "    \n",
    "    # detection of done states\n",
    "    n = length(reward_states)\n",
    "    for i = 1:n\n",
    "        # terminate at target/obstacle\n",
    "        if posequal(state, reward_states[i])\n",
    "            fill_probability!(probability, 1.0, 5)\n",
    "            neighbors[5].done = true\n",
    "            return d\n",
    "        end\n",
    "        # terminate at boundary\n",
    "        if atbounds(mdp, state)\n",
    "            fill_probability!(probability, 1.0, 5)\n",
    "            neighbors[5].done = true\n",
    "            neighbors[5].bumped = true\n",
    "            return d\n",
    "        end\n",
    "    end\n",
    "    \n",
    "    if !inbounds(mdp, neighbors[1]) || !inbounds(mdp, neighbors[2]) ||\n",
    "        !inbounds(mdp, neighbors[3]) || !inbounds(mdp, neighbors[4]) # at least one of the neighbors is outside bounds\n",
    "        fill_probability!(probability, 1.0, 5) # stuck in current state when terminated\n",
    "        neighbors[5].bumped = true     \n",
    "    else # none of the neighbors is outside bounds\n",
    "        probability[1:4] = tp\n",
    "    end\n",
    "    \n",
    "    return d\n",
    "end;"
   ]
  },
  {
   "cell_type": "markdown",
   "metadata": {},
   "source": [
    "## Reward Model (R)\n",
    "The reward model $R(s,a,s')$ is a function that returns the reward of being in state $s$, taking an action $a$ from that state, and ending up in state $s'$. In our problem, we are rewarded for reaching a terimanl reward state (this could be positive or negative), and we are penalized for bumping into a wall."
   ]
  },
  {
   "cell_type": "code",
   "execution_count": 22,
   "metadata": {
    "collapsed": false
   },
   "outputs": [],
   "source": [
    "function POMDPs.reward(mdp::Needle, state::NeedleState, action::Symbol, statep::NeedleState) #deleted action\n",
    "    if state.done\n",
    "        return 0.0\n",
    "    end\n",
    "    r = 0.0\n",
    "    reward_states = mdp.reward_states\n",
    "    reward_values = mdp.reward_values\n",
    "    n = length(reward_states)\n",
    "    for i = 1:n\n",
    "        if posequal(state, reward_states[i]) # reward, obstacle and wall states\n",
    "            r += reward_values[i]\n",
    "        end\n",
    "    end\n",
    "    r += -1; # penalty for every step taken\n",
    "#     if state.bumped\n",
    "#         r += mdp.bounds_penalty\n",
    "#     end\n",
    "    \n",
    "    return r\n",
    "end;\n"
   ]
  },
  {
   "cell_type": "markdown",
   "metadata": {},
   "source": [
    "## Miscellaneous Functions\n",
    "We are almost done! Just a few simple functions left. First let's implement two functions that return the sizes of our state and action spaces."
   ]
  },
  {
   "cell_type": "code",
   "execution_count": 23,
   "metadata": {
    "collapsed": false
   },
   "outputs": [],
   "source": [
    "POMDPs.n_states(mdp::Needle) = 4*mdp.size_x*mdp.size_y*mdp.size_psi\n",
    "POMDPs.n_actions(mdp::Needle) = 4\n",
    "POMDPs.discount(mdp::Needle) = mdp.discount_factor;"
   ]
  },
  {
   "cell_type": "markdown",
   "metadata": {},
   "source": [
    "The last thing we need is an indexing function. This allows us to index between the discrete utility array and the states in our problem. We will use the ```sub2ind()``` function from Julia base to help us here. "
   ]
  },
  {
   "cell_type": "code",
   "execution_count": 24,
   "metadata": {
    "collapsed": false
   },
   "outputs": [],
   "source": [
    "function POMDPs.state_index(mdp::Needle, state::NeedleState)\n",
    "    sb = Int(state.bumped + 1)\n",
    "    sd = Int(state.done + 1)\n",
    "    return sub2ind((mdp.size_x, mdp.size_y, mdp.size_psi, 2, 2), state.x, state.y, state.psi, sb, sd)\n",
    "end;"
   ]
  },
  {
   "cell_type": "markdown",
   "metadata": {},
   "source": [
    "Finally let's define a function that checks if a state is terminal."
   ]
  },
  {
   "cell_type": "code",
   "execution_count": 25,
   "metadata": {
    "collapsed": false
   },
   "outputs": [],
   "source": [
    "function POMDPs.isterminal(mdp::Needle, s::NeedleState)\n",
    "    s.done ? (return true) : (return false)\n",
    "end;"
   ]
  },
  {
   "cell_type": "markdown",
   "metadata": {},
   "source": [
    "## Value Iteration Solver"
   ]
  },
  {
   "cell_type": "markdown",
   "metadata": {},
   "source": [
    "Each POMDPs.jl solver provides two data types for you to interface with. The first is the Solver type which contains solver parameters. The second is the Policy type. Let's see hwo we can use them to get an optimal action at a given state."
   ]
  },
  {
   "cell_type": "code",
   "execution_count": 42,
   "metadata": {
    "collapsed": false
   },
   "outputs": [
    {
     "name": "stdout",
     "output_type": "stream",
     "text": [
      "Iteration : 1, residual: 99.0, iteration run-time: 0.31350729, total run-time: 0.31350729\n",
      "Iteration : 2, residual: 71.29575000000001, iteration run-time: 0.310174328, total run-time: 0.623681618\n",
      "Iteration : 3, residual: 57.70896637500002, iteration run-time: 0.307704855, total run-time: 0.931386473\n",
      "Iteration : 4, residual: 38.759395906801544, iteration run-time: 0.3126935, total run-time: 1.244079973\n",
      "Iteration : 5, residual: 31.986784885797615, iteration run-time: 0.310078775, total run-time: 1.554158748\n",
      "Iteration : 6, residual: 25.62353365735233, iteration run-time: 0.314514578, total run-time: 1.8686733260000001\n",
      "Iteration : 7, residual: 18.921858511010647, iteration run-time: 0.311437613, total run-time: 2.180110939\n",
      "Iteration : 8, residual: 12.82880737061843, iteration run-time: 0.312944334, total run-time: 2.493055273\n",
      "Iteration : 9, residual: 5.3782266470799165, iteration run-time: 0.310114799, total run-time: 2.803170072\n",
      "Iteration : 10, residual: 1.9403980293356227, iteration run-time: 0.315013774, total run-time: 3.118183846\n",
      "Iteration : 11, residual: 0.7269827422690464, iteration run-time: 0.317346558, total run-time: 3.435530404\n",
      "Iteration : 12, residual: 0.421176493840699, iteration run-time: 0.325225422, total run-time: 3.760755826\n",
      "Iteration : 13, residual: 0.28032496547800556, iteration run-time: 0.315902689, total run-time: 4.076658515\n",
      "Iteration : 14, residual: 0.2092370934704295, iteration run-time: 0.317565683, total run-time: 4.394224198\n",
      "Iteration : 15, residual: 0.13378129737349598, iteration run-time: 0.315065109, total run-time: 4.709289307\n",
      "Iteration : 16, residual: 0.11061204699102722, iteration run-time: 0.318740809, total run-time: 5.028030116\n",
      "Iteration : 17, residual: 0.09121370455052036, iteration run-time: 0.315292602, total run-time: 5.343322718\n",
      "Iteration : 18, residual: 0.07483010435450277, iteration run-time: 0.314391868, total run-time: 5.657714586\n",
      "Iteration : 19, residual: 0.06124370312501792, iteration run-time: 0.316109509, total run-time: 5.973824095\n",
      "Iteration : 20, residual: 0.05001569677623663, iteration run-time: 0.315783257, total run-time: 6.289607352\n",
      "Iteration : 21, residual: 0.040779176737751, iteration run-time: 0.332310744, total run-time: 6.621918096\n",
      "Iteration : 22, residual: 0.03321242202001806, iteration run-time: 0.317530271, total run-time: 6.939448367\n",
      "Iteration : 23, residual: 0.027023938241969914, iteration run-time: 0.321468654, total run-time: 7.260917021\n",
      "Iteration : 24, residual: 0.02197313404247936, iteration run-time: 0.319967942, total run-time: 7.580884963\n",
      "Iteration : 25, residual: 0.01785742045178762, iteration run-time: 0.320359361, total run-time: 7.901244324\n",
      "Iteration : 26, residual: 0.014506309005552387, iteration run-time: 0.316976693, total run-time: 8.218221017000001\n",
      "Iteration : 27, residual: 0.011780573010458761, iteration run-time: 0.316210254, total run-time: 8.534431271\n",
      "Iteration : 28, residual: 0.009564647824817252, iteration run-time: 0.315768941, total run-time: 8.850200212\n",
      "Iteration : 29, residual: 0.007764095107158253, iteration run-time: 0.31726716, total run-time: 9.167467372\n",
      "Iteration : 30, residual: 0.00630161716551747, iteration run-time: 0.318261275, total run-time: 9.485728647\n",
      "Iteration : 31, residual: 0.005114054712314964, iteration run-time: 0.321750904, total run-time: 9.807479551\n",
      "Iteration : 32, residual: 0.004149947455556413, iteration run-time: 0.325914591, total run-time: 10.133394142\n",
      "Iteration : 33, residual: 0.0033673770720268337, iteration run-time: 0.321721798, total run-time: 10.45511594\n",
      "Iteration : 34, residual: 0.0027322430623109017, iteration run-time: 0.316450953, total run-time: 10.771566893000001\n",
      "Iteration : 35, residual: 0.002216819488273458, iteration run-time: 0.321452396, total run-time: 11.093019289\n",
      "Iteration : 36, residual: 0.0017985750257458744, iteration run-time: 0.314008011, total run-time: 11.407027300000001\n",
      "Iteration : 37, residual: 0.0014592071430850062, iteration run-time: 0.319930688, total run-time: 11.726957988\n",
      "Iteration : 38, residual: 0.001183853053426276, iteration run-time: 0.324949962, total run-time: 12.05190795\n",
      "Iteration : 39, residual: 0.000960445713098057, iteration run-time: 0.329273637, total run-time: 12.381181587\n"
     ]
    }
   ],
   "source": [
    "using DiscreteValueIteration\n",
    "\n",
    "# initialize the problem\n",
    "mdp = Needle()\n",
    "\n",
    "# initialize the solver\n",
    "# max_iterations: maximum number of iterations value iteration runs for (default is 100)\n",
    "# belres: the value of Bellman residual used in the solver (defualt is 1e-3)\n",
    "solver = ValueIterationSolver(max_iterations=100, belres=1e-3)\n",
    "\n",
    "# initialize the policy by passing in your problem\n",
    "policy_vi = ValueIterationPolicy(mdp)\n",
    "\n",
    "# solve for an optimal policy\n",
    "# if verbose=false, the text output will be supressed (false by default)\n",
    "solve(solver, mdp, policy_vi, verbose=true);"
   ]
  },
  {
   "cell_type": "markdown",
   "metadata": {},
   "source": [
    "## Monte-Carlo Tree Search Solver\n",
    "Monte-Carlo Tree Search (MCTS) is another MDP solver. It is an online method that looks for the best action from only the current state by building a search tree."
   ]
  },
  {
   "cell_type": "code",
   "execution_count": 27,
   "metadata": {
    "collapsed": false,
    "scrolled": true
   },
   "outputs": [
    {
     "name": "stderr",
     "output_type": "stream",
     "text": [
      "WARNING: using MCTS.mdp in module Main conflicts with an existing identifier.\n"
     ]
    }
   ],
   "source": [
    "using MCTS\n",
    "\n",
    "# initialize the problem\n",
    "mdp = Needle()\n",
    "\n",
    "# initialize the solver\n",
    "# the hyper parameters in MCTS can be tricky to set properly\n",
    "# n_iterations: the number of iterations that each search runs for\n",
    "# depth: the depth of the tree (how far away from the current state the algorithm explores)\n",
    "# exploration constant: this is how much weight to put into exploratory actions. \n",
    "# A good rule of thumb is to set the exploration constant to what you expect the upper bound on your average expected reward to be.\n",
    "solver = MCTSSolver(n_iterations=100, depth=10, exploration_constant=1.0)\n",
    "\n",
    "# initialize the policy by passing in your problem and the solver\n",
    "policy_MCTS = MCTSPolicy(solver, mdp);"
   ]
  },
  {
   "cell_type": "markdown",
   "metadata": {},
   "source": [
    "## Simulation"
   ]
  },
  {
   "cell_type": "code",
   "execution_count": 54,
   "metadata": {
    "collapsed": false
   },
   "outputs": [
    {
     "name": "stdout",
     "output_type": "stream",
     "text": [
      "Total discounted reward: 32.228833301000016\n"
     ]
    },
    {
     "data": {
      "image/png": "[encoded data removed]",
      "text/plain": [
       "PyPlot.Figure(PyObject <matplotlib.figure.Figure object at 0x7effaa805c50>)"
      ]
     },
     "metadata": {},
     "output_type": "display_data"
    },
    {
     "name": "stdout",
     "output_type": "stream",
     "text": [
      "Target reached\n"
     ]
    }
   ],
   "source": [
    "s = NeedleState(4,10,7)\n",
    "hist_vi = HistoryRecorder()\n",
    "\n",
    "r = simulate(hist_vi, mdp, policy_vi, s)\n",
    "\n",
    "println(\"Total discounted reward: $r\")\n",
    "\n",
    "if hist_MCTS.state_hist[end].x == mdp.reward_states[1].x && hist_MCTS.state_hist[end].y == mdp.reward_states[1].y\n",
    "    println(\"Target reached\")\n",
    "else\n",
    "    println(\"Target missed\")\n",
    "end\n",
    "\n",
    "# define tissue environment\n",
    "plot([1 10 10 1 1]',[1 1 10 10 1]',linewidth=10,color=\"r\") # tissue bounds\n",
    "plot(mdp.reward_states[1].x,mdp.reward_states[1].y,marker=\"o\",markersize=40,color=\"g\",markeredgecolor=\"none\")\n",
    "plot(mdp.reward_states[9].x,mdp.reward_states[9].y,marker=\"o\",markersize=40,color=\"r\",markeredgecolor=\"none\")\n",
    "hold(true)\n",
    "\n",
    "for state in hist_vi.state_hist\n",
    "    plot(state.x,state.y,color=\"b\",marker=\"o\")\n",
    "    quiver(state.x,state.y,0.5*cos((state.psi-1)*pi/4),0.5*sin((state.psi-1)*pi/4))\n",
    "end\n",
    "\n",
    "title(\"Needle tip trajectory (value iteration)\")\n",
    "axis(\"equal\")\n",
    "axis([0, 11, 0, 11])\n",
    "xlabel(\"x\")\n",
    "ylabel(\"y\")\n",
    "grid(true)"
   ]
  },
  {
   "cell_type": "code",
   "execution_count": 55,
   "metadata": {
    "collapsed": false
   },
   "outputs": [
    {
     "data": {
      "image/png": "[encoded data removed]",
      "text/plain": [
       "PyPlot.Figure(PyObject <matplotlib.figure.Figure object at 0x7effaadfc350>)"
      ]
     },
     "metadata": {},
     "output_type": "display_data"
    },
    {
     "name": "stdout",
     "output_type": "stream",
     "text": [
      "Total discounted reward: 42.13436210000001\n",
      "Target reached\n"
     ]
    }
   ],
   "source": [
    "s = NeedleState(4,10,7)\n",
    "\n",
    "hist_MCTS = HistoryRecorder()\n",
    "r = simulate(hist_MCTS, mdp, policy_MCTS, s)\n",
    "\n",
    "println(\"Total discounted reward: $r\")\n",
    "\n",
    "if hist_MCTS.state_hist[end].x == mdp.reward_states[1].x && hist_MCTS.state_hist[end].y == mdp.reward_states[1].y\n",
    "    println(\"Target reached\")\n",
    "else\n",
    "    println(\"Target missed\")\n",
    "end\n",
    "\n",
    "# define tissue environment\n",
    "plot([1 10 10 1 1]',[1 1 10 10 1]',linewidth=10,color=\"r\") # tissue bounds\n",
    "plot(mdp.reward_states[1].x,mdp.reward_states[1].y,marker=\"o\",markersize=40,color=\"g\",markeredgecolor=\"none\")\n",
    "plot(mdp.reward_states[9].x,mdp.reward_states[9].y,marker=\"o\",markersize=40,color=\"r\",markeredgecolor=\"none\")\n",
    "hold(true)\n",
    "\n",
    "for state in hist_MCTS.state_hist\n",
    "    plot(state.x,state.y,color=\"b\",marker=\"o\")\n",
    "    quiver(state.x,state.y,0.5*cos((state.psi-1)*pi/4),0.5*sin((state.psi-1)*pi/4))\n",
    "end\n",
    "\n",
    "title(\"Needle tip trajectory (MCTS)\")\n",
    "axis(\"equal\")\n",
    "axis([0, 11, 0, 11])\n",
    "xlabel(\"x\")\n",
    "ylabel(\"y\")\n",
    "grid(true)"
   ]
  },
  {
   "cell_type": "code",
   "execution_count": 29,
   "metadata": {
    "collapsed": false
   },
   "outputs": [],
   "source": [
    "# N = 100000\n",
    "# r_all = ones(1,N)\n",
    "# for i = 1:N\n",
    "#     r_all[i] = simulate(hist_vi, mdp, policy_vi, s)\n",
    "# end\n",
    "# println(value(policy_vi, s))\n",
    "# mean(r_all)"
   ]
  },
  {
   "cell_type": "code",
   "execution_count": null,
   "metadata": {
    "collapsed": false
   },
   "outputs": [],
   "source": []
  }
 ],
 "metadata": {
  "kernelspec": {
   "display_name": "Julia 0.5.0",
   "language": "julia",
   "name": "julia-0.5"
  },
  "language_info": {
   "file_extension": ".jl",
   "mimetype": "application/julia",
   "name": "julia",
   "version": "0.5.0"
  }
 },
 "nbformat": 4,
 "nbformat_minor": 0
}
