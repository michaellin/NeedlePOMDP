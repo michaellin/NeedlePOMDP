{
 "cells": [
  {
   "cell_type": "markdown",
   "metadata": {
    "slideshow": {
     "slide_type": "slide"
    }
   },
   "source": [
    "# Needle Insertion Partially Observable Markov Decision Process"
   ]
  },
  {
   "cell_type": "code",
   "execution_count": 1,
   "metadata": {
    "collapsed": false,
    "slideshow": {
     "slide_type": "slide"
    }
   },
   "outputs": [
    {
     "name": "stderr",
     "output_type": "stream",
     "text": [
      "INFO: Recompiling stale cache file /home/juser/.julia/lib/v0.5/JLD.ji for module JLD.\n"
     ]
    }
   ],
   "source": [
    "using POMDPs\n",
    "using Distributions\n",
    "using POMDPToolbox\n",
    "using PyPlot\n",
    "using JLD\n",
    "importall Base"
   ]
  },
  {
   "cell_type": "markdown",
   "metadata": {
    "slideshow": {
     "slide_type": "slide"
    }
   },
   "source": [
    "## States\n",
    "The data container below represents the state of the agent in the grid world."
   ]
  },
  {
   "cell_type": "code",
   "execution_count": 2,
   "metadata": {
    "collapsed": false
   },
   "outputs": [],
   "source": [
    "type NeedleState \n",
    "    x::Int64 # x position\n",
    "    y::Int64 # y position\n",
    "    psi::Int64 # orientation\n",
    "    bumped::Bool # did we bump the wall?\n",
    "    done::Bool # are we in a terminal state?\n",
    "end"
   ]
  },
  {
   "cell_type": "markdown",
   "metadata": {},
   "source": [
    "Below are some convenience functions for working with the NeedleState. "
   ]
  },
  {
   "cell_type": "code",
   "execution_count": 3,
   "metadata": {
    "collapsed": false
   },
   "outputs": [
    {
     "data": {
      "text/plain": [
       "== (generic function with 159 methods)"
      ]
     },
     "execution_count": 3,
     "metadata": {},
     "output_type": "execute_result"
    }
   ],
   "source": [
    "# initial state constructor\n",
    "NeedleState(x::Int64, y::Int64, psi::Int64) = NeedleState(x,y,psi,false,false)\n",
    "# checks if the position of two states are the same\n",
    "posequal(s1::NeedleState, s2::NeedleState) = s1.x == s2.x && s1.y == s2.y && s1.psi == s2.psi\n",
    "# copies state s2 to s1\n",
    "function Base.copy!(s1::NeedleState, s2::NeedleState) \n",
    "    s1.x = s2.x\n",
    "    s1.y = s2.y\n",
    "    s1.psi = s2.psi\n",
    "    s1.bumped = s2.bumped\n",
    "    s1.done = s2.done\n",
    "    s1\n",
    "end\n",
    "# if you want to use Monte Carlo Tree Search, you will need to define the functions below\n",
    "Base.hash(s::NeedleState, h::UInt64 = zero(UInt64)) = hash(s.x, hash(s.y, hash(s.psi, hash(s.bumped, hash(s.done, h)))))\n",
    "Base.isequal(s1::NeedleState,s2::NeedleState) = s1.x == s2.x && s1.y == s2.y && s1.psi == s2.psi && s1.bumped == s2.bumped && s1.done == s2.done;\n",
    "==(s1::NeedleState, s2::NeedleState) = (s1.x == s2.x && s1.y == s2.y && s1.psi == s2.psi && s1.bumped == s2.bumped && s1.done == s2.done)"
   ]
  },
  {
   "cell_type": "markdown",
   "metadata": {},
   "source": [
    "## POMDP"
   ]
  },
  {
   "cell_type": "code",
   "execution_count": 4,
   "metadata": {
    "collapsed": false
   },
   "outputs": [],
   "source": [
    "# the needle mdp type\n",
    "type Needle <: POMDP{NeedleState, Symbol, NeedleState} # Note that our MDP is parametarized by the state and the action\n",
    "    size_x::Int64 # x size of the grid\n",
    "    size_y::Int64 # y size of the grid\n",
    "    size_psi::Int64 # number of orientation bins\n",
    "    reward_states::Vector{NeedleState} # target/obstacle states\n",
    "    reward_values::Vector{Float64} # reward values for those states\n",
    "    tprob::Array{Float64} # probability of transitioning to the desired state\n",
    "    discount_factor::Float64 # disocunt factor\n",
    "    \n",
    "end"
   ]
  },
  {
   "cell_type": "code",
   "execution_count": 5,
   "metadata": {
    "collapsed": false
   },
   "outputs": [
    {
     "data": {
      "text/plain": [
       "Needle(10,10,8,NeedleState[NeedleState(8,4,1,false,false),NeedleState(8,4,2,false,false),NeedleState(8,4,3,false,false),NeedleState(8,4,4,false,false),NeedleState(8,4,5,false,false),NeedleState(8,4,6,false,false),NeedleState(8,4,7,false,false),NeedleState(8,4,8,false,false),NeedleState(4,6,1,false,false),NeedleState(4,6,2,false,false)  …  NeedleState(8,10,4,false,false),NeedleState(9,10,4,false,false),NeedleState(2,10,5,false,false),NeedleState(3,10,5,false,false),NeedleState(4,10,5,false,false),NeedleState(5,10,5,false,false),NeedleState(6,10,5,false,false),NeedleState(7,10,5,false,false),NeedleState(8,10,5,false,false),NeedleState(9,10,5,false,false)],[100.0,100.0,100.0,100.0,100.0,100.0,100.0,100.0,-20.0,-20.0  …  -5.0,-5.0,-5.0,-5.0,-5.0,-5.0,-5.0,-5.0,-5.0,-5.0],[0.05,0.9,0.05,0.0],0.9)"
      ]
     },
     "execution_count": 5,
     "metadata": {},
     "output_type": "execute_result"
    }
   ],
   "source": [
    "# we use key worded arguments so we can change any of the values we pass in \n",
    "function Needle(;sx::Int64 = 10, # size_x\n",
    "                sy::Int64 = 10, # size_y\n",
    "                spsi::Int64 = 8, # size_psi\n",
    "                rs::Vector{NeedleState} = [[NeedleState(8,4,psi) for psi = 1:spsi]; # target states\n",
    "                                            [NeedleState(4,6,psi) for psi = 1:spsi]; # obstacle states\n",
    "                                            [NeedleState(1,y,psi) for y = 1:sy, psi = 3:7][:]; # boundary states\n",
    "                                            [NeedleState(sx,y,psi) for y = 1:sy, psi = [1:3;7:spsi]][:];\n",
    "                                            [NeedleState(x,1,psi) for x = 2:sx-1, psi = [5:spsi;1]][:];\n",
    "                                            [NeedleState(x,sy,psi) for x = 2:sx-1, psi = 1:5][:]],\n",
    "                rv::Vector{Float64} = [fill(100.0,spsi); fill(-20.0,spsi); fill(-5,(2*sx+2*sy-4)*5)],\n",
    "                tp::Array{Float64} = [0.05, 0.9, 0.05, 0.0], # tprob\n",
    "                discount_factor::Float64 = 0.9)\n",
    "    return Needle(sx, sy, spsi, rs, rv, tp, discount_factor)\n",
    "end\n",
    "\n",
    "# we can now create a NeedleState mdp instance like this:\n",
    "pomdp = Needle()\n",
    "#pomdp.reward_states # mdp contains all the defualt values from the constructor"
   ]
  },
  {
   "cell_type": "markdown",
   "metadata": {},
   "source": [
    "## Spaces"
   ]
  },
  {
   "cell_type": "markdown",
   "metadata": {},
   "source": [
    "### State Space ($ \\mathcal{S}$) "
   ]
  },
  {
   "cell_type": "code",
   "execution_count": 6,
   "metadata": {
    "collapsed": false
   },
   "outputs": [],
   "source": [
    "type StateSpace <: AbstractSpace\n",
    "    states::Vector{NeedleState}\n",
    "end"
   ]
  },
  {
   "cell_type": "code",
   "execution_count": 7,
   "metadata": {
    "collapsed": false
   },
   "outputs": [],
   "source": [
    "function POMDPs.states(pomdp::Needle)\n",
    "    s = NeedleState[] # initialize an array of NeedleStates\n",
    "    # loop over all our states, remeber there are two binary variables: done (d) and bumped(b)\n",
    "    for d = 0:1, b = 0:1, y = 1:pomdp.size_y, x = 1:pomdp.size_x, psi = 1:pomdp.size_psi\n",
    "        push!(s, NeedleState(x,y,psi,b,d))\n",
    "    end\n",
    "    return StateSpace(s)\n",
    "end;"
   ]
  },
  {
   "cell_type": "code",
   "execution_count": 8,
   "metadata": {
    "collapsed": false
   },
   "outputs": [],
   "source": [
    "function POMDPs.iterator(space::StateSpace)\n",
    "    return space.states \n",
    "end;"
   ]
  },
  {
   "cell_type": "code",
   "execution_count": 9,
   "metadata": {
    "collapsed": false
   },
   "outputs": [],
   "source": [
    "function POMDPs.rand(rng::AbstractRNG, space::StateSpace, s::NeedleState)\n",
    "    sp = space.states[rand(rng, 1:end)]\n",
    "    copy!(s, sp)\n",
    "    return s\n",
    "end;\n",
    "POMDPs.rand(rng::AbstractRNG, space::StateSpace) = space.states[rand(rng, 1:end)];"
   ]
  },
  {
   "cell_type": "markdown",
   "metadata": {},
   "source": [
    "## State Distribution"
   ]
  },
  {
   "cell_type": "code",
   "execution_count": 10,
   "metadata": {
    "collapsed": true
   },
   "outputs": [],
   "source": [
    "type NeedleDistribution <: AbstractDistribution\n",
    "    neighbors::Array{NeedleState} # the states s' in the distribution\n",
    "    probs::Array{Float64} # the probability corresponding to each state s'\n",
    "    cat::Categorical # this comes from Distributions.jl and is used for sampling\n",
    "end"
   ]
  },
  {
   "cell_type": "code",
   "execution_count": 11,
   "metadata": {
    "collapsed": true
   },
   "outputs": [],
   "source": [
    "function POMDPs.create_transition_distribution(pomdp::Needle)\n",
    "    # can have at most five neighbors in grid world\n",
    "    neighbors =  [NeedleState(i,i,1) for i = 1:5]\n",
    "    probabilities = zeros(5) + 1.0/5.0\n",
    "    cat = Categorical(5)\n",
    "    return NeedleDistribution(neighbors, probabilities, cat)\n",
    "end;"
   ]
  },
  {
   "cell_type": "code",
   "execution_count": 12,
   "metadata": {
    "collapsed": true
   },
   "outputs": [],
   "source": [
    "function POMDPs.iterator(d::NeedleDistribution)\n",
    "    return d.neighbors\n",
    "end;"
   ]
  },
  {
   "cell_type": "code",
   "execution_count": 13,
   "metadata": {
    "collapsed": true
   },
   "outputs": [],
   "source": [
    "function POMDPs.pdf(d::NeedleDistribution, s::NeedleState)\n",
    "    for (i, sp) in enumerate(d.neighbors)\n",
    "        if s == sp\n",
    "            return d.probs[i]\n",
    "        end\n",
    "    end   \n",
    "    return 0.0\n",
    "end;"
   ]
  },
  {
   "cell_type": "code",
   "execution_count": 14,
   "metadata": {
    "collapsed": true
   },
   "outputs": [],
   "source": [
    "function POMDPs.rand(rng::AbstractRNG, d::NeedleDistribution, s::NeedleState)\n",
    "    d.cat = Categorical(d.probs) # init the categorical distribution\n",
    "    ns = d.neighbors[rand(d.cat)] # sample a neighbor state according to the distribution c\n",
    "    copy!(s, ns)\n",
    "    return s # return the pointer to s\n",
    "end;"
   ]
  },
  {
   "cell_type": "markdown",
   "metadata": {},
   "source": [
    "## Action Space ($\\mathcal{A}$)"
   ]
  },
  {
   "cell_type": "code",
   "execution_count": 15,
   "metadata": {
    "collapsed": false
   },
   "outputs": [],
   "source": [
    "type ActionSpace <: AbstractSpace\n",
    "    actions::Vector{Symbol}\n",
    "end"
   ]
  },
  {
   "cell_type": "code",
   "execution_count": 16,
   "metadata": {
    "collapsed": false
   },
   "outputs": [],
   "source": [
    "function POMDPs.actions(pomdp::Needle)\n",
    "    acts = [:cw, :ccw]\n",
    "    return ActionSpace(acts)\n",
    "end;\n",
    "POMDPs.actions(pomdp::Needle, s::NeedleState, as::ActionSpace=actions(pomdp)) = as;"
   ]
  },
  {
   "cell_type": "code",
   "execution_count": 17,
   "metadata": {
    "collapsed": false
   },
   "outputs": [],
   "source": [
    "function POMDPs.iterator(space::ActionSpace)\n",
    "    return space.actions \n",
    "end;"
   ]
  },
  {
   "cell_type": "code",
   "execution_count": 18,
   "metadata": {
    "collapsed": false
   },
   "outputs": [],
   "source": [
    "function POMDPs.rand(rng::AbstractRNG, space::ActionSpace, a::Symbol)\n",
    "    return space.actions[rand(rng, 1:end)]\n",
    "end;\n",
    "function POMDPs.rand(rng::AbstractRNG, space::ActionSpace)\n",
    "    a = NeedleAction(:cw)\n",
    "    return rand(rng, space, a)\n",
    "end;"
   ]
  },
  {
   "cell_type": "markdown",
   "metadata": {},
   "source": [
    "## Initial State Distribution"
   ]
  },
  {
   "cell_type": "code",
   "execution_count": 19,
   "metadata": {
    "collapsed": true
   },
   "outputs": [],
   "source": [
    "type InitialStateDistribution <: AbstractDistribution\n",
    "    states::Array{NeedleState} # the states s' in the distribution\n",
    "    probs::Array{Float64} # the probability corresponding to each state s'\n",
    "end\n",
    "POMDPs.iterator(d::InitialStateDistribution) = d.states"
   ]
  },
  {
   "cell_type": "code",
   "execution_count": 20,
   "metadata": {
    "collapsed": true
   },
   "outputs": [],
   "source": [
    "function POMDPs.initial_state_distribution(pomdp::Needle)\n",
    "    s = iterator(states(pomdp));\n",
    "    ns = n_states(pomdp);\n",
    "    p = zeros(ns)+1.0/ns;\n",
    "    return InitialStateDistribution(s,p);\n",
    "end\n",
    "\n",
    "function POMDPs.initial_state_distribution(pomdp::Needle, state::NeedleState)\n",
    "    s = [state];\n",
    "    p = [1.0];\n",
    "    return InitialStateDistribution(s,p);\n",
    "end"
   ]
  },
  {
   "cell_type": "code",
   "execution_count": 21,
   "metadata": {
    "collapsed": true
   },
   "outputs": [],
   "source": [
    "function POMDPs.rand(rng::AbstractRNG, d::InitialStateDistribution, s::NeedleState)\n",
    "    cat = Categorical(d.probs) # init the categorical distribution\n",
    "    ns = d.states[rand(cat)] # sample a neighbor state according to the distribution c\n",
    "    copy!(s, ns)\n",
    "    return s # return the pointer to s\n",
    "end;"
   ]
  },
  {
   "cell_type": "code",
   "execution_count": 22,
   "metadata": {
    "collapsed": true
   },
   "outputs": [],
   "source": [
    "function POMDPs.pdf(d::InitialStateDistribution, s::NeedleState)\n",
    "    for (i, sp) in enumerate(d.states)\n",
    "        if s == sp\n",
    "            return d.probs[i]\n",
    "        end\n",
    "    end   \n",
    "    return 0.0\n",
    "end;"
   ]
  },
  {
   "cell_type": "markdown",
   "metadata": {},
   "source": [
    "## Observation Space ($\\mathcal{O}$)"
   ]
  },
  {
   "cell_type": "code",
   "execution_count": 23,
   "metadata": {
    "collapsed": true
   },
   "outputs": [],
   "source": [
    "type ObservationSpace <: AbstractSpace\n",
    "    obs::Vector{NeedleState}\n",
    "end"
   ]
  },
  {
   "cell_type": "code",
   "execution_count": 24,
   "metadata": {
    "collapsed": true
   },
   "outputs": [],
   "source": [
    "function POMDPs.observations(pomdp::Needle)\n",
    "    s = NeedleState[] # initialize an array of GridWorldStates\n",
    "    # loop over all our states, remeber there are two binary variables:\n",
    "    # done (d) and bumped(b)\n",
    "    for d=0:1, b=0:1, psi = 1: pomdp.size_psi, y = 1:pomdp.size_y, x = 1:pomdp.size_x\n",
    "        push!(s, NeedleState(x,y,psi,b,d))\n",
    "    end\n",
    "    return ObservationSpace(s)\n",
    "end;\n",
    "\n",
    "POMDPs.observations(pomdp::Needle, s::NeedleState, obs::ObservationSpace=observations(pomdp)) = obs;"
   ]
  },
  {
   "cell_type": "code",
   "execution_count": 25,
   "metadata": {
    "collapsed": true
   },
   "outputs": [],
   "source": [
    "function POMDPs.iterator(space::ObservationSpace)\n",
    "    return space.obs \n",
    "end;"
   ]
  },
  {
   "cell_type": "markdown",
   "metadata": {},
   "source": [
    "## Observation Distribution"
   ]
  },
  {
   "cell_type": "code",
   "execution_count": 26,
   "metadata": {
    "collapsed": true
   },
   "outputs": [],
   "source": [
    "type ObsDistribution <: AbstractDistribution\n",
    "    curr_obs::NeedleState # the current observation\n",
    "end"
   ]
  },
  {
   "cell_type": "code",
   "execution_count": 27,
   "metadata": {
    "collapsed": true
   },
   "outputs": [],
   "source": [
    "function POMDPs.create_observation_distribution(pomdp::Needle)\n",
    "    # can 9 states of uncertainty\n",
    "    # initialize to whatever\n",
    "    #neighbors, probabilities = generate_neighbors(pomdp, GridWorldState(1,1))\n",
    "    #neighbors =  [GridWorldState(i,i) for i = 1:9]\n",
    "    #probabilities = zeros(9) + 1.0/9.0\n",
    "    #cat = Categorical(1)\n",
    "    return ObsDistribution(NeedleState(1,1,1))\n",
    "end;"
   ]
  },
  {
   "cell_type": "code",
   "execution_count": 28,
   "metadata": {
    "collapsed": true
   },
   "outputs": [],
   "source": [
    "function POMDPs.iterator(d::ObsDistribution)\n",
    "    return [d.curr_obs]\n",
    "end;"
   ]
  },
  {
   "cell_type": "code",
   "execution_count": 29,
   "metadata": {
    "collapsed": true
   },
   "outputs": [],
   "source": [
    "function POMDPs.rand(rng::AbstractRNG, d::ObsDistribution, o::NeedleState)\n",
    "    return d.curr_obs # return the pointer to s\n",
    "end;\n",
    "POMDPs.rand(rng::AbstractRNG, d::ObsDistribution) = d.curr_obs"
   ]
  },
  {
   "cell_type": "code",
   "execution_count": 30,
   "metadata": {
    "collapsed": true
   },
   "outputs": [],
   "source": [
    "function POMDPs.pdf(d::ObsDistribution, o::NeedleState)\n",
    "    if o == d.curr_obs\n",
    "        return 1.0;\n",
    "    end\n",
    "    return 0.0;\n",
    "end"
   ]
  },
  {
   "cell_type": "markdown",
   "metadata": {},
   "source": [
    "## Transition Model (T)"
   ]
  },
  {
   "cell_type": "code",
   "execution_count": 31,
   "metadata": {
    "collapsed": false
   },
   "outputs": [],
   "source": [
    "# transition helpers\n",
    "function inbounds(pomdp::Needle,x::Int64,y::Int64,psi::Int64)\n",
    "    if 1 <= x <= pomdp.size_x && 1 <= y <= pomdp.size_y && 1 <= psi <= pomdp.size_psi\n",
    "        return true\n",
    "    else\n",
    "        return false\n",
    "    end\n",
    "end\n",
    "\n",
    "function inbounds(pomdp::Needle,state::NeedleState)\n",
    "    x = state.x\n",
    "    y = state.y\n",
    "    psi = state.psi\n",
    "    return inbounds(pomdp, x, y, psi)\n",
    "end\n",
    "\n",
    "###########################################################\n",
    "\n",
    "function atbounds(pomdp::Needle,x::Int64,y::Int64,psi::Int64)\n",
    "    # at bounds if: at wall, facing outward or at corner\n",
    "    if (x == 1 || x == pomdp.size_x) && (y == 1 || y == pomdp.size_y) # at corner\n",
    "        return true\n",
    "        elseif (x == 1 && 3 <= psi <= 7) || (x == pomdp.size_x && (7 <= psi || psi <= 3) ) ||\n",
    "        (y == 1 && (5 <= psi || psi <= 1) ) || (y == pomdp.size_y && 1 <= psi <= 5) # at wall, facing outward\n",
    "        return true\n",
    "    else\n",
    "        return false\n",
    "    end\n",
    "end\n",
    "\n",
    "function atbounds(pomdp::Needle,state::NeedleState)\n",
    "    x = state.x\n",
    "    y = state.y\n",
    "    psi = state.psi\n",
    "    return atbounds(pomdp, x, y, psi)\n",
    "end\n",
    "\n",
    "###########################################################\n",
    "\n",
    "function fill_probability!(p::Vector{Float64}, val::Float64, index::Int64)\n",
    "    for i = 1:length(p)\n",
    "        if i == index\n",
    "            p[i] = val\n",
    "        else\n",
    "            p[i] = 0.0\n",
    "        end\n",
    "    end\n",
    "end;\n"
   ]
  },
  {
   "cell_type": "code",
   "execution_count": 32,
   "metadata": {
    "collapsed": false
   },
   "outputs": [],
   "source": [
    "function POMDPs.transition(pomdp::Needle,\n",
    "                            state::NeedleState,\n",
    "                            action::Symbol,\n",
    "                            d::NeedleDistribution=create_transition_distribution(pomdp))\n",
    "    tp = pomdp.tprob\n",
    "    \n",
    "    a = action\n",
    "    x = state.x\n",
    "    y = state.y\n",
    "    psi = state.psi\n",
    "    \n",
    "    neighbors = d.neighbors\n",
    "    probability = d.probs\n",
    "    \n",
    "    # let's handle the done case first\n",
    "    if state.done\n",
    "        # can only transition to the same done state\n",
    "        fill!(probability, 0.0)\n",
    "        probability[1] = 1.0\n",
    "        copy!(neighbors[1], state)\n",
    "        # when we sample d, we will only get the state in neighbors[1] - our done state\n",
    "        return d\n",
    "    end\n",
    "    \n",
    "    fill!(probability, 0.0)\n",
    "\n",
    "    if a == :ccw\n",
    "        if psi == 1\n",
    "            neighbors[1].x = x+1; neighbors[1].y = y;   neighbors[1].psi = psi; \n",
    "            neighbors[2].x = x+1; neighbors[2].y = y;   neighbors[2].psi = psi+1;\n",
    "            neighbors[3].x = x+1; neighbors[3].y = y+1; neighbors[3].psi = psi+1;\n",
    "            neighbors[4].x = x+1; neighbors[4].y = y+1; neighbors[4].psi = psi+2;\n",
    "        elseif psi == 2\n",
    "            neighbors[1].x = x+1; neighbors[1].y = y+1; neighbors[1].psi = psi; \n",
    "            neighbors[2].x = x+1; neighbors[2].y = y+1; neighbors[2].psi = psi+1;\n",
    "            neighbors[3].x = x;   neighbors[3].y = y+1; neighbors[3].psi = psi+1;\n",
    "            neighbors[4].x = x;   neighbors[4].y = y+1; neighbors[4].psi = psi+2;\n",
    "        elseif psi == 3\n",
    "            neighbors[1].x = x;   neighbors[1].y = y+1; neighbors[1].psi = psi; \n",
    "            neighbors[2].x = x;   neighbors[2].y = y+1; neighbors[2].psi = psi+1;\n",
    "            neighbors[3].x = x-1; neighbors[3].y = y+1; neighbors[3].psi = psi+1;\n",
    "            neighbors[4].x = x-1; neighbors[4].y = y+1; neighbors[4].psi = psi+2;\n",
    "        elseif psi == 4\n",
    "            neighbors[1].x = x-1; neighbors[1].y = y+1; neighbors[1].psi = psi; \n",
    "            neighbors[2].x = x-1; neighbors[2].y = y+1; neighbors[2].psi = psi+1;\n",
    "            neighbors[3].x = x-1; neighbors[3].y = y;   neighbors[3].psi = psi+1;\n",
    "            neighbors[4].x = x-1; neighbors[4].y = y;   neighbors[4].psi = psi+2;\n",
    "        elseif psi == 5\n",
    "            neighbors[1].x = x-1; neighbors[1].y = y;   neighbors[1].psi = psi; \n",
    "            neighbors[2].x = x-1; neighbors[2].y = y;   neighbors[2].psi = psi+1;\n",
    "            neighbors[3].x = x-1; neighbors[3].y = y-1; neighbors[3].psi = psi+1;\n",
    "            neighbors[4].x = x-1; neighbors[4].y = y-1; neighbors[4].psi = psi+2;\n",
    "        elseif psi == 6\n",
    "            neighbors[1].x = x-1; neighbors[1].y = y-1; neighbors[1].psi = psi; \n",
    "            neighbors[2].x = x-1; neighbors[2].y = y-1; neighbors[2].psi = psi+1;\n",
    "            neighbors[3].x = x;   neighbors[3].y = y-1; neighbors[3].psi = psi+1;\n",
    "            neighbors[4].x = x;   neighbors[4].y = y-1; neighbors[4].psi = psi+2;\n",
    "        elseif psi == 7\n",
    "            neighbors[1].x = x;   neighbors[1].y = y-1; neighbors[1].psi = psi; \n",
    "            neighbors[2].x = x;   neighbors[2].y = y-1; neighbors[2].psi = psi+1;\n",
    "            neighbors[3].x = x+1; neighbors[3].y = y-1; neighbors[3].psi = psi+1;\n",
    "            neighbors[4].x = x+1; neighbors[4].y = y-1; neighbors[4].psi = psi+2;\n",
    "        elseif psi == 8\n",
    "            neighbors[1].x = x+1; neighbors[1].y = y-1; neighbors[1].psi = psi; \n",
    "            neighbors[2].x = x+1; neighbors[2].y = y-1; neighbors[2].psi = psi+1;\n",
    "            neighbors[3].x = x+1; neighbors[3].y = y;   neighbors[3].psi = psi+1;\n",
    "            neighbors[4].x = x+1; neighbors[4].y = y;   neighbors[4].psi = psi+2;\n",
    "        end\n",
    "    elseif a == :cw\n",
    "        if psi == 1\n",
    "            neighbors[1].x = x+1; neighbors[1].y = y;   neighbors[1].psi = psi; \n",
    "            neighbors[2].x = x+1; neighbors[2].y = y;   neighbors[2].psi = psi+7;\n",
    "            neighbors[3].x = x+1; neighbors[3].y = y-1; neighbors[3].psi = psi+7;\n",
    "            neighbors[4].x = x+1; neighbors[4].y = y-1; neighbors[4].psi = psi+6;\n",
    "        elseif psi == 2\n",
    "            neighbors[1].x = x+1; neighbors[1].y = y+1; neighbors[1].psi = psi; \n",
    "            neighbors[2].x = x+1; neighbors[2].y = y+1; neighbors[2].psi = psi+7;\n",
    "            neighbors[3].x = x+1; neighbors[3].y = y;   neighbors[3].psi = psi+7;\n",
    "            neighbors[4].x = x+1; neighbors[4].y = y;   neighbors[4].psi = psi+6;\n",
    "        elseif psi == 3\n",
    "            neighbors[1].x = x;   neighbors[1].y = y+1; neighbors[1].psi = psi; \n",
    "            neighbors[2].x = x;   neighbors[2].y = y+1; neighbors[2].psi = psi+7;\n",
    "            neighbors[3].x = x+1; neighbors[3].y = y+1; neighbors[3].psi = psi+7;\n",
    "            neighbors[4].x = x+1; neighbors[4].y = y+1; neighbors[4].psi = psi+6;\n",
    "        elseif psi == 4\n",
    "            neighbors[1].x = x-1; neighbors[1].y = y+1; neighbors[1].psi = psi; \n",
    "            neighbors[2].x = x-1; neighbors[2].y = y+1; neighbors[2].psi = psi+7;\n",
    "            neighbors[3].x = x;   neighbors[3].y = y+1; neighbors[3].psi = psi+7;\n",
    "            neighbors[4].x = x;   neighbors[4].y = y+1; neighbors[4].psi = psi+6;\n",
    "        elseif psi == 5\n",
    "            neighbors[1].x = x-1; neighbors[1].y = y;   neighbors[1].psi = psi; \n",
    "            neighbors[2].x = x-1; neighbors[2].y = y;   neighbors[2].psi = psi+7;\n",
    "            neighbors[3].x = x-1; neighbors[3].y = y+1; neighbors[3].psi = psi+7;\n",
    "            neighbors[4].x = x-1; neighbors[4].y = y+1; neighbors[4].psi = psi+6;\n",
    "        elseif psi == 6\n",
    "            neighbors[1].x = x-1; neighbors[1].y = y-1; neighbors[1].psi = psi; \n",
    "            neighbors[2].x = x-1; neighbors[2].y = y-1; neighbors[2].psi = psi+7;\n",
    "            neighbors[3].x = x-1; neighbors[3].y = y;   neighbors[3].psi = psi+7;\n",
    "            neighbors[4].x = x-1; neighbors[4].y = y;   neighbors[4].psi = psi+6;\n",
    "        elseif psi == 7\n",
    "            neighbors[1].x = x;   neighbors[1].y = y-1; neighbors[1].psi = psi; \n",
    "            neighbors[2].x = x;   neighbors[2].y = y-1; neighbors[2].psi = psi+7;\n",
    "            neighbors[3].x = x-1; neighbors[3].y = y-1; neighbors[3].psi = psi+7;\n",
    "            neighbors[4].x = x-1; neighbors[4].y = y-1; neighbors[4].psi = psi+6;\n",
    "        elseif psi == 8\n",
    "            neighbors[1].x = x+1; neighbors[1].y = y-1; neighbors[1].psi = psi; \n",
    "            neighbors[2].x = x+1; neighbors[2].y = y-1; neighbors[2].psi = psi+7;\n",
    "            neighbors[3].x = x;   neighbors[3].y = y-1; neighbors[3].psi = psi+7;\n",
    "            neighbors[4].x = x;   neighbors[4].y = y-1; neighbors[4].psi = psi+6;\n",
    "        end\n",
    "    end\n",
    "    # make sure psi is between 1 and 8\n",
    "    for i = 1:4\n",
    "        neighbors[i].psi = mod(neighbors[i].psi,8)\n",
    "        if neighbors[i].psi == 0\n",
    "            neighbors[i].psi = 8;\n",
    "        end\n",
    "    end\n",
    "    neighbors[5].x = x; neighbors[5].y = y; neighbors[5].psi = psi;\n",
    "    \n",
    "    # initialize bumped and done states \n",
    "    for i = 1:5 neighbors[i].bumped = false end\n",
    "    for i = 1:5 neighbors[i].done = false end\n",
    "    reward_states = pomdp.reward_states\n",
    "    \n",
    "    # detection of done states\n",
    "    n = length(reward_states)\n",
    "    for i = 1:n\n",
    "        # terminate at target/obstacle\n",
    "        if posequal(state, reward_states[i])\n",
    "            fill_probability!(probability, 1.0, 5)\n",
    "            neighbors[5].done = true\n",
    "            return d\n",
    "        end\n",
    "        # terminate at boundary\n",
    "        if atbounds(pomdp, state)\n",
    "            fill_probability!(probability, 1.0, 5)\n",
    "            neighbors[5].done = true\n",
    "            neighbors[5].bumped = true\n",
    "            return d\n",
    "        end\n",
    "    end\n",
    "    \n",
    "    if !inbounds(pomdp, neighbors[1]) || !inbounds(pomdp, neighbors[2]) ||\n",
    "        !inbounds(pomdp, neighbors[3]) || !inbounds(pomdp, neighbors[4]) # at least one of the neighbors is outside bounds\n",
    "        fill_probability!(probability, 1.0, 5) # stuck in current state when terminated\n",
    "        neighbors[5].bumped = true     \n",
    "    else # none of the neighbors is outside bounds\n",
    "        probability[1:4] = tp\n",
    "    end\n",
    "    \n",
    "    return d\n",
    "end;"
   ]
  },
  {
   "cell_type": "markdown",
   "metadata": {},
   "source": [
    "## Observation Model (O)"
   ]
  },
  {
   "cell_type": "code",
   "execution_count": 33,
   "metadata": {
    "collapsed": true
   },
   "outputs": [],
   "source": [
    "function POMDPs.observation(pomdp::Needle,\n",
    "                           action::Symbol,\n",
    "                           state::NeedleState,\n",
    "                           d::ObsDistribution=create_observation_distribution(pomdp))\n",
    "    a = action\n",
    "    x = state.x\n",
    "    y = state.y\n",
    "    psi = state.psi\n",
    "    d.curr_obs = NeedleState(x, y, psi);\n",
    "    return d\n",
    "end\n",
    "\n",
    "POMDPs.observation(pomdp::Needle,\n",
    "                   state::NeedleState,\n",
    "                   action::Symbol,\n",
    "                   sp::NeedleState,\n",
    "                    d::ObsDistribution = create_observation_distribution(pomdp)) = observation(pomdp, action, sp, d);"
   ]
  },
  {
   "cell_type": "markdown",
   "metadata": {},
   "source": [
    "## Reward Model (R)\n",
    "The reward model $R(s,a,s')$ is a function that returns the reward of being in state $s$, taking an action $a$ from that state, and ending up in state $s'$. In our problem, we are rewarded for reaching a terimanl reward state (this could be positive or negative), and we are penalized for bumping into a wall."
   ]
  },
  {
   "cell_type": "code",
   "execution_count": 34,
   "metadata": {
    "collapsed": false
   },
   "outputs": [],
   "source": [
    "function POMDPs.reward(pomdp::Needle, state::NeedleState, action::Symbol) #deleted action\n",
    "    if state.done\n",
    "        return 0.0\n",
    "    end\n",
    "    r = 0.0\n",
    "    reward_states = pomdp.reward_states\n",
    "    reward_values = pomdp.reward_values\n",
    "    n = length(reward_states)\n",
    "    for i = 1:n\n",
    "        if posequal(state, reward_states[i]) # reward, obstacle and wall states\n",
    "            r += reward_values[i]\n",
    "        end\n",
    "    end\n",
    "    r += -1; # penalty for every step taken\n",
    "    return r\n",
    "end;\n"
   ]
  },
  {
   "cell_type": "code",
   "execution_count": 35,
   "metadata": {
    "collapsed": false
   },
   "outputs": [],
   "source": [
    "POMDPs.n_states(pomdp::Needle) = 4*pomdp.size_x*pomdp.size_y*pomdp.size_psi\n",
    "POMDPs.n_actions(pomdp::Needle) = 2;\n",
    "POMDPs.n_observations(pomdp::Needle) = 4*pomdp.size_x*pomdp.size_y*pomdp.size_psi;\n",
    "POMDPs.discount(pomdp::Needle) = pomdp.discount_factor;"
   ]
  },
  {
   "cell_type": "code",
   "execution_count": 36,
   "metadata": {
    "collapsed": false
   },
   "outputs": [],
   "source": [
    "function POMDPs.state_index(pomdp::Needle, state::NeedleState)\n",
    "    sb = Int(state.bumped + 1)\n",
    "    sd = Int(state.done + 1)\n",
    "    return sub2ind((pomdp.size_x, pomdp.size_y, pomdp.size_psi, 2, 2), state.x, state.y, state.psi, sb, sd)\n",
    "end;"
   ]
  },
  {
   "cell_type": "code",
   "execution_count": 37,
   "metadata": {
    "collapsed": false
   },
   "outputs": [],
   "source": [
    "function POMDPs.isterminal(pomdp::Needle, s::NeedleState)\n",
    "    s.done ? (return true) : (return false)\n",
    "end;"
   ]
  },
  {
   "cell_type": "code",
   "execution_count": 38,
   "metadata": {
    "collapsed": false
   },
   "outputs": [],
   "source": [
    "POMDPs.create_state(pomdp::Needle) = NeedleState(1,1,1)\n",
    "POMDPs.create_action(pomdp::Needle) = :cw;\n",
    "POMDPs.create_observation(pomd::Needle) = NeedleState(1,1,1)"
   ]
  },
  {
   "cell_type": "markdown",
   "metadata": {},
   "source": [
    "## SARSOP Solver"
   ]
  },
  {
   "cell_type": "code",
   "execution_count": 39,
   "metadata": {
    "collapsed": false
   },
   "outputs": [
    {
     "name": "stdout",
     "output_type": "stream",
     "text": [
      "Generating a pomdpx file: model.pomdpx\n",
      "\n",
      "Loading the model ...\n",
      "  input file   : model.pomdpx\n",
      "  loading time : 3.11s \n",
      "\n",
      "SARSOP initializing ...\n",
      "  initialization time : 0.13s\n",
      "\n",
      "-------------------------------------------------------------------------------\n",
      " Time   |#Trial |#Backup |LBound    |UBound    |Precision  |#Alphas |#Beliefs  \n",
      "-------------------------------------------------------------------------------\n",
      " 0.13    0       0        -1.52917   7.48277    9.01194     2        1        \n",
      " 1.33    5       55       3.79431    4.49447    0.700162    28       29       \n",
      " 2.31    6       100      4.02999    4.49447    0.464481    64       47       \n",
      " 3.5     9       155      4.2044     4.49447    0.290066    108      65       \n",
      " 4.48    11      200      4.24737    4.49447    0.247099    139      82       \n",
      " 5.57    14      250      4.30918    4.49447    0.185289    182      99       \n",
      " 6.71    15      300      4.35344    4.49447    0.141026    218      113      \n",
      " 7.86    17      350      4.38503    4.49447    0.10944     252      120      \n",
      " 9.03    19      400      4.40619    4.49447    0.0882837   292      132      \n",
      " 10.22   21      450      4.41637    4.49447    0.0780951   327      144      \n",
      " 11.44   24      500      4.44291    4.49447    0.0515638   370      158      \n",
      " 12.77   28      553      4.45668    4.49447    0.037788    412      167      \n",
      " 14.01   32      600      4.46588    4.49447    0.0285942   437      182      \n",
      " 15.33   36      650      4.47456    4.49447    0.0199094   475      193      \n",
      " 16.71   38      703      4.48043    4.49447    0.0140388   513      196      \n",
      " 18      40      750      4.48447    4.49447    0.0100035   552      201      \n",
      " 19.41   43      800      4.48751    4.49447    0.00695555  588      210      \n",
      " 20.57   47      850      4.48917    4.49447    0.00530414  638      212      \n",
      " 22.04   48      900      4.49011    4.49447    0.00436422  671      215      \n",
      " 23.24   53      950      4.49122    4.49447    0.00325265  721      218      \n",
      " 24.86   57      1000     4.49165    4.49447    0.002815    744      226      \n",
      " 26.16   60      1055     4.49218    4.49447    0.00229191  799      230      \n",
      " 27.24   62      1100     4.49249    4.49447    0.00198359  826      231      \n",
      " 29.01   66      1150     4.49281    4.49447    0.00166326  852      232      \n",
      " 30.17   68      1200     4.49318    4.49447    0.00128852  902      234      \n",
      " 31.38   70      1250     4.49339    4.49447    0.00108046  938      236      \n",
      " 32.21   72      1285     4.49348    4.49447    0.000987004 973      236      \n",
      "-------------------------------------------------------------------------------\n",
      "\n",
      "SARSOP finishing ...\n",
      "  target precision reached\n",
      "  target precision  : 0.001000\n",
      "  precision reached : 0.000987 \n",
      "\n",
      "-------------------------------------------------------------------------------\n",
      " Time   |#Trial |#Backup |LBound    |UBound    |Precision  |#Alphas |#Beliefs  \n",
      "-------------------------------------------------------------------------------\n",
      " 32.27   72      1285     4.49348    4.49447    0.000987004 967      236      \n",
      "-------------------------------------------------------------------------------\n",
      "\n",
      "Writing out policy ...\n",
      "  output file : out.policy\n",
      "\n"
     ]
    },
    {
     "data": {
      "text/plain": [
       "SARSOP.POMDPPolicy(\"out.policy\",POMDPXFiles.POMDPAlphas([-1.0 -1.0 … -1.0 -1.0; -1.0 -1.0 … -1.0 -1.0; … ; 0.0 0.0 … 0.0 0.0; 0.0 0.0 … 0.0 0.0],[0,0,0,0,0,0,0,0,0,0  …  0,0,0,0,0,0,0,0,0,1]),Needle(10,10,8,NeedleState[NeedleState(8,4,1,false,false),NeedleState(8,4,2,false,false),NeedleState(8,4,3,false,false),NeedleState(8,4,4,false,false),NeedleState(8,4,5,false,false),NeedleState(8,4,6,false,false),NeedleState(8,4,7,false,false),NeedleState(8,4,8,false,false),NeedleState(4,6,1,false,false),NeedleState(4,6,2,false,false)  …  NeedleState(8,10,4,false,false),NeedleState(9,10,4,false,false),NeedleState(2,10,5,false,false),NeedleState(3,10,5,false,false),NeedleState(4,10,5,false,false),NeedleState(5,10,5,false,false),NeedleState(6,10,5,false,false),NeedleState(7,10,5,false,false),NeedleState(8,10,5,false,false),NeedleState(9,10,5,false,false)],[100.0,100.0,100.0,100.0,100.0,100.0,100.0,100.0,-20.0,-20.0  …  -5.0,-5.0,-5.0,-5.0,-5.0,-5.0,-5.0,-5.0,-5.0,-5.0],[0.05,0.9,0.05,0.0],0.9),Any[:cw,:ccw])"
      ]
     },
     "execution_count": 39,
     "metadata": {},
     "output_type": "execute_result"
    }
   ],
   "source": [
    "# using SARSOP # load the module\n",
    "# # initialize our tiger POMDP\n",
    "# pomdp = Needle()\n",
    "\n",
    "# # initialize the solver\n",
    "# solver = SARSOPSolver()\n",
    "# # run the solve function\n",
    "# policy = solve(solver, pomdp)\n",
    "\n",
    "# # save the policy\n",
    "# filename = \"SARSOP policy\"\n",
    "# JLD.save(string(filename,\".jld\"),\"policy\",policy)"
   ]
  },
  {
   "cell_type": "code",
   "execution_count": 41,
   "metadata": {
    "collapsed": false
   },
   "outputs": [],
   "source": [
    "# using SARSOP\n",
    "# filename = \"SARSOP policy\"\n",
    "# policy = JLD.load(string(filename,\".jld\"), \"policy\")"
   ]
  },
  {
   "cell_type": "code",
   "execution_count": 43,
   "metadata": {
    "collapsed": false
   },
   "outputs": [
    {
     "name": "stdout",
     "output_type": "stream",
     "text": [
      "Invalid update for: POMDPToolbox.DiscreteBelief([0.0,0.0,0.0,0.0,0.0,0.0,0.0,0.0,0.0,0.0,0.0,0.0,0.0,0.0,0.0,0.0,0.0,0.0,0.0,0.0,0.0,0.0,0.0,0.0,0.0,0.0,0.0,0.0,0.0,0.0,0.0,0.0,0.0,0.0,0.0,0.0,0.0,0.0,0.0,0.0,0.0,0.0,0.0,0.0,0.0,0.0,0.0,0.0,0.0,0.0,0.0,0.0,0.0,0.0,0.0,0.0,0.0,0.0,0.0,0.0,0.0,0.0,0.0,0.0,0.0,0.0,0.0,0.0,0.0,0.0,0.0,0.0,0.0,0.0,0.0,0.0,0.0,0.0,0.0,0.0,0.0,0.0,0.0,0.0,0.0,0.0,0.0,0.0,0.0,0.0,0.0,0.0,0.0,0.0,0.0,0.0,0.0,0.0,0.0,0.0,0.0,0.0,0.0,0.0,0.0,0.0,0.0,0.0,0.0,0.0,0.0,0.0,0.0,0.0,0.0,0.0,0.0,0.0,0.0,0.0,0.0,0.0,0.0,0.0,0.0,0.0,0.0,0.0,0.0,0.0,0.0,0.0,0.0,0.0,0.0,0.0,0.0,0.0,0.0,0.0,0.0,0.0,0.0,0.0,0.0,0.0,0.0,0.0,0.0,0.0,0.0,0.0,0.0,0.0,0.0,0.0,0.0,0.0,0.0,0.0,0.0,0.0,0.0,0.0,0.0,0.0,0.0,0.0,0.0,0.0,0.0,0.0,0.0,0.0,0.0,0.0,0.0,0.0,0.0,0.0,0.0,0.0,0.0,0.0,0.0,0.0,0.0,0.0,0.0,0.0,0.0,0.0,0.0,0.0,0.0,0.0,0.0,0.0,0.0,0.0,0.0,0.0,0.0,0.0,0.0,0.0,0.0,0.0,0.0,0.0,0.0,0.0,0.0,0.0,0.0,0.0,0.0,0.0,0.0,0.0,0.0,0.0,0.0,0.0,0.0,0.0,0.0,0.0,0.0,0.0,0.0,0.0,0.0,0.0,0.0,0.0,0.0,0.0,0.0,0.0,0.0,0.0,0.0,0.0,0.0,0.0,0.0,0.0,0.0,0.0,0.0,0.0,0.0,0.0,0.0,0.0,0.0,0.0,0.0,0.0,0.0,0.0,0.0,0.0,0.0,0.0,0.0,0.0,0.0,0.0,0.0,0.0,0.0,0.0,0.0,0.0,0.0,0.0,0.0,0.0,0.0,0.0,0.0,0.0,0.0,0.0,0.0,0.0,0.0,0.0,0.0,0.0,0.0,0.0,0.0,0.0,0.0,0.0,0.0,0.0,0.0,0.0,0.0,0.0,0.0,0.0,0.0,0.0,0.0,0.0,0.0,0.0,0.0,0.0,0.0,0.0,0.0,0.0,0.0,0.0,0.0,0.0,0.0,0.0,0.0,0.0,0.0,0.0,0.0,0.0,0.0,0.0,0.0,0.0,0.0,0.0,0.0,0.0,0.0,0.0,0.0,0.0,0.0,0.0,0.0,0.0,0.0,0.0,0.0,0.0,0.0,0.0,0.0,0.0,0.0,0.0,0.0,0.0,0.0,0.0,0.0,0.0,0.0,0.0,0.0,0.0,0.0,0.0,0.0,0.0,0.0,0.0,0.0,0.0,0.0,0.0,0.0,0.0,0.0,0.0,0.0,0.0,0.0,0.0,0.0,0.0,0.0,0.0,0.0,0.0,0.0,0.0,0.0,0.0,0.0,0.0,0.0,0.0,0.0,0.0,0.0,0.0,0.0,0.0,0.0,0.0,0.0,0.0,0.0,0.0,0.0,0.0,0.0,0.0,0.0,0.0,0.0,0.0,0.0,0.0,0.0,0.0,0.0,0.0,0.0,0.0,0.0,0.0,0.0,0.0,0.0,0.0,0.0,0.0,0.0,0.0,0.0,0.0,0.0,0.0,0.0,0.0,0.0,0.0,0.0,0.0,0.0,0.0,0.0,0.0,0.0,0.0,0.0,0.0,0.0,0.0,0.0,0.0,0.0,0.0,0.0,0.0,0.0,0.0,0.0,0.0,0.0,0.0,0.0,0.0,0.0,0.0,0.0,0.0,0.0,0.0,0.0,0.0,0.0,0.0,0.0,0.0,0.0,0.0,0.0,0.0,0.0,0.0,0.0,0.0,0.0,0.0,0.0,0.0,0.0,0.0,0.0,0.0,0.0,0.0,0.0,0.0,0.0,0.0,0.0,0.0,0.0,0.0,0.0,0.0,0.0,0.0,0.0,0.0,0.0,0.0,0.0,0.0,0.0,0.0,0.0,0.0,0.0,0.0,0.0,0.0,0.0,0.0,0.0,0.0,0.0,0.0,0.0,0.0,0.0,0.0,0.0,0.0,0.0,0.0,0.0,0.0,0.0,0.0,0.0,0.0,0.0,0.0,0.0,0.0,0.0,0.0,0.0,0.0,0.0,0.0,0.0,0.0,0.0,0.0,0.0,0.0,0.0,0.0,0.0,0.0,0.0,0.0,0.0,0.0,0.0,0.0,0.0,0.0,0.0,0.0,0.0,0.0,0.0,0.0,0.0,0.0,0.0,0.0,0.0,0.0,0.0,0.0,0.0,0.0,0.0,0.0,0.0,0.0,0.0,0.0,0.0,0.0,0.0,0.0,0.0,0.0,0.0,0.0,0.0,0.0,0.0,0.0,0.0,0.0,0.0,0.0,0.0,0.0,0.0,0.0,0.0,0.0,0.0,0.0,0.0,0.0,0.0,0.0,0.0,0.0,0.0,0.0,0.0,0.0,0.0,0.0,0.0,0.0,0.0,0.0,0.0,0.0,0.0,0.0,0.0,0.0,0.0,0.0,0.0,0.0,0.0,0.0,0.0,0.0,0.0,0.0,0.0,0.0,0.0,0.0,0.0,0.0,0.0,0.0,0.0,0.0,0.0,0.0,0.0,0.0,0.0,0.0,0.0,0.0,0.0,0.0,0.0,0.0,0.0,0.0,0.0,0.0,0.0,0.0,0.0,0.0,0.0,0.0,0.0,0.0,0.0,0.0,0.0,0.0,0.0,0.0,0.0,1.0,0.0,0.0,0.0,0.0,0.0,0.0,0.0,0.0,0.0,0.0,0.0,0.0,0.0,0.0,0.0,0.0,0.0,0.0,0.0,0.0,0.0,0.0,0.0,0.0,0.0,0.0,0.0,0.0,0.0,0.0,0.0,0.0,0.0,0.0,0.0,0.0,0.0,0.0,0.0,0.0,0.0,0.0,0.0,0.0,0.0,0.0,0.0,0.0,0.0,0.0,0.0,0.0,0.0,0.0,0.0,0.0,0.0,0.0,0.0,0.0,0.0,0.0,0.0,0.0,0.0,0.0,0.0,0.0,0.0,0.0,0.0,0.0,0.0,0.0,0.0,0.0,0.0,0.0,0.0,0.0,0.0,0.0,0.0,0.0,0.0,0.0,0.0,0.0,0.0,0.0,0.0,0.0,0.0,0.0,0.0,0.0,0.0,0.0,0.0,0.0,0.0,0.0,0.0,0.0,0.0,0.0,0.0,0.0,0.0,0.0,0.0,0.0,0.0,0.0,0.0,0.0,0.0,0.0,0.0,0.0,0.0,0.0,0.0,0.0,0.0,0.0,0.0,0.0,0.0,0.0,0.0,0.0,0.0,0.0,0.0,0.0,0.0,0.0,0.0,0.0,0.0,0.0,0.0,0.0,0.0,0.0,0.0,0.0,0.0,0.0,0.0,0.0,0.0,0.0,0.0,0.0,0.0,0.0,0.0,0.0,0.0,0.0,0.0,0.0,0.0,0.0,0.0,0.0,0.0,0.0,0.0,0.0,0.0,0.0,0.0,0.0,0.0,0.0,0.0,0.0,0.0,0.0,0.0,0.0,0.0,0.0,0.0,0.0,0.0,0.0,0.0,0.0,0.0,0.0,0.0,0.0,0.0,0.0,0.0,0.0,0.0,0.0,0.0,0.0,0.0,0.0,0.0,0.0,0.0,0.0,0.0,0.0,0.0,0.0,0.0,0.0,0.0,0.0,0.0,0.0,0.0,0.0,0.0,0.0,0.0,0.0,0.0,0.0,0.0,0.0,0.0,0.0,0.0,0.0,0.0,0.0,0.0,0.0,0.0,0.0,0.0,0.0,0.0,0.0,0.0,0.0,0.0,0.0,0.0,0.0,0.0,0.0,0.0,0.0,0.0,0.0,0.0,0.0,0.0,0.0,0.0,0.0,0.0,0.0,0.0,0.0,0.0,0.0,0.0,0.0,0.0,0.0,0.0,0.0,0.0,0.0,0.0,0.0,0.0,0.0,0.0,0.0,0.0,0.0,0.0,0.0,0.0,0.0,0.0,0.0,0.0,0.0,0.0,0.0,0.0,0.0,0.0,0.0,0.0,0.0,0.0,0.0,0.0,0.0,0.0,0.0,0.0,0.0,0.0,0.0,0.0,0.0,0.0,0.0,0.0,0.0,0.0,0.0,0.0,0.0,0.0,0.0,0.0,0.0,0.0,0.0,0.0,0.0,0.0,0.0,0.0,0.0,0.0,0.0,0.0,0.0,0.0,0.0,0.0,0.0,0.0,0.0,0.0,0.0,0.0,0.0,0.0,0.0,0.0,0.0,0.0,0.0,0.0,0.0,0.0,0.0,0.0,0.0,0.0,0.0,0.0,0.0,0.0,0.0,0.0,0.0,0.0,0.0,0.0,0.0,0.0,0.0,0.0,0.0,0.0,0.0,0.0,0.0,0.0,0.0,0.0,0.0,0.0,0.0,0.0,0.0,0.0,0.0,0.0,0.0,0.0,0.0,0.0,0.0,0.0,0.0,0.0,0.0,0.0,0.0,0.0,0.0,0.0,0.0,0.0,0.0,0.0,0.0,0.0,0.0,0.0,0.0,0.0,0.0,0.0,0.0,0.0,0.0,0.0,0.0,0.0,0.0,0.0,0.0,0.0,0.0,0.0,0.0,0.0,0.0,0.0,0.0,0.0,0.0,0.0,0.0,0.0,0.0,0.0,0.0,0.0,0.0,0.0,0.0,0.0,0.0,0.0,0.0,0.0,0.0,0.0,0.0,0.0,0.0,0.0,0.0,0.0,0.0,0.0,0.0,0.0,0.0,0.0,0.0,0.0,0.0,0.0,0.0,0.0,0.0,0.0,0.0,0.0,0.0,0.0,0.0,0.0,0.0,0.0,0.0,0.0,0.0,0.0,0.0,0.0,0.0,0.0,0.0,0.0,0.0,0.0,0.0,0.0,0.0,0.0,0.0,0.0,0.0,0.0,0.0,0.0,0.0,0.0,0.0,0.0,0.0,0.0,0.0,0.0,0.0,0.0,0.0,0.0,0.0,0.0,0.0,0.0,0.0,0.0,0.0,0.0,0.0,0.0,0.0,0.0,0.0,0.0,0.0,0.0,0.0,0.0,0.0,0.0,0.0,0.0,0.0,0.0,0.0,0.0,0.0,0.0,0.0,0.0,0.0,0.0,0.0,0.0,0.0,0.0,0.0,0.0,0.0,0.0,0.0,0.0,0.0,0.0,0.0,0.0,0.0,0.0,0.0,0.0,0.0,0.0,0.0,0.0,0.0,0.0,0.0,0.0,0.0,0.0,0.0,0.0,0.0,0.0,0.0,0.0,0.0,0.0,0.0,0.0,0.0,0.0,0.0,0.0,0.0,0.0,0.0,0.0,0.0,0.0,0.0,0.0,0.0,0.0,0.0,0.0,0.0,0.0,0.0,0.0,0.0,0.0,0.0,0.0,0.0,0.0,0.0,0.0,0.0,0.0,0.0,0.0,0.0,0.0,0.0,0.0,0.0,0.0,0.0,0.0,0.0,0.0,0.0,0.0,0.0,0.0,0.0,0.0,0.0,0.0,0.0,0.0,0.0,0.0,0.0,0.0,0.0,0.0,0.0,0.0,0.0,0.0,0.0,0.0,0.0,0.0,0.0,0.0,0.0,0.0,0.0,0.0,0.0,0.0,0.0,0.0,0.0,0.0,0.0,0.0,0.0,0.0,0.0,0.0,0.0,0.0,0.0,0.0,0.0,0.0,0.0,0.0,0.0,0.0,0.0,0.0,0.0,0.0,0.0,0.0,0.0,0.0,0.0,0.0,0.0,0.0,0.0,0.0,0.0,0.0,0.0,0.0,0.0,0.0,0.0,0.0,0.0,0.0,0.0,0.0,0.0,0.0,0.0,0.0,0.0,0.0,0.0,0.0,0.0,0.0,0.0,0.0,0.0,0.0,0.0,0.0,0.0,0.0,0.0,0.0,0.0,0.0,0.0,0.0,0.0,0.0,0.0,0.0,0.0,0.0,0.0,0.0,0.0,0.0,0.0,0.0,0.0,0.0,0.0,0.0,0.0,0.0,0.0,0.0,0.0,0.0,0.0,0.0,0.0,0.0,0.0,0.0,0.0,0.0,0.0,0.0,0.0,0.0,0.0,0.0,0.0,0.0,0.0,0.0,0.0,0.0,0.0,0.0,0.0,0.0,0.0,0.0,0.0,0.0,0.0,0.0,0.0,0.0,0.0,0.0,0.0,0.0,0.0,0.0,0.0,0.0,0.0,0.0,0.0,0.0,0.0,0.0,0.0,0.0,0.0,0.0,0.0,0.0,0.0,0.0,0.0,0.0,0.0,0.0,0.0,0.0,0.0,0.0,0.0,0.0,0.0,0.0,0.0,0.0,0.0,0.0,0.0,0.0,0.0,0.0,0.0,0.0,0.0,0.0,0.0,0.0,0.0,0.0,0.0,0.0,0.0,0.0,0.0,0.0,0.0,0.0,0.0,0.0,0.0,0.0,0.0,0.0,0.0,0.0,0.0,0.0,0.0,0.0,0.0,0.0,0.0,0.0,0.0,0.0,0.0,0.0,0.0,0.0,0.0,0.0,0.0,0.0,0.0,0.0,0.0,0.0,0.0,0.0,0.0,0.0,0.0,0.0,0.0,0.0,0.0,0.0,0.0,0.0,0.0,0.0,0.0,0.0,0.0,0.0,0.0,0.0,0.0,0.0,0.0,0.0,0.0,0.0,0.0,0.0,0.0,0.0,0.0,0.0,0.0,0.0,0.0,0.0,0.0,0.0,0.0,0.0,0.0,0.0,0.0,0.0,0.0,0.0,0.0,0.0,0.0,0.0,0.0,0.0,0.0,0.0,0.0,0.0,0.0,0.0,0.0,0.0,0.0,0.0,0.0,0.0,0.0,0.0,0.0,0.0,0.0,0.0,0.0,0.0,0.0,0.0,0.0,0.0,0.0,0.0,0.0,0.0,0.0,0.0,0.0,0.0,0.0,0.0,0.0,0.0,0.0,0.0,0.0,0.0,0.0,0.0,0.0,0.0,0.0,0.0,0.0,0.0,0.0,0.0,0.0,0.0,0.0,0.0,0.0,0.0,0.0,0.0,0.0,0.0,0.0,0.0,0.0,0.0,0.0,0.0,0.0,0.0,0.0,0.0,0.0,0.0,0.0,0.0,0.0,0.0,0.0,0.0,0.0,0.0,0.0,0.0,0.0,0.0,0.0,0.0,0.0,0.0,0.0,0.0,0.0,0.0,0.0,0.0,0.0,0.0,0.0,0.0,0.0,0.0,0.0,0.0,0.0,0.0,0.0,0.0,0.0,0.0,0.0,0.0,0.0,0.0,0.0,0.0,0.0,0.0,0.0,0.0,0.0,0.0,0.0,0.0,0.0,0.0,0.0,0.0,0.0,0.0,0.0,0.0,0.0,0.0,0.0,0.0,0.0,0.0,0.0,0.0,0.0,0.0,0.0,0.0,0.0,0.0,0.0,0.0,0.0,0.0,0.0,0.0,0.0,0.0,0.0,0.0,0.0,0.0,0.0,0.0,0.0,0.0,0.0,0.0,0.0,0.0,0.0,0.0,0.0,0.0,0.0,0.0,0.0,0.0,0.0,0.0,0.0,0.0,0.0,0.0,0.0,0.0,0.0,0.0,0.0,0.0,0.0,0.0,0.0,0.0,0.0,0.0,0.0,0.0,0.0,0.0,0.0,0.0,0.0,0.0,0.0,0.0,0.0,0.0,0.0,0.0,0.0,0.0,0.0,0.0,0.0,0.0,0.0,0.0,0.0,0.0,0.0,0.0,0.0,0.0,0.0,0.0,0.0,0.0,0.0,0.0,0.0,0.0,0.0,0.0,0.0,0.0,0.0,0.0,0.0,0.0,0.0,0.0,0.0,0.0,0.0,0.0,0.0,0.0,0.0,0.0,0.0,0.0,0.0,0.0,0.0,0.0,0.0,0.0,0.0,0.0,0.0,0.0,0.0,0.0,0.0,0.0,0.0,0.0,0.0,0.0,0.0,0.0,0.0,0.0,0.0,0.0,0.0,0.0,0.0,0.0,0.0,0.0,0.0,0.0,0.0,0.0,0.0,0.0,0.0,0.0,0.0,0.0,0.0,0.0,0.0,0.0,0.0,0.0,0.0,0.0,0.0,0.0,0.0,0.0,0.0,0.0,0.0,0.0,0.0,0.0,0.0,0.0,0.0,0.0,0.0,0.0,0.0,0.0,0.0,0.0,0.0,0.0,0.0,0.0,0.0,0.0,0.0,0.0,0.0,0.0,0.0,0.0,0.0,0.0,0.0,0.0,0.0,0.0,0.0,0.0,0.0,0.0,0.0,0.0,0.0,0.0,0.0,0.0,0.0,0.0,0.0,0.0,0.0,0.0,0.0,0.0,0.0,0.0,0.0,0.0,0.0,0.0,0.0,0.0,0.0,0.0,0.0,0.0,0.0,0.0,0.0,0.0,0.0,0.0,0.0,0.0,0.0,0.0,0.0,0.0,0.0,0.0,0.0,0.0,0.0,0.0,0.0,0.0,0.0,0.0,0.0,0.0,0.0,0.0,0.0,0.0,0.0,0.0,0.0,0.0,0.0,0.0,0.0,0.0,0.0,0.0,0.0,0.0,0.0,0.0,0.0,0.0,0.0,0.0,0.0,0.0,0.0,0.0,0.0,0.0,0.0,0.0,0.0,0.0,0.0,0.0,0.0,0.0,0.0,0.0,0.0,0.0,0.0,0.0,0.0,0.0,0.0,0.0,0.0,0.0,0.0,0.0,0.0,0.0,0.0,0.0,0.0,0.0,0.0,0.0,0.0,0.0,0.0,0.0,0.0,0.0,0.0,0.0,0.0,0.0,0.0,0.0,0.0,0.0,0.0,0.0,0.0,0.0,0.0,0.0,0.0,0.0,0.0,0.0,0.0,0.0,0.0,0.0,0.0,0.0,0.0,0.0,0.0,0.0,0.0,0.0,0.0,0.0,0.0,0.0,0.0,0.0,0.0,0.0,0.0,0.0,0.0,0.0,0.0,0.0,0.0,0.0,0.0,0.0,0.0,0.0,0.0,0.0,0.0,0.0,0.0,0.0,0.0,0.0,0.0,0.0,0.0,0.0,0.0,0.0,0.0,0.0,0.0,0.0,0.0,0.0,0.0,0.0,0.0,0.0,0.0,0.0,0.0,0.0,0.0,0.0,0.0,0.0,0.0,0.0,0.0,0.0,0.0,0.0,0.0,0.0,0.0,0.0,0.0,0.0,0.0,0.0,0.0,0.0,0.0,0.0,0.0,0.0,0.0,0.0,0.0,0.0,0.0,0.0,0.0,0.0,0.0,0.0,0.0,0.0,0.0,0.0,0.0,0.0,0.0,0.0,0.0,0.0,0.0,0.0,0.0,0.0,0.0,0.0,0.0,0.0,0.0,0.0,0.0,0.0,0.0,0.0,0.0,0.0,0.0,0.0,0.0,0.0,0.0,0.0,0.0,0.0,0.0,0.0,0.0,0.0,0.0,0.0,0.0,0.0,0.0,0.0,0.0,0.0,0.0,0.0,0.0,0.0,0.0,0.0,0.0,0.0,0.0,0.0,0.0,0.0,0.0,0.0,0.0,0.0,0.0,0.0,0.0,0.0,0.0,0.0,0.0,0.0,0.0,0.0,0.0,0.0,0.0,0.0,0.0,0.0,0.0,0.0,0.0,0.0,0.0,0.0,0.0,0.0,0.0,0.0,0.0,0.0,0.0,0.0,0.0,0.0,0.0,0.0,0.0,0.0,0.0,0.0,0.0,0.0,0.0,0.0,0.0,0.0,0.0,0.0,0.0,0.0,0.0,0.0,0.0,0.0,0.0,0.0,0.0,0.0,0.0,0.0,0.0,0.0,0.0,0.0,0.0,0.0,0.0,0.0,0.0,0.0,0.0,0.0,0.0,0.0,0.0,0.0,0.0,0.0,0.0,0.0,0.0,0.0,0.0,0.0,0.0,0.0,0.0,0.0,0.0,0.0,0.0,0.0,0.0,0.0,0.0,0.0,0.0,0.0,0.0,0.0,0.0,0.0,0.0,0.0,0.0,0.0,0.0,0.0,0.0,0.0,0.0,0.0,0.0,0.0,0.0,0.0,0.0,0.0,0.0,0.0,0.0,0.0,0.0,0.0,0.0,0.0,0.0,0.0,0.0,0.0,0.0,0.0,0.0,0.0,0.0,0.0,0.0,0.0,0.0,0.0,0.0,0.0,0.0,0.0,0.0,0.0,0.0,0.0,0.0,0.0,0.0,0.0,0.0,0.0,0.0,0.0,0.0,0.0,0.0,0.0,0.0,0.0,0.0,0.0,0.0,0.0,0.0,0.0,0.0,0.0,0.0,0.0,0.0,0.0,0.0,0.0,0.0,0.0,0.0,0.0,0.0,0.0,0.0,0.0,0.0,0.0,0.0,0.0,0.0,0.0,0.0,0.0,0.0,0.0,0.0,0.0,0.0,0.0,0.0,0.0,0.0,0.0,0.0,0.0,0.0,0.0,0.0,0.0,0.0,0.0,0.0,0.0,0.0,0.0,0.0,0.0,0.0,0.0,0.0,0.0,0.0,0.0,0.0,0.0,0.0,0.0,0.0,0.0,0.0,0.0,0.0,0.0,0.0,0.0,0.0,0.0,0.0,0.0,0.0,0.0,0.0,0.0,0.0,0.0,0.0,0.0,0.0,0.0,0.0,0.0,0.0,0.0,0.0,0.0,0.0,0.0,0.0,0.0,0.0,0.0,0.0,0.0,0.0,0.0,0.0,0.0,0.0,0.0,0.0,0.0,0.0,0.0,0.0,0.0,0.0,0.0,0.0,0.0,0.0,0.0,0.0,0.0,0.0,0.0,0.0,0.0,0.0,0.0,0.0,0.0,0.0,0.0,0.0,0.0,0.0,0.0,0.0,0.0,0.0,0.0,0.0,0.0,0.0,0.0,0.0,0.0,0.0,0.0,0.0,0.0,0.0,0.0,0.0,0.0,0.0,0.0,0.0,0.0,0.0,0.0,0.0,0.0,0.0,0.0,0.0,0.0,0.0,0.0,0.0,0.0,0.0,0.0,0.0,0.0,0.0,0.0,0.0,0.0,0.0,0.0,0.0,0.0,0.0,0.0,0.0,0.0,0.0,0.0,0.0,0.0,0.0,0.0,0.0,0.0,0.0,0.0,0.0,0.0,0.0,0.0,0.0,0.0,0.0,0.0,0.0,0.0,0.0,0.0,0.0,0.0,0.0,0.0,0.0,0.0,0.0,0.0,0.0,0.0,0.0,0.0,0.0,0.0,0.0,0.0,0.0,0.0,0.0,0.0,0.0,0.0,0.0,0.0,0.0,0.0,0.0,0.0,0.0,0.0,0.0,0.0,0.0,0.0,0.0,0.0,0.0,0.0,0.0,0.0,0.0,0.0,0.0,0.0,0.0,0.0,0.0,0.0,0.0,0.0,0.0,0.0,0.0,0.0,0.0,0.0,0.0,0.0,0.0,0.0,0.0,0.0,0.0,0.0,0.0,0.0,0.0,0.0,0.0,0.0,0.0,0.0,0.0,0.0,0.0,0.0,0.0,0.0,0.0,0.0,0.0,0.0,0.0,0.0,0.0,0.0,0.0,0.0,0.0,0.0,0.0,0.0,0.0,0.0,0.0,0.0,0.0,0.0,0.0,0.0,0.0,0.0,0.0,0.0,0.0,0.0,0.0,0.0,0.0,0.0,0.0,0.0,0.0,0.0,0.0,0.0,0.0,0.0,0.0,0.0,0.0,0.0,0.0,0.0,0.0,0.0,0.0,0.0,0.0,0.0,0.0,0.0,0.0,0.0,0.0,0.0,0.0,0.0,0.0,0.0,0.0,0.0,0.0,0.0,0.0,0.0,0.0,0.0,0.0,0.0,0.0,0.0,0.0,0.0,0.0,0.0,0.0,0.0,0.0,0.0,0.0,0.0,0.0,0.0,0.0,0.0,0.0,0.0,0.0,0.0,0.0,0.0,0.0,0.0,0.0,0.0,0.0,0.0,0.0,0.0,0.0,0.0,0.0,0.0,0.0,0.0,0.0,0.0,0.0,0.0,0.0,0.0,0.0,0.0,0.0,0.0,0.0,0.0,0.0,0.0,0.0,0.0,0.0,0.0,0.0,0.0,0.0,0.0,0.0,0.0,0.0,0.0,0.0,0.0,0.0,0.0,0.0,0.0,0.0,0.0,0.0,0.0,0.0,0.0,0.0,0.0,0.0,0.0,0.0,0.0,0.0,0.0,0.0,0.0,0.0,0.0,0.0,0.0,0.0,0.0,0.0,0.0,0.0,0.0,0.0,0.0,0.0,0.0,0.0,0.0,0.0,0.0,0.0,0.0,0.0,0.0,0.0,0.0,0.0,0.0,0.0,0.0,0.0,0.0,0.0,0.0,0.0,0.0,0.0,0.0,0.0,0.0,0.0,0.0,0.0,0.0,0.0,0.0,0.0,0.0,0.0,0.0,0.0,0.0,0.0,0.0,0.0,0.0,0.0,0.0,0.0,0.0,0.0,0.0,0.0,0.0,0.0,0.0,0.0,0.0,0.0,0.0,0.0,0.0,0.0,0.0,0.0,0.0,0.0,0.0,0.0,0.0,0.0,0.0,0.0,0.0,0.0,0.0,0.0,0.0,0.0,0.0,0.0,0.0,0.0,0.0,0.0,0.0,0.0,0.0,0.0,0.0,0.0,0.0,0.0,0.0,0.0,0.0,0.0,0.0,0.0,0.0,0.0,0.0,0.0,0.0,0.0,0.0,0.0,0.0,0.0,0.0,0.0,0.0,0.0,0.0,0.0,0.0,0.0,0.0,0.0,0.0,0.0,0.0,0.0,0.0,0.0,0.0,0.0,0.0,0.0,0.0,0.0,0.0,0.0,0.0,0.0,0.0,0.0,0.0,0.0,0.0,0.0,0.0,0.0,0.0,0.0,0.0,0.0,0.0,0.0,0.0,0.0,0.0,0.0,0.0,0.0,0.0,0.0,0.0,0.0,0.0,0.0,0.0,0.0,0.0,0.0,0.0,0.0,0.0,0.0,0.0,0.0,0.0,0.0,0.0,0.0,0.0,0.0,0.0,0.0,0.0,0.0,0.0,0.0,0.0,0.0,0.0,0.0,0.0,0.0,0.0,0.0,0.0,0.0,0.0,0.0,0.0,0.0,0.0,0.0,0.0,0.0,0.0,0.0,0.0,0.0,0.0,0.0,0.0,0.0,0.0,0.0,0.0,0.0,0.0,0.0,0.0,0.0,0.0,0.0,0.0,0.0,0.0,0.0,0.0,0.0,0.0,0.0,0.0,0.0,0.0,0.0,0.0,0.0,0.0,0.0,0.0,0.0,0.0,0.0,0.0,0.0,0.0,0.0,0.0,0.0,0.0,0.0,0.0,0.0,0.0,0.0,0.0,0.0,0.0,0.0,0.0,0.0,0.0,0.0,0.0,0.0,0.0,0.0,0.0,0.0,0.0,0.0,0.0,0.0,0.0,0.0,0.0,0.0,0.0,0.0,0.0,0.0,0.0,0.0,0.0,0.0,0.0,0.0,0.0,0.0,0.0,0.0,0.0,0.0,0.0,0.0,0.0,0.0,0.0,0.0,0.0,0.0,0.0,0.0,0.0,0.0,0.0,0.0,0.0,0.0,0.0,0.0,0.0,0.0,0.0,0.0,0.0,0.0,0.0,0.0,0.0,0.0,0.0,0.0,0.0,0.0,0.0,0.0,0.0,0.0,0.0,0.0,0.0,0.0,0.0,0.0,0.0,0.0,0.0,0.0,0.0,0.0,0.0,0.0,0.0,0.0,0.0,0.0,0.0,0.0,0.0,0.0,0.0,0.0,0.0,0.0,0.0,0.0]) ccw NeedleState(4,9,8,false,false)\n"
     ]
    },
    {
     "data": {
      "image/png": "[encoded data removed]",
      "text/plain": [
       "PyPlot.Figure(PyObject <matplotlib.figure.Figure object at 0x7fecdda126d0>)"
      ]
     },
     "metadata": {},
     "output_type": "display_data"
    },
    {
     "name": "stdout",
     "output_type": "stream",
     "text": [
      "Total discounted reward: 42.13436210000001\n",
      "Target reached\n"
     ]
    }
   ],
   "source": [
    "init_state = initial_state_distribution(pomdp, NeedleState(4,10,7))\n",
    "hist_SARSOP = HistoryRecorder(max_steps=100)\n",
    "r = simulate(hist_SARSOP, pomdp, policy, updater(policy), init_state)\n",
    "\n",
    "println(\"Total discounted reward: $r\")\n",
    "\n",
    "if hist_SARSOP.state_hist[end].x == pomdp.reward_states[1].x && hist_SARSOP.state_hist[end].y == pomdp.reward_states[1].y\n",
    "    println(\"Target reached\")\n",
    "else\n",
    "    println(\"Target missed\")\n",
    "end\n",
    "\n",
    "# define tissue environment\n",
    "plot([1 10 10 1 1]',[1 1 10 10 1]',linewidth=10,color=\"r\") # tissue bounds\n",
    "plot(pomdp.reward_states[1].x,pomdp.reward_states[1].y,marker=\"o\",markersize=40,color=\"g\",markeredgecolor=\"none\")\n",
    "plot(pomdp.reward_states[9].x,pomdp.reward_states[9].y,marker=\"o\",markersize=40,color=\"r\",markeredgecolor=\"none\")\n",
    "hold(true)\n",
    "\n",
    "for state in hist_SARSOP.state_hist\n",
    "    plot(state.x,state.y,color=\"b\",marker=\"o\")\n",
    "    quiver(state.x,state.y,0.5*cos((state.psi-1)*pi/4),0.5*sin((state.psi-1)*pi/4))\n",
    "end\n",
    "\n",
    "title([\"Needle tip trajectory (SARSOP): reward = \",num2str(r)])\n",
    "axis(\"equal\")\n",
    "axis([0, 11, 0, 11])\n",
    "xlabel(\"x\")\n",
    "ylabel(\"y\")\n",
    "grid(true)"
   ]
  },
  {
   "cell_type": "code",
   "execution_count": null,
   "metadata": {
    "collapsed": false
   },
   "outputs": [],
   "source": []
  }
 ],
 "metadata": {
  "kernelspec": {
   "display_name": "Julia 0.5.0",
   "language": "julia",
   "name": "julia-0.5"
  },
  "language_info": {
   "file_extension": ".jl",
   "mimetype": "application/julia",
   "name": "julia",
   "version": "0.5.0"
  }
 },
 "nbformat": 4,
 "nbformat_minor": 0
}
