{
 "cells": [
  {
   "cell_type": "code",
   "execution_count": 1,
   "metadata": {
    "collapsed": false
   },
   "outputs": [],
   "source": [
    "import Base: ==, +, *, -, rand\n",
    "using Distributions\n",
    "using POMDPs\n",
    "import POMDPs: create_state, discount, isterminal, pdf, actions, iterator, n_actions, observation, create_observation_distribution\n",
    "using POMDPToolbox\n",
    "using GenerativeModels\n",
    "import GenerativeModels: generate_sor, generate_o, initial_state, generate_s\n",
    "import POMDPBounds: lower_bound, upper_bound, Bound"
   ]
  },
  {
   "cell_type": "code",
   "execution_count": 2,
   "metadata": {
    "collapsed": false
   },
   "outputs": [],
   "source": [
    "type NeedleState\n",
    "    x::Float64 # x position\n",
    "    y::Float64 # y position\n",
    "    psi::Float64 # orientation\n",
    "    done::Bool # are we in a terminal state?\n",
    "end\n",
    "NeedleState(x::Float64, y::Float64, psi::Float64) = NeedleState(x,y,psi,false)\n",
    "\n",
    "==(s1::NeedleState, s2::NeedleState) = (s1.x == s2.x) && (s1.y == s2.y) && (s1.psi == s2.psi) && (s1.done == s2.done);\n",
    "posequal(s1::NeedleState, s2::NeedleState) = (s1.x == s2.x) && (s1.y == s2.y) && (s1.psi == s2.psi);\n",
    "function posnear(s1::NeedleState, s2::NeedleState, epsilon::Float64=5.0)\n",
    "    if (abs(s1.x - s2.x) < epsilon) && (abs(s1.y - s2.y) < epsilon)\n",
    "        return true;\n",
    "    else\n",
    "        return false;\n",
    "    end\n",
    "end\n",
    "+(s1::NeedleState, s2::NeedleState) = NeedleState(s1.x+s2.x, s1.y+s2.y, s1.psi+s2.psi);\n",
    "-(s1::NeedleState, s2::NeedleState) = NeedleState(s1.x-s2.x, s1.y-s2.y, s1.psi-s2.psi);\n",
    "\n",
    "function Base.copy!(s1::NeedleState, s2::NeedleState) \n",
    "    s1.x = s2.x\n",
    "    s1.y = s2.y\n",
    "    s1.psi = s2.psi\n",
    "    s1.done = s2.done\n",
    "    s1\n",
    "end\n",
    "\n",
    "# the needle mdp type\n",
    "type Needle <: POMDP{NeedleState, Symbol, NeedleState} # Note that our MDP is parametarized by the state and the action\n",
    "    sigmas::Vector{Float64}\n",
    "    reward_states::Vector{NeedleState} # target/obstacle states\n",
    "    reward_values::Vector{Float64} # reward values for those states\n",
    "    tprob::Array{Float64} # probability of transitioning to the desired state\n",
    "    discount_factor::Float64 # disocunt factor\n",
    "end\n",
    "\n",
    "\n",
    "function Needle(;\n",
    "    sigmas = [10.0, 10.0, 0.5],\n",
    "    rs::Vector{NeedleState} = [NeedleState(50.0,40.0,0.0); NeedleState(70.0,40.0,0.0); NeedleState(40.0,60.0,0.0);NeedleState(60.0,60.0,0.0)], # goal and obstacle states\n",
    "    rv::Vector{Float64} = [100.0; -20.0; -20.0; -20.0],\n",
    "    tp::Array{Float64} = [0.05, 0.9, 0.05, 0.0], # tprob\n",
    "    discount_factor::Float64 = 0.85)\n",
    "    return Needle(sigmas, rs, rv, tp, discount_factor)\n",
    "end;"
   ]
  },
  {
   "cell_type": "code",
   "execution_count": 3,
   "metadata": {
    "collapsed": false
   },
   "outputs": [],
   "source": [
    "type ActionSpace <: AbstractSpace\n",
    "    actions::Vector{Symbol}\n",
    "end\n",
    "\n",
    "function POMDPs.actions(pomdp::Needle)\n",
    "    acts = [:cw, :ccw]\n",
    "    return ActionSpace(acts)\n",
    "end;\n",
    "POMDPs.actions(pomdp::Needle, s::NeedleState, as::ActionSpace=actions(pomdp)) = as;\n",
    "Base.length(asp::ActionSpace) = length(asp.actions)\n",
    "iterator(space::ActionSpace) = space.actions\n",
    "n_actions(p::Needle) = length(actions(p))\n",
    "\n",
    "function rand(rng::AbstractRNG, asp::ActionSpace, a::Symbol)\n",
    "    a = rand(rng, iterator(asp))\n",
    "    return a\n",
    "end;\n",
    "rand(rng::AbstractRNG, asp::ActionSpace) = rand(rng, asp, :cw);"
   ]
  },
  {
   "cell_type": "code",
   "execution_count": 4,
   "metadata": {
    "collapsed": false
   },
   "outputs": [
    {
     "data": {
      "text/plain": [
       "generate_o (generic function with 5 methods)"
      ]
     },
     "execution_count": 4,
     "metadata": {},
     "output_type": "execute_result"
    }
   ],
   "source": [
    "# Implements the starting state of the needle\n",
    "# function initial_state(pomdp::Needle, rng::AbstractRNG)\n",
    "#     return NeedleState(4.0,10.0,7.0);\n",
    "# end\n",
    "\n",
    "function sigma(pomdp::Needle, s::NeedleState, rng::AbstractRNG)\n",
    "    x = Base.randn(rng)*(pomdp.sigmas[1]);\n",
    "    y = Base.randn(rng)*(pomdp.sigmas[2]);\n",
    "    psi = Base.randn(rng)*(pomdp.sigmas[3]);\n",
    "    return NeedleState(x, y, psi);\n",
    "end\n",
    "# Implements the noisy observation\n",
    "function generate_o(pomdp::Needle, s::NeedleState, a::Symbol, sp::NeedleState, rng::AbstractRNG)\n",
    "    return sp + sigma(pomdp, sp, rng)\n",
    "    #return sp;\n",
    "end"
   ]
  },
  {
   "cell_type": "code",
   "execution_count": 5,
   "metadata": {
    "collapsed": false
   },
   "outputs": [],
   "source": [
    "type NeedleProperties\n",
    "    length::Float64  # Needle length in mm\n",
    "    OD::Float64      # Needle Outer diam in mm\n",
    "    ID::Float64      # Needle Inner diam in mm\n",
    "    E::Float64       # Young's Modulus\n",
    "    NeedleProperties() = new()\n",
    "    NeedleProperties(l,od,id,e) = new(l,od,id,e)\n",
    "end\n",
    "MomInertia(np::NeedleProperties) = pi/4*((np.OD/1000)^4 - (np.ID/1000)^4);\n",
    "\n",
    "function SimpleNeedle(F::Float64, dir::Int64, np::NeedleProperties, v::Float64=2.0)\n",
    "    # Inputs\n",
    "    # F: bevel tip load [N]\n",
    "    # dir: bevel tip orientation +1 ccw, cw -1\n",
    "    # np: Needle mechanical properties\n",
    "    # Outputs\n",
    "    # w: needle tip deflection [mm]\n",
    "    # theta: tip angle [rad]\n",
    "    w = (F*dir)*(v/1000)^3/(3*np.E*MomInertia(np))*1000; # in mm\n",
    "    theta = (F*dir)*(v/1000)^2/(2*np.E*MomInertia(np))\n",
    "    return w, theta\n",
    "end;\n",
    "\n",
    "np = NeedleProperties(200.0,0.9,0.6,3e9)\n",
    "\n",
    "function advance_needle(s::NeedleState, a::Symbol, rng::AbstractRNG)\n",
    "    psi = s.psi\n",
    "    R = zeros(2,2)\n",
    "    R[1,1] = cos(psi); R[1,2] = -sin(psi); R[2,1] = sin(psi); R[2,2] = cos(psi);\n",
    "    F = 40.0 + Base.randn(rng)*5; # TODO add more uncertainty if needed\n",
    "    dir = 1;\n",
    "    if a == :cw\n",
    "        dir = 1;\n",
    "    elseif a == :ccw\n",
    "        dir = -1;\n",
    "    end\n",
    "    w, theta = SimpleNeedle(F, dir, np);\n",
    "    gradient = R*[2.0; w];\n",
    "    dx = gradient[1];\n",
    "    dy = gradient[2];\n",
    "    return NeedleState(s.x+dx, s.y+dy, psi+theta)    \n",
    "end;"
   ]
  },
  {
   "cell_type": "code",
   "execution_count": 6,
   "metadata": {
    "collapsed": false
   },
   "outputs": [
    {
     "data": {
      "text/plain": [
       "generate_s (generic function with 3 methods)"
      ]
     },
     "execution_count": 6,
     "metadata": {},
     "output_type": "execute_result"
    }
   ],
   "source": [
    "function generate_sor(pomdp::Needle, s, a, rng::AbstractRNG, sp=nothing, o=nothing)\n",
    "    if s.done                  # Terminal state\n",
    "        sprime = copy(s);\n",
    "        o = generate_o(pomdp, s, a, sprime, rng);\n",
    "        r = 0;\n",
    "        return (sprime, o, r);\n",
    "    end\n",
    "    sprime = advance_needle(s, a, rng);\n",
    "    o = generate_o(pomdp, s, a, sprime, rng);\n",
    "    r = -0.1 # penalize for any state but the goal state\n",
    "    for (i, rs) in enumerate(pomdp.reward_states)\n",
    "        if posnear(rs, s)\n",
    "            r = pomdp.reward_values[i]\n",
    "            sprime.done = true;\n",
    "        end\n",
    "    end\n",
    "    if (out_of_bounds(s))\n",
    "        sprime.done = true;\n",
    "        r = -100;\n",
    "    end\n",
    "    return (sprime, o, r)\n",
    "end;\n",
    "\n",
    "function generate_s(pomdp::Needle, s::NeedleState, a::Symbol, rng::AbstractRNG)\n",
    "    return advance_needle(s, a, rng)\n",
    "end"
   ]
  },
  {
   "cell_type": "code",
   "execution_count": 7,
   "metadata": {
    "collapsed": false
   },
   "outputs": [
    {
     "data": {
      "text/plain": [
       "out_of_bounds (generic function with 1 method)"
      ]
     },
     "execution_count": 7,
     "metadata": {},
     "output_type": "execute_result"
    }
   ],
   "source": [
    "function out_of_bounds(s::NeedleState)\n",
    "    return (s.x > 100.0) || (s.x < 0.0) || (s.y > 100.0) || (s.y < 0.0);\n",
    "end"
   ]
  },
  {
   "cell_type": "code",
   "execution_count": 8,
   "metadata": {
    "collapsed": true
   },
   "outputs": [],
   "source": [
    "type ObsDistribution <: AbstractDistribution\n",
    "    #curr_obs::NeedleState # the current observation\n",
    "    μs::Array{Float64} # the states s' in the distribution\n",
    "    σs::Array{Float64} # the probability corresponding to each state s'\n",
    "end\n",
    "\n",
    "function POMDPs.create_observation_distribution(pomdp::Needle)\n",
    "    # 27 potential observations\n",
    "    # initialize to whatever\n",
    "    \n",
    "    return ObsDistribution([0.0, 0.0, 0.0],[1.0, 1.0, 1.0])\n",
    "end;\n",
    "\n",
    "function POMDPs.pdf(d::ObsDistribution, s::NeedleState)\n",
    "    mus = d.μs;\n",
    "    covM = Matrix{Float64}([(d.σs[1])^2 0 0; 0 (d.σs[2])^2 0; 0 0 (d.σs[3])^2]);\n",
    "    distMV = MvNormal(mus, covM);\n",
    "    return Distributions.pdf(distMV, [s.x, s.y, s.psi]);\n",
    "end;\n",
    "\n",
    "function POMDPs.observation(pomdp::Needle,\n",
    "                            s::NeedleState,\n",
    "                            action::Symbol,\n",
    "                            sp::NeedleState,\n",
    "                            od::ObsDistribution)\n",
    "    x = sp.x;\n",
    "    y = sp.y;\n",
    "    psi = sp.psi;\n",
    "    d = ObsDistribution([x, y, psi], pomdp.sigmas); # Arbitrary standard distributions\n",
    "    return d;\n",
    "end\n",
    "\n"
   ]
  },
  {
   "cell_type": "code",
   "execution_count": 9,
   "metadata": {
    "collapsed": false
   },
   "outputs": [
    {
     "data": {
      "text/plain": [
       "upper_bound (generic function with 2 methods)"
      ]
     },
     "execution_count": 9,
     "metadata": {},
     "output_type": "execute_result"
    }
   ],
   "source": [
    "type NeedleLowerBound <: Bound\n",
    "    rng::AbstractRNG\n",
    "end\n",
    "\n",
    "type NeedleUpperBound <: Bound\n",
    "    rng::AbstractRNG\n",
    "end\n",
    "\n",
    "function lower_bound(lb::NeedleLowerBound, pomdp::Needle, s::NeedleState)\n",
    "    return -200.0;\n",
    "end\n",
    "\n",
    "function upper_bound(ub::NeedleUpperBound, pomdp::Needle, s::NeedleState)\n",
    "    return 100.0;\n",
    "end\n",
    "\n",
    "\n",
    "# function gauss(μ::Float64, σ::Float64)\n",
    "#     return (1/(σ*sqrt(2*pi)))*exp(-1*μ^2/(2*σ^2));\n",
    "# end\n",
    "\n",
    "# # This encodes the belief state. Use multivariate normal distribution.\n",
    "# # Returns a probability. TODO ask in office hours\n",
    "# function pdf(s::NeedleState, obs::NeedleState)\n",
    "#     sigma = [obs.x, obs.y, obs.psi];\n",
    "#     covM = Matrix{Float64}([(s.x-obs.x)^2 0 0; 0 (s.y-obs.y)^2 0; 0 0 (s.psi-obs.psi)^2]);\n",
    "#     distMV = MvNormal(sigma, covM);\n",
    "#     return pdf(distMV, [s.x, s.y, s.sigma]);\n",
    "# end\n"
   ]
  },
  {
   "cell_type": "code",
   "execution_count": 10,
   "metadata": {
    "collapsed": false
   },
   "outputs": [],
   "source": [
    "type InitialStateDistribution <: AbstractDistribution\n",
    "    states::Array{NeedleState}\n",
    "    probs::Array{Float64}\n",
    "end\n",
    "POMDPs.iterator(d::InitialStateDistribution) = d.states\n",
    "\n",
    "function POMDPs.initial_state_distribution(pomdp::Needle, state::NeedleState)\n",
    "    s = [state];\n",
    "    p = [1.0];\n",
    "    return InitialStateDistribution(s,p);\n",
    "end\n",
    "POMDPs.initial_state_distribution(pomdp::Needle) = initial_state_distribution(pomdp, NeedleState(40.0,100.0,3*pi/2));\n",
    "\n",
    "function rand(rng::AbstractRNG, d::InitialStateDistribution, s::NeedleState)\n",
    "    cat = Categorical(d.probs) # init the categorical distribution\n",
    "    ns = d.states[Base.rand(cat)] # sample a neighbor state according to the distribution c\n",
    "    copy!(s, ns)\n",
    "    return s # return the pointer to s\n",
    "end;\n",
    "rand(rng::AbstractRNG, d::InitialStateDistribution) = rand(rng, d, NeedleState(1.0,1.0,1.0))\n",
    "function POMDPs.pdf(d::InitialStateDistribution, s::NeedleState)\n",
    "    for (i, sp) in enumerate(d.states)\n",
    "        if posequal(s, sp)\n",
    "            return d.probs[i];\n",
    "        end\n",
    "    end\n",
    "    return 0.0\n",
    "end;"
   ]
  },
  {
   "cell_type": "code",
   "execution_count": 11,
   "metadata": {
    "collapsed": false
   },
   "outputs": [],
   "source": [
    "POMDPs.create_state(pomdp::Needle) = NeedleState(40.0,100.0,3*pi/2);\n",
    "POMDPs.create_observation(pomdp::Needle) = NeedleState(40.0,100.0,3*pi/2);\n",
    "POMDPs.create_action(pomdp::Needle) = :cw;\n",
    "POMDPs.discount(pomdp::Needle) = pomdp.discount_factor;\n",
    "\n",
    "function POMDPs.isterminal(pomdp::Needle, s::NeedleState)\n",
    "    s.done ? (return true) : (return false)\n",
    "end;"
   ]
  },
  {
   "cell_type": "code",
   "execution_count": 12,
   "metadata": {
    "collapsed": false
   },
   "outputs": [],
   "source": [
    "using POMCP\n",
    "solver = POMCPDPWSolver();\n",
    "pomdp = Needle();\n",
    "policy = solve(solver, pomdp);"
   ]
  },
  {
   "cell_type": "code",
   "execution_count": 14,
   "metadata": {
    "collapsed": false
   },
   "outputs": [
    {
     "data": {
      "image/png": "[encoded data removed]",
      "text/plain": [
       "PyPlot.Figure(PyObject <matplotlib.figure.Figure object at 0x31ba31bd0>)"
      ]
     },
     "metadata": {},
     "output_type": "display_data"
    }
   ],
   "source": [
    "up = SIRParticleUpdater(pomdp, 500);\n",
    "hist_POMCP = HistoryRecorder();\n",
    "is=initial_state_distribution(pomdp, NeedleState(30.0,100.0,3*pi/2))\n",
    "r = simulate(hist_POMCP, pomdp, policy, up, is);\n",
    "\n",
    "# define tissue environment\n",
    "using PyPlot\n",
    "plot([0.0 100.0 100.0 0.0 0.0]',[0.0 0.0 100.0 100.0 0.0]',linewidth=10,color=\"r\") # tissue bounds\n",
    "plot(pomdp.reward_states[1].x,pomdp.reward_states[1].y,marker=\"o\",markersize=30,color=\"g\",markeredgecolor=\"none\")\n",
    "plot(pomdp.reward_states[2].x,pomdp.reward_states[2].y,marker=\"o\",markersize=30,color=\"r\",markeredgecolor=\"none\")\n",
    "plot(pomdp.reward_states[3].x,pomdp.reward_states[3].y,marker=\"o\",markersize=30,color=\"r\",markeredgecolor=\"none\")\n",
    "plot(pomdp.reward_states[4].x,pomdp.reward_states[4].y,marker=\"o\",markersize=30,color=\"r\",markeredgecolor=\"none\")\n",
    "\n",
    "\n",
    "# needle trajectory\n",
    "steps = length(hist_POMCP.state_hist)\n",
    "for i = 1:steps-1 \n",
    "    state = hist_POMCP.state_hist[i]\n",
    "    action = hist_POMCP.action_hist[i]\n",
    "    if action == :cw\n",
    "        c = \"y\"\n",
    "    else\n",
    "        c = \"b\"\n",
    "    end\n",
    "    plot(state.x,state.y,color=c,marker=\"o\",markersize=5)\n",
    "    quiver(state.x,state.y,0.5*cos(state.psi),0.5*sin(state.psi),scale=40)\n",
    "end\n",
    "\n",
    "title(@sprintf(\"Needle tip trajectory (POMCP): reward = %0.2f\",r))\n",
    "axis(\"equal\")\n",
    "axis([-10.0, 110.0, -10.0, 110.0])\n",
    "xlabel(\"x\")\n",
    "ylabel(\"y\")\n",
    "grid(true)\n",
    "savefig(\"Optimal POMCP plot\")"
   ]
  },
  {
   "cell_type": "code",
   "execution_count": null,
   "metadata": {
    "collapsed": true
   },
   "outputs": [],
   "source": [
    "# define tissue environment\n",
    "using PyPlot\n",
    "plot([0.0 100.0 100.0 0.0 0.0]',[0.0 0.0 100.0 100.0 0.0]',linewidth=10,color=\"r\") # tissue bounds\n",
    "plot(pomdp.reward_states[1].x,pomdp.reward_states[1].y,marker=\"o\",markersize=30,color=\"g\",markeredgecolor=\"none\")\n",
    "plot(pomdp.reward_states[2].x,pomdp.reward_states[2].y,marker=\"o\",markersize=30,color=\"r\",markeredgecolor=\"none\")\n",
    "plot(pomdp.reward_states[3].x,pomdp.reward_states[3].y,marker=\"o\",markersize=30,color=\"r\",markeredgecolor=\"none\")\n",
    "plot(pomdp.reward_states[4].x,pomdp.reward_states[4].y,marker=\"o\",markersize=30,color=\"r\",markeredgecolor=\"none\")\n",
    "\n",
    "\n",
    "# needle trajectory\n",
    "steps = length(hist_POMCP.state_hist)\n",
    "for i = 1:steps-1 \n",
    "    state = hist_POMCP.state_hist[i]\n",
    "    action = hist_POMCP.action_hist[i]\n",
    "    if action == :cw\n",
    "        c = \"y\"\n",
    "    else\n",
    "        c = \"b\"\n",
    "    end\n",
    "    plot(state.x,state.y,color=c,marker=\"o\",markersize=5)\n",
    "    quiver(state.x,state.y,0.5*cos(state.psi),0.5*sin(state.psi),scale=40)\n",
    "end\n",
    "\n",
    "title(@sprintf(\"Needle tip trajectory (POMCP): reward = %0.2f\",r))\n",
    "axis(\"equal\")\n",
    "axis([-10.0, 110.0, -10.0, 110.0])\n",
    "xlabel(\"x\")\n",
    "ylabel(\"y\")\n",
    "grid(true)\n",
    "savefig(\"Optimal POMCP plot\")"
   ]
  }
 ],
 "metadata": {
  "kernelspec": {
   "display_name": "Julia 0.5.0",
   "language": "julia",
   "name": "julia-0.5"
  },
  "language_info": {
   "file_extension": ".jl",
   "mimetype": "application/julia",
   "name": "julia",
   "version": "0.5.0"
  }
 },
 "nbformat": 4,
 "nbformat_minor": 1
}
