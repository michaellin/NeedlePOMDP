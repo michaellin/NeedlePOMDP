{
 "cells": [
  {
   "cell_type": "code",
   "execution_count": 1,
   "metadata": {
    "collapsed": false
   },
   "outputs": [
    {
     "name": "stderr",
     "output_type": "stream",
     "text": [
      "WARNING: using Distributions.pdf in module Main conflicts with an existing identifier.\n"
     ]
    }
   ],
   "source": [
    "import Base: ==, +, *, -, rand\n",
    "\n",
    "using POMDPs\n",
    "import POMDPs: create_state, discount, isterminal, pdf, actions, iterator, n_actions\n",
    "using POMDPToolbox\n",
    "using Distributions\n",
    "using GenerativeModels\n",
    "import GenerativeModels: generate_sor, generate_o, initial_state\n",
    "import POMDPBounds: lower_bound, upper_bound, Bound"
   ]
  },
  {
   "cell_type": "code",
   "execution_count": 2,
   "metadata": {
    "collapsed": false
   },
   "outputs": [],
   "source": [
    "type NeedleState\n",
    "    x::Float64 # x position\n",
    "    y::Float64 # y position\n",
    "    psi::Float64 # orientation\n",
    "    done::Bool # are we in a terminal state?\n",
    "end\n",
    "NeedleState(x::Float64, y::Float64, psi::Float64) = NeedleState(x,y,psi,false)\n",
    "\n",
    "==(s1::NeedleState, s2::NeedleState) = (s1.x == s2.x) && (s1.y == s2.y) && (s1.psi == s2.psi) && (s1.done == s2.done);\n",
    "posequal(s1::NeedleState, s2::NeedleState) = (s1.x == s2.x) && (s1.y == s2.y) && (s1.psi == s2.psi);\n",
    "function posnear(s1::NeedleState, s2::NeedleState, epsilon::Float64=1e-2)\n",
    "    if (abs(s1.x - s2.x) < epsilon) && (abs(s1.y - s2.y) < epsilon)\n",
    "        return true;\n",
    "    else\n",
    "        return false;\n",
    "    end\n",
    "end\n",
    "+(s1::NeedleState, s2::NeedleState) = NeedleState(s1.x+s2.x, s1.y+s2.y, s1.psi+s2.psi);\n",
    "-(s1::NeedleState, s2::NeedleState) = NeedleState(s1.x-s2.x, s1.y-s2.y, s1.psi-s2.psi);\n",
    "\n",
    "function Base.copy!(s1::NeedleState, s2::NeedleState) \n",
    "    s1.x = s2.x\n",
    "    s1.y = s2.y\n",
    "    s1.psi = s2.psi\n",
    "    s1.done = s2.done\n",
    "    s1\n",
    "end\n",
    "\n",
    "# the needle mdp type\n",
    "type Needle <: POMDP{NeedleState, Symbol, NeedleState} # Note that our MDP is parametarized by the state and the action\n",
    "    reward_states::Vector{NeedleState} # target/obstacle states\n",
    "    reward_values::Vector{Float64} # reward values for those states\n",
    "    tprob::Array{Float64} # probability of transitioning to the desired state\n",
    "    discount_factor::Float64 # disocunt factor\n",
    "end\n",
    "\n",
    "\n",
    "function Needle(;rs::Vector{NeedleState} = [NeedleState(8.0,4.0,0.0); # target states\n",
    "                                            NeedleState(4.0,6.0,0.0); # obstacle states\n",
    "                                            #[NeedleState(1,y,psi) for y = 1:sy, psi = 3:7][:]; # boundary states\n",
    "                                            #[NeedleState(sx,y,psi) for y = 1:sy, psi = [1:3;7:spsi]][:];\n",
    "                                            #[NeedleState(x,1,psi) for x = 2:sx-1, psi = [5:spsi;1]][:];\n",
    "                                            #[NeedleState(x,sy,psi) for x = 2:sx-1, psi = 1:5][:]],\n",
    "                                            ],\n",
    "                rv::Vector{Float64} = [0.0; -50.0],\n",
    "                tp::Array{Float64} = [0.05, 0.9, 0.05, 0.0], # tprob\n",
    "                discount_factor::Float64 = 0.9)\n",
    "    #return Needle(sx, sy, spsi, rs, rv, tp, discount_factor)\n",
    "    return Needle(rs, rv, tp, discount_factor)\n",
    "end;"
   ]
  },
  {
   "cell_type": "code",
   "execution_count": 3,
   "metadata": {
    "collapsed": false
   },
   "outputs": [],
   "source": [
    "type ActionSpace <: AbstractSpace\n",
    "    actions::Vector{Symbol}\n",
    "end\n",
    "\n",
    "function POMDPs.actions(pomdp::Needle)\n",
    "    acts = [:cw, :ccw]\n",
    "    return ActionSpace(acts)\n",
    "end;\n",
    "POMDPs.actions(pomdp::Needle, s::NeedleState, as::ActionSpace=actions(pomdp)) = as;\n",
    "Base.length(asp::ActionSpace) = length(asp.actions)\n",
    "iterator(space::ActionSpace) = space.actions\n",
    "n_actions(p::Needle) = length(actions(p))\n",
    "\n",
    "function rand(rng::AbstractRNG, asp::ActionSpace, a::Symbol)\n",
    "    a = rand(rng, iterator(asp))\n",
    "    return a\n",
    "end;\n",
    "rand(rng::AbstractRNG, asp::ActionSpace) = rand(rng, asp, :cw);\n",
    "\n"
   ]
  },
  {
   "cell_type": "code",
   "execution_count": 4,
   "metadata": {
    "collapsed": false
   },
   "outputs": [
    {
     "data": {
      "text/plain": [
       "generate_o (generic function with 5 methods)"
      ]
     },
     "execution_count": 4,
     "metadata": {},
     "output_type": "execute_result"
    }
   ],
   "source": [
    "# Implements the starting state of the needle\n",
    "function initial_state(pomdp::Needle, rng::AbstractRNG)\n",
    "    return NeedleState(4.0,10.0,7.0);\n",
    "end\n",
    "\n",
    "function sigma(s::NeedleState, rng::AbstractRNG; sig_pos::Float64 = 1.0, sig_rot::Float64 = 5.0/360*pi)\n",
    "    x = Base.randn(rng)*(s.x/sqrt(sig_pos) + 1e-2);\n",
    "    y = Base.randn(rng)*(s.y/sqrt(sig_pos) + 1e-2);\n",
    "    psi = Base.randn(rng)*(s.psi/sqrt(sig_rot) + 1e-2);\n",
    "    return NeedleState(x, y, psi);\n",
    "end\n",
    "# Implements the noisy observation\n",
    "function generate_o(pomdp::Needle, s::NeedleState, a::Symbol, sp::NeedleState, rng::AbstractRNG)\n",
    "    #return sp + sigma(sp, rng) TODO\n",
    "    return sp;\n",
    "end"
   ]
  },
  {
   "cell_type": "code",
   "execution_count": 5,
   "metadata": {
    "collapsed": false
   },
   "outputs": [],
   "source": [
    "type NeedleProperties\n",
    "    length::Float64  # Needle length in mm\n",
    "    OD::Float64      # Needle Outer diam in mm\n",
    "    ID::Float64      # Needle Inner diam in mm\n",
    "    E::Float64       # Young's Modulus\n",
    "    NeedleProperties() = new()\n",
    "    NeedleProperties(l,od,id,e) = new(l,od,id,e)\n",
    "end\n",
    "MomInertia(np::NeedleProperties) = pi/4*((np.OD/1000)^4 - (np.ID/1000)^4);\n",
    "\n",
    "function SimpleNeedle(F::Float64, dir::Int64, np::NeedleProperties, v::Float64=2.0)\n",
    "    # Inputs\n",
    "    # F: bevel tip load [N]\n",
    "    # dir: bevel tip orientation +1 ccw, cw -1\n",
    "    # np: Needle mechanical properties\n",
    "    # Outputs\n",
    "    # w: needle tip deflection [mm]\n",
    "    # theta: tip angle [rad]\n",
    "    w = (F*dir)*(v/1000)^3/(3*np.E*MomInertia(np))*1000; # in mm\n",
    "    theta = (F*dir)*(v/1000)^2/(2*np.E*MomInertia(np))\n",
    "    return w, theta\n",
    "end;\n",
    "\n",
    "np = NeedleProperties(200.0,0.9,0.6,5e9)\n",
    "\n",
    "function advance_needle(s::NeedleState, a::Symbol, rng::AbstractRNG)\n",
    "    psi = s.psi\n",
    "    R = zeros(2,2)\n",
    "    R[1,1] = cos(psi); R[1,2] = -sin(psi); R[2,1] = sin(psi); R[2,2] = cos(psi);\n",
    "    F = 40.0 + Base.randn(rng);\n",
    "    dir = 1;\n",
    "    if a == :cw\n",
    "        dir = 1;\n",
    "    elseif a == :ccw\n",
    "        dir = -1;\n",
    "    end\n",
    "    w, theta = SimpleNeedle(F, dir, np);\n",
    "    gradient = R*[2; w];\n",
    "    dx = gradient[1];\n",
    "    dy = gradient[2];\n",
    "    return NeedleState(s.x+dx, s.y+dy, psi+theta)    \n",
    "end;"
   ]
  },
  {
   "cell_type": "code",
   "execution_count": 6,
   "metadata": {
    "collapsed": true
   },
   "outputs": [],
   "source": [
    "function generate_sor(pomdp::Needle, s::NeedleState, a::Symbol, rng::AbstractRNG)\n",
    "    if s.done                  # Terminal state\n",
    "        sprime = copy(s);\n",
    "        o = generate_o(pomdp, s, a, sprime, rng);\n",
    "        r = 0;\n",
    "        return (sprime, o, r);\n",
    "    end\n",
    "    sprime = advance_needle(s, a, rng);\n",
    "    o = generate_o(pomdp, s, a, sprime, rng);\n",
    "    r = -10 # penalize for any state but the goal state\n",
    "    for (i, rs) in enumerate(pomdp.reward_states)\n",
    "        if posnear(rs, s)\n",
    "            r = rs\n",
    "            sprime.done = true;\n",
    "        end\n",
    "    end\n",
    "    return (sprime, o, r)\n",
    "end;"
   ]
  },
  {
   "cell_type": "code",
   "execution_count": 7,
   "metadata": {
    "collapsed": false
   },
   "outputs": [
    {
     "data": {
      "text/plain": [
       "pdf (generic function with 4 methods)"
      ]
     },
     "execution_count": 7,
     "metadata": {},
     "output_type": "execute_result"
    }
   ],
   "source": [
    "type NeedleLowerBound <: Bound\n",
    "    rng::AbstractRNG\n",
    "end\n",
    "\n",
    "type NeedleUpperBound <: Bound\n",
    "    rng::AbstractRNG\n",
    "end\n",
    "\n",
    "function lower_bound(lb::NeedleLowerBound, pomdp::Needle, s::NeedleState)\n",
    "    return -100;\n",
    "end\n",
    "\n",
    "function upper_bound(ub::NeedleUpperBound, pomdp::Needle, s::NeedleState)\n",
    "    return 0;\n",
    "end\n",
    "\n",
    "\n",
    "function gauss(μ::Float64, σ::Float64)\n",
    "    return (1/(σ*sqrt(2*pi)))*exp(-1*μ^2/(2*σ^2));\n",
    "end\n",
    "\n",
    "# This encodes the belief state. Use multivariate normal distribution.\n",
    "# Returns a probability. TODO ask in office hours\n",
    "function pdf(s::NeedleState, obs::NeedleState)\n",
    "    sigma = [obs.x, obs.y, obs.psi];\n",
    "    covM = Matrix{Float64}([(s.x-obs.x)^2 0 0; 0 (s.y-obs.y)^2 0; 0 0 (s.psi-obs.psi)^2]);\n",
    "    distMV = MvNormal(sigma, covM);\n",
    "    return pdf(distMV, [s.x, s.y, s.sigma])\n",
    "end\n"
   ]
  },
  {
   "cell_type": "code",
   "execution_count": 8,
   "metadata": {
    "collapsed": true
   },
   "outputs": [],
   "source": [
    "type InitialStateDistribution <: AbstractDistribution\n",
    "    states::Array{NeedleState}\n",
    "    probs::Array{Float64}\n",
    "end\n",
    "POMDPs.iterator(d::InitialStateDistribution) = d.states\n",
    "\n",
    "function POMDPs.initial_state_distribution(pomdp::Needle, state::NeedleState)\n",
    "    s = [state];\n",
    "    p = [1.0];\n",
    "    return InitialStateDistribution(s,p);\n",
    "end\n",
    "function rand(rng::AbstractRNG, d::InitialStateDistribution, s::NeedleState)\n",
    "    cat = Categorical(d.probs) # init the categorical distribution\n",
    "    ns = d.states[Base.rand(cat)] # sample a neighbor state according to the distribution c\n",
    "    copy!(s, ns)\n",
    "    return s # return the pointer to s\n",
    "end;\n",
    "rand(rng::AbstractRNG, d::InitialStateDistribution) = rand(rng, d, NeedleState(1.0,1.0,1.0))\n",
    "function POMDPs.pdf(d::InitialStateDistribution, s::NeedleState)\n",
    "    for (i, sp) in enumerate(d.states)\n",
    "        if s == sp\n",
    "            return d.probs[i];\n",
    "        end\n",
    "    end   \n",
    "    return 0.0\n",
    "end;"
   ]
  },
  {
   "cell_type": "code",
   "execution_count": 9,
   "metadata": {
    "collapsed": true
   },
   "outputs": [],
   "source": [
    "POMDPs.create_state(pomdp::Needle) = NeedleState(4.0,10.0,7.0);\n",
    "POMDPs.create_observation(pomdp::Needle) = NeedleState(4.0,10.0,7.0);\n",
    "POMDPs.create_action(pomdp::Needle) = :cw;\n",
    "POMDPs.discount(pomdp::Needle) = pomdp.discount_factor;\n",
    "\n",
    "function POMDPs.isterminal(pomdp::Needle, s::NeedleState)\n",
    "    s.done ? (return true) : (return false)\n",
    "end;"
   ]
  },
  {
   "cell_type": "code",
   "execution_count": 10,
   "metadata": {
    "collapsed": false
   },
   "outputs": [],
   "source": [
    "using POMCP\n",
    "solver = POMCPDPWSolver();\n",
    "pomdp = Needle();\n",
    "policy = solve(solver, pomdp);"
   ]
  },
  {
   "cell_type": "code",
   "execution_count": 11,
   "metadata": {
    "collapsed": false
   },
   "outputs": [
    {
     "data": {
      "text/plain": [
       "6-element Array{Symbol,1}:\n",
       " :problem            \n",
       " :solver             \n",
       " :node_belief_updater\n",
       " :rollout_policy     \n",
       " :rollout_updater    \n",
       " :_tree_ref          "
      ]
     },
     "execution_count": 11,
     "metadata": {},
     "output_type": "execute_result"
    }
   ],
   "source": [
    "fieldnames(policy)"
   ]
  },
  {
   "cell_type": "code",
   "execution_count": 21,
   "metadata": {
    "collapsed": false
   },
   "outputs": [
    {
     "data": {
      "text/plain": [
       "0-element Array{Symbol,1}"
      ]
     },
     "execution_count": 21,
     "metadata": {},
     "output_type": "execute_result"
    }
   ],
   "source": [
    "fieldnames(policy.solver.k_action)"
   ]
  },
  {
   "cell_type": "code",
   "execution_count": 13,
   "metadata": {
    "collapsed": false
   },
   "outputs": [
    {
     "data": {
      "text/plain": [
       "0.0"
      ]
     },
     "execution_count": 13,
     "metadata": {},
     "output_type": "execute_result"
    }
   ],
   "source": [
    "sum(policy.rollout_policy.rng.vals)"
   ]
  },
  {
   "cell_type": "code",
   "execution_count": null,
   "metadata": {
    "collapsed": false
   },
   "outputs": [],
   "source": [
    "is = initial_state_distribution(pomdp, NeedleState(4.0,10.0,7.0));\n",
    "hist_POMCP = HistoryRecorder(max_steps=100)\n",
    "r = simulate(RolloutSimulator(), pomdp, policy, updater(policy), is);"
   ]
  },
  {
   "cell_type": "code",
   "execution_count": null,
   "metadata": {
    "collapsed": false
   },
   "outputs": [],
   "source": [
    "MersenneTwister(1)"
   ]
  },
  {
   "cell_type": "code",
   "execution_count": null,
   "metadata": {
    "collapsed": false
   },
   "outputs": [],
   "source": [
    "simulate(RolloutSimulator(), pomdp, policy)\n"
   ]
  },
  {
   "cell_type": "code",
   "execution_count": null,
   "metadata": {
    "collapsed": true
   },
   "outputs": [],
   "source": []
  }
 ],
 "metadata": {
  "kernelspec": {
   "display_name": "Julia 0.5.0",
   "language": "julia",
   "name": "julia-0.5"
  },
  "language_info": {
   "file_extension": ".jl",
   "mimetype": "application/julia",
   "name": "julia",
   "version": "0.5.0"
  }
 },
 "nbformat": 4,
 "nbformat_minor": 1
}
