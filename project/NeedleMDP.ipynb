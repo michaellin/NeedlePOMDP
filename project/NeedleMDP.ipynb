{
 "cells": [
  {
   "cell_type": "markdown",
   "metadata": {
    "slideshow": {
     "slide_type": "slide"
    }
   },
   "source": [
    "# Needle Insertion Markov Decision Process"
   ]
  },
  {
   "cell_type": "code",
   "execution_count": 1,
   "metadata": {
    "collapsed": false,
    "slideshow": {
     "slide_type": "slide"
    }
   },
   "outputs": [],
   "source": [
    "using POMDPs\n",
    "using Distributions\n",
    "using POMDPToolbox\n",
    "using PyPlot"
   ]
  },
  {
   "cell_type": "markdown",
   "metadata": {
    "slideshow": {
     "slide_type": "slide"
    }
   },
   "source": [
    "## States"
   ]
  },
  {
   "cell_type": "code",
   "execution_count": 2,
   "metadata": {
    "collapsed": false
   },
   "outputs": [],
   "source": [
    "type NeedleState \n",
    "    x::Int64 # x position\n",
    "    y::Int64 # y position\n",
    "    psi::Int64 # orientation\n",
    "    done::Bool # are we in a terminal state?\n",
    "end"
   ]
  },
  {
   "cell_type": "code",
   "execution_count": 3,
   "metadata": {
    "collapsed": false
   },
   "outputs": [],
   "source": [
    "# initial state constructor\n",
    "NeedleState(x::Int64, y::Int64, psi::Int64) = NeedleState(x,y,psi,false)\n",
    "# checks if the position of two states are the same\n",
    "posequal(s1::NeedleState, s2::NeedleState) = s1.x == s2.x && s1.y == s2.y && s1.psi == s2.psi\n",
    "# copies state s2 to s1\n",
    "function Base.copy!(s1::NeedleState, s2::NeedleState) \n",
    "    s1.x = s2.x\n",
    "    s1.y = s2.y\n",
    "    s1.psi = s2.psi\n",
    "    s1.done = s2.done\n",
    "    s1\n",
    "end\n",
    "# if you want to use Monte Carlo Tree Search, you will need to define the functions below\n",
    "Base.hash(s::NeedleState, h::UInt64 = zero(UInt64)) = hash(s.x, hash(s.y, hash(s.psi, hash(s.done, h))))\n",
    "Base.isequal(s1::NeedleState,s2::NeedleState) = s1.x == s2.x && s1.y == s2.y && s1.psi == s2.psi && s1.done == s2.done;"
   ]
  },
  {
   "cell_type": "markdown",
   "metadata": {},
   "source": [
    "## MDP"
   ]
  },
  {
   "cell_type": "code",
   "execution_count": 4,
   "metadata": {
    "collapsed": false
   },
   "outputs": [],
   "source": [
    "# the needle mdp type\n",
    "type Needle <: MDP{NeedleState, Symbol} # Note that our MDP is parametarized by the state and the action\n",
    "    size_x::Int64 # x size of the grid\n",
    "    size_y::Int64 # y size of the grid\n",
    "    size_psi::Int64 # number of orientation bins\n",
    "    reward_states::Vector{NeedleState} # target/obstacle states\n",
    "    reward_values::Vector{Float64} # reward values for those states\n",
    "    tprob::Array{Float64} # probability of transitioning to the desired state\n",
    "    discount_factor::Float64 # disocunt factor\n",
    "end"
   ]
  },
  {
   "cell_type": "code",
   "execution_count": 5,
   "metadata": {
    "collapsed": false
   },
   "outputs": [
    {
     "data": {
      "text/plain": [
       "Needle(10,10,8,NeedleState[NeedleState(8,4,1,false),NeedleState(8,4,2,false),NeedleState(8,4,3,false),NeedleState(8,4,4,false),NeedleState(8,4,5,false),NeedleState(8,4,6,false),NeedleState(8,4,7,false),NeedleState(8,4,8,false),NeedleState(4,6,1,false),NeedleState(4,6,2,false)  …  NeedleState(8,10,4,false),NeedleState(9,10,4,false),NeedleState(2,10,5,false),NeedleState(3,10,5,false),NeedleState(4,10,5,false),NeedleState(5,10,5,false),NeedleState(6,10,5,false),NeedleState(7,10,5,false),NeedleState(8,10,5,false),NeedleState(9,10,5,false)],[100.0,100.0,100.0,100.0,100.0,100.0,100.0,100.0,-20.0,-20.0  …  -5.0,-5.0,-5.0,-5.0,-5.0,-5.0,-5.0,-5.0,-5.0,-5.0],[0.05,0.9,0.05,0.0],0.9)"
      ]
     },
     "execution_count": 5,
     "metadata": {},
     "output_type": "execute_result"
    }
   ],
   "source": [
    "# we use key worded arguments so we can change any of the values we pass in \n",
    "function Needle(;sx::Int64 = 10, # size_x\n",
    "                sy::Int64 = 10, # size_y\n",
    "                spsi::Int64 = 8, # size_psi\n",
    "                rs::Vector{NeedleState} = [[NeedleState(8,4,psi) for psi = 1:spsi]; # target states\n",
    "                                            [NeedleState(4,6,psi) for psi = 1:spsi]; # obstacle states\n",
    "                                            [NeedleState(1,y,psi) for y = 1:sy, psi = 3:7][:]; # boundary states\n",
    "                                            [NeedleState(sx,y,psi) for y = 1:sy, psi = [1:3;7:spsi]][:];\n",
    "                                            [NeedleState(x,1,psi) for x = 2:sx-1, psi = [5:spsi;1]][:];\n",
    "                                            [NeedleState(x,sy,psi) for x = 2:sx-1, psi = 1:5][:]],\n",
    "                rv::Vector{Float64} = [fill(100.0,spsi); fill(-20.0,spsi); fill(-5,(2*sx+2*sy-4)*5)],\n",
    "                tp::Array{Float64} = [0.05, 0.9, 0.05, 0.0], # tprob\n",
    "                discount_factor::Float64 = 0.9)\n",
    "    return Needle(sx, sy, spsi, rs, rv, tp, discount_factor)\n",
    "end\n",
    "\n",
    "# we can now create a NeedleState mdp instance like this:\n",
    "mdp = Needle()\n",
    "# mdp.reward_states # mdp contains all the defualt values from the constructor"
   ]
  },
  {
   "cell_type": "code",
   "execution_count": 6,
   "metadata": {
    "collapsed": false
   },
   "outputs": [
    {
     "data": {
      "text/plain": [
       "Needle(10,10,8,NeedleState[NeedleState(8,4,1,false),NeedleState(8,4,2,false),NeedleState(8,4,3,false),NeedleState(8,4,4,false),NeedleState(8,4,5,false),NeedleState(8,4,6,false),NeedleState(8,4,7,false),NeedleState(8,4,8,false),NeedleState(4,6,1,false),NeedleState(4,6,2,false)  …  NeedleState(8,10,4,false),NeedleState(9,10,4,false),NeedleState(2,10,5,false),NeedleState(3,10,5,false),NeedleState(4,10,5,false),NeedleState(5,10,5,false),NeedleState(6,10,5,false),NeedleState(7,10,5,false),NeedleState(8,10,5,false),NeedleState(9,10,5,false)],[100.0,100.0,100.0,100.0,100.0,100.0,100.0,100.0,-20.0,-20.0  …  -5.0,-5.0,-5.0,-5.0,-5.0,-5.0,-5.0,-5.0,-5.0,-5.0],[0.05,0.9,0.05,0.0],0.9)"
      ]
     },
     "execution_count": 6,
     "metadata": {},
     "output_type": "execute_result"
    }
   ],
   "source": [
    "mdp = Needle()"
   ]
  },
  {
   "cell_type": "markdown",
   "metadata": {},
   "source": [
    "## Spaces"
   ]
  },
  {
   "cell_type": "markdown",
   "metadata": {},
   "source": [
    "### State Space ($ \\mathcal{S}$)"
   ]
  },
  {
   "cell_type": "code",
   "execution_count": 7,
   "metadata": {
    "collapsed": false
   },
   "outputs": [],
   "source": [
    "type StateSpace <: AbstractSpace\n",
    "    states::Vector{NeedleState}\n",
    "end"
   ]
  },
  {
   "cell_type": "code",
   "execution_count": 8,
   "metadata": {
    "collapsed": false
   },
   "outputs": [],
   "source": [
    "function POMDPs.states(mdp::Needle)\n",
    "    s = NeedleState[] # initialize an array of NeedleStates\n",
    "    # loop over all our states, remeber there is one binary variables: done (d)\n",
    "    for d = 0:1, y = 1:mdp.size_y, x = 1:mdp.size_x, psi = 1:mdp.size_psi\n",
    "        push!(s, NeedleState(x,y,psi,d))\n",
    "    end\n",
    "    return StateSpace(s)\n",
    "end;"
   ]
  },
  {
   "cell_type": "code",
   "execution_count": 9,
   "metadata": {
    "collapsed": false
   },
   "outputs": [],
   "source": [
    "function POMDPs.iterator(space::StateSpace)\n",
    "    return space.states \n",
    "end;"
   ]
  },
  {
   "cell_type": "code",
   "execution_count": 10,
   "metadata": {
    "collapsed": false
   },
   "outputs": [],
   "source": [
    "function POMDPs.rand(rng::AbstractRNG, space::StateSpace, s::NeedleState)\n",
    "    sp = space.states[rand(rng, 1:end)]\n",
    "    copy!(s, sp)\n",
    "    s\n",
    "end;"
   ]
  },
  {
   "cell_type": "markdown",
   "metadata": {},
   "source": [
    "### Action Space ($\\mathcal{A}$)"
   ]
  },
  {
   "cell_type": "code",
   "execution_count": 11,
   "metadata": {
    "collapsed": false
   },
   "outputs": [],
   "source": [
    "type ActionSpace <: AbstractSpace\n",
    "    actions::Vector{Symbol}\n",
    "end"
   ]
  },
  {
   "cell_type": "code",
   "execution_count": 12,
   "metadata": {
    "collapsed": false
   },
   "outputs": [],
   "source": [
    "function POMDPs.actions(mdp::Needle)\n",
    "    acts = [:cw, :ccw]\n",
    "    return ActionSpace(acts)\n",
    "end;\n",
    "POMDPs.actions(mdp::Needle, s::NeedleState, as::ActionSpace=actions(mdp)) = as;"
   ]
  },
  {
   "cell_type": "code",
   "execution_count": 13,
   "metadata": {
    "collapsed": false
   },
   "outputs": [],
   "source": [
    "function POMDPs.iterator(space::ActionSpace)\n",
    "    return space.actions \n",
    "end;"
   ]
  },
  {
   "cell_type": "code",
   "execution_count": 14,
   "metadata": {
    "collapsed": false
   },
   "outputs": [],
   "source": [
    "function POMDPs.rand(rng::AbstractRNG, space::ActionSpace, a::Symbol)\n",
    "    return space.actions[rand(rng, 1:end)]\n",
    "end;\n",
    "function POMDPs.rand(rng::AbstractRNG, space::ActionSpace)\n",
    "    a = NeedleAction(:cw)\n",
    "    return rand(rng, space, a)\n",
    "end;"
   ]
  },
  {
   "cell_type": "markdown",
   "metadata": {},
   "source": [
    "To finish up, we add a couple of initializer functions for out state and action."
   ]
  },
  {
   "cell_type": "code",
   "execution_count": 15,
   "metadata": {
    "collapsed": false
   },
   "outputs": [],
   "source": [
    "POMDPs.create_state(mdp::Needle) = NeedleState(1,1,1)\n",
    "POMDPs.create_action(mdp::Needle) = :cw;"
   ]
  },
  {
   "cell_type": "markdown",
   "metadata": {},
   "source": [
    "## Transition Distribution"
   ]
  },
  {
   "cell_type": "code",
   "execution_count": 16,
   "metadata": {
    "collapsed": false
   },
   "outputs": [],
   "source": [
    "type NeedleDistribution <: AbstractDistribution\n",
    "    neighbors::Array{NeedleState} # the states s' in the distribution\n",
    "    probs::Array{Float64} # the probability corresponding to each state s'\n",
    "    cat::Categorical # this comes from Distributions.jl and is used for sampling\n",
    "end"
   ]
  },
  {
   "cell_type": "code",
   "execution_count": 17,
   "metadata": {
    "collapsed": false
   },
   "outputs": [],
   "source": [
    "function POMDPs.create_transition_distribution(mdp::Needle)\n",
    "    # can have at most five neighbors in grid world\n",
    "    neighbors =  [NeedleState(i,i,1) for i = 1:5]\n",
    "    probabilities = zeros(5) + 1.0/5.0\n",
    "    cat = Categorical(5)\n",
    "    return NeedleDistribution(neighbors, probabilities, cat)\n",
    "end;"
   ]
  },
  {
   "cell_type": "code",
   "execution_count": 18,
   "metadata": {
    "collapsed": false
   },
   "outputs": [],
   "source": [
    "function POMDPs.iterator(d::NeedleDistribution)\n",
    "    return d.neighbors\n",
    "end;"
   ]
  },
  {
   "cell_type": "code",
   "execution_count": 19,
   "metadata": {
    "collapsed": false
   },
   "outputs": [],
   "source": [
    "function POMDPs.pdf(d::NeedleDistribution, s::NeedleState)\n",
    "    for (i, sp) in enumerate(d.neighbors)\n",
    "        if isequal(s,sp)\n",
    "            return d.probs[i]\n",
    "        end\n",
    "    end   \n",
    "    return 0.0\n",
    "end;"
   ]
  },
  {
   "cell_type": "code",
   "execution_count": 20,
   "metadata": {
    "collapsed": false
   },
   "outputs": [],
   "source": [
    "function POMDPs.rand(rng::AbstractRNG, d::NeedleDistribution, s::NeedleState)\n",
    "    d.cat = Categorical(d.probs) # init the categorical distribution\n",
    "    ns = d.neighbors[rand(d.cat)] # sample a neighbor state according to the distribution c\n",
    "    copy!(s, ns)\n",
    "    return s # return the pointer to s\n",
    "end;"
   ]
  },
  {
   "cell_type": "markdown",
   "metadata": {},
   "source": [
    "## Transition Model (T)"
   ]
  },
  {
   "cell_type": "code",
   "execution_count": 21,
   "metadata": {
    "collapsed": false
   },
   "outputs": [],
   "source": [
    "# transition helpers\n",
    "function inbounds(mdp::Needle,x::Int64,y::Int64,psi::Int64)\n",
    "    if 1 <= x <= mdp.size_x && 1 <= y <= mdp.size_y && 1 <= psi <= mdp.size_psi\n",
    "        return true\n",
    "    else\n",
    "        return false\n",
    "    end\n",
    "end\n",
    "\n",
    "function inbounds(mdp::Needle,state::NeedleState)\n",
    "    x = state.x\n",
    "    y = state.y\n",
    "    psi = state.psi\n",
    "    return inbounds(mdp, x, y, psi)\n",
    "end\n",
    "\n",
    "###########################################################\n",
    "\n",
    "function atbounds(mdp::Needle,x::Int64,y::Int64,psi::Int64)\n",
    "    # at bounds if: at wall, facing outward or at corner\n",
    "    if (x == 1 || x == mdp.size_x) && (y == 1 || y == mdp.size_y) # at corner\n",
    "        return true\n",
    "        elseif (x == 1 && 3 <= psi <= 7) || (x == mdp.size_x && (7 <= psi || psi <= 3) ) ||\n",
    "        (y == 1 && (5 <= psi || psi <= 1) ) || (y == mdp.size_y && 1 <= psi <= 5) # at wall, facing outward\n",
    "        return true\n",
    "    else\n",
    "        return false\n",
    "    end\n",
    "end\n",
    "\n",
    "function atbounds(mdp::Needle,state::NeedleState)\n",
    "    x = state.x\n",
    "    y = state.y\n",
    "    psi = state.psi\n",
    "    return atbounds(mdp, x, y, psi)\n",
    "end\n",
    "\n",
    "###########################################################\n",
    "\n",
    "function fill_probability!(p::Vector{Float64}, val::Float64, index::Int64)\n",
    "    for i = 1:length(p)\n",
    "        if i == index\n",
    "            p[i] = val\n",
    "        else\n",
    "            p[i] = 0.0\n",
    "        end\n",
    "    end\n",
    "end;\n"
   ]
  },
  {
   "cell_type": "code",
   "execution_count": 22,
   "metadata": {
    "collapsed": false
   },
   "outputs": [],
   "source": [
    "function POMDPs.transition(mdp::Needle,\n",
    "                            state::NeedleState,\n",
    "                            action::Symbol,\n",
    "                            d::NeedleDistribution=create_transition_distribution(mdp))\n",
    "    tp = mdp.tprob\n",
    "    \n",
    "    a = action\n",
    "    x = state.x\n",
    "    y = state.y\n",
    "    psi = state.psi\n",
    "    \n",
    "    neighbors = d.neighbors\n",
    "    probability = d.probs\n",
    "    \n",
    "    # let's handle the done case first\n",
    "    if state.done\n",
    "        # can only transition to the same done state\n",
    "        fill!(probability, 0.0)\n",
    "        probability[1] = 1.0\n",
    "        copy!(neighbors[1], state)\n",
    "        # when we sample d, we will only get the state in neighbors[1] - our done state\n",
    "        return d\n",
    "    end\n",
    "    \n",
    "    fill!(probability, 0.0)\n",
    "\n",
    "    if a == :ccw\n",
    "        if psi == 1\n",
    "            neighbors[1].x = x+1; neighbors[1].y = y;   neighbors[1].psi = psi; \n",
    "            neighbors[2].x = x+1; neighbors[2].y = y;   neighbors[2].psi = psi+1;\n",
    "            neighbors[3].x = x+1; neighbors[3].y = y+1; neighbors[3].psi = psi+1;\n",
    "            neighbors[4].x = x+1; neighbors[4].y = y+1; neighbors[4].psi = psi+2;\n",
    "        elseif psi == 2\n",
    "            neighbors[1].x = x+1; neighbors[1].y = y+1; neighbors[1].psi = psi; \n",
    "            neighbors[2].x = x+1; neighbors[2].y = y+1; neighbors[2].psi = psi+1;\n",
    "            neighbors[3].x = x;   neighbors[3].y = y+1; neighbors[3].psi = psi+1;\n",
    "            neighbors[4].x = x;   neighbors[4].y = y+1; neighbors[4].psi = psi+2;\n",
    "        elseif psi == 3\n",
    "            neighbors[1].x = x;   neighbors[1].y = y+1; neighbors[1].psi = psi; \n",
    "            neighbors[2].x = x;   neighbors[2].y = y+1; neighbors[2].psi = psi+1;\n",
    "            neighbors[3].x = x-1; neighbors[3].y = y+1; neighbors[3].psi = psi+1;\n",
    "            neighbors[4].x = x-1; neighbors[4].y = y+1; neighbors[4].psi = psi+2;\n",
    "        elseif psi == 4\n",
    "            neighbors[1].x = x-1; neighbors[1].y = y+1; neighbors[1].psi = psi; \n",
    "            neighbors[2].x = x-1; neighbors[2].y = y+1; neighbors[2].psi = psi+1;\n",
    "            neighbors[3].x = x-1; neighbors[3].y = y;   neighbors[3].psi = psi+1;\n",
    "            neighbors[4].x = x-1; neighbors[4].y = y;   neighbors[4].psi = psi+2;\n",
    "        elseif psi == 5\n",
    "            neighbors[1].x = x-1; neighbors[1].y = y;   neighbors[1].psi = psi; \n",
    "            neighbors[2].x = x-1; neighbors[2].y = y;   neighbors[2].psi = psi+1;\n",
    "            neighbors[3].x = x-1; neighbors[3].y = y-1; neighbors[3].psi = psi+1;\n",
    "            neighbors[4].x = x-1; neighbors[4].y = y-1; neighbors[4].psi = psi+2;\n",
    "        elseif psi == 6\n",
    "            neighbors[1].x = x-1; neighbors[1].y = y-1; neighbors[1].psi = psi; \n",
    "            neighbors[2].x = x-1; neighbors[2].y = y-1; neighbors[2].psi = psi+1;\n",
    "            neighbors[3].x = x;   neighbors[3].y = y-1; neighbors[3].psi = psi+1;\n",
    "            neighbors[4].x = x;   neighbors[4].y = y-1; neighbors[4].psi = psi+2;\n",
    "        elseif psi == 7\n",
    "            neighbors[1].x = x;   neighbors[1].y = y-1; neighbors[1].psi = psi; \n",
    "            neighbors[2].x = x;   neighbors[2].y = y-1; neighbors[2].psi = psi+1;\n",
    "            neighbors[3].x = x+1; neighbors[3].y = y-1; neighbors[3].psi = psi+1;\n",
    "            neighbors[4].x = x+1; neighbors[4].y = y-1; neighbors[4].psi = psi+2;\n",
    "        elseif psi == 8\n",
    "            neighbors[1].x = x+1; neighbors[1].y = y-1; neighbors[1].psi = psi; \n",
    "            neighbors[2].x = x+1; neighbors[2].y = y-1; neighbors[2].psi = psi+1;\n",
    "            neighbors[3].x = x+1; neighbors[3].y = y;   neighbors[3].psi = psi+1;\n",
    "            neighbors[4].x = x+1; neighbors[4].y = y;   neighbors[4].psi = psi+2;\n",
    "        end\n",
    "    elseif a == :cw\n",
    "        if psi == 1\n",
    "            neighbors[1].x = x+1; neighbors[1].y = y;   neighbors[1].psi = psi; \n",
    "            neighbors[2].x = x+1; neighbors[2].y = y;   neighbors[2].psi = psi+7;\n",
    "            neighbors[3].x = x+1; neighbors[3].y = y-1; neighbors[3].psi = psi+7;\n",
    "            neighbors[4].x = x+1; neighbors[4].y = y-1; neighbors[4].psi = psi+6;\n",
    "        elseif psi == 2\n",
    "            neighbors[1].x = x+1; neighbors[1].y = y+1; neighbors[1].psi = psi; \n",
    "            neighbors[2].x = x+1; neighbors[2].y = y+1; neighbors[2].psi = psi+7;\n",
    "            neighbors[3].x = x+1; neighbors[3].y = y;   neighbors[3].psi = psi+7;\n",
    "            neighbors[4].x = x+1; neighbors[4].y = y;   neighbors[4].psi = psi+6;\n",
    "        elseif psi == 3\n",
    "            neighbors[1].x = x;   neighbors[1].y = y+1; neighbors[1].psi = psi; \n",
    "            neighbors[2].x = x;   neighbors[2].y = y+1; neighbors[2].psi = psi+7;\n",
    "            neighbors[3].x = x+1; neighbors[3].y = y+1; neighbors[3].psi = psi+7;\n",
    "            neighbors[4].x = x+1; neighbors[4].y = y+1; neighbors[4].psi = psi+6;\n",
    "        elseif psi == 4\n",
    "            neighbors[1].x = x-1; neighbors[1].y = y+1; neighbors[1].psi = psi; \n",
    "            neighbors[2].x = x-1; neighbors[2].y = y+1; neighbors[2].psi = psi+7;\n",
    "            neighbors[3].x = x;   neighbors[3].y = y+1; neighbors[3].psi = psi+7;\n",
    "            neighbors[4].x = x;   neighbors[4].y = y+1; neighbors[4].psi = psi+6;\n",
    "        elseif psi == 5\n",
    "            neighbors[1].x = x-1; neighbors[1].y = y;   neighbors[1].psi = psi; \n",
    "            neighbors[2].x = x-1; neighbors[2].y = y;   neighbors[2].psi = psi+7;\n",
    "            neighbors[3].x = x-1; neighbors[3].y = y+1; neighbors[3].psi = psi+7;\n",
    "            neighbors[4].x = x-1; neighbors[4].y = y+1; neighbors[4].psi = psi+6;\n",
    "        elseif psi == 6\n",
    "            neighbors[1].x = x-1; neighbors[1].y = y-1; neighbors[1].psi = psi; \n",
    "            neighbors[2].x = x-1; neighbors[2].y = y-1; neighbors[2].psi = psi+7;\n",
    "            neighbors[3].x = x-1; neighbors[3].y = y;   neighbors[3].psi = psi+7;\n",
    "            neighbors[4].x = x-1; neighbors[4].y = y;   neighbors[4].psi = psi+6;\n",
    "        elseif psi == 7\n",
    "            neighbors[1].x = x;   neighbors[1].y = y-1; neighbors[1].psi = psi; \n",
    "            neighbors[2].x = x;   neighbors[2].y = y-1; neighbors[2].psi = psi+7;\n",
    "            neighbors[3].x = x-1; neighbors[3].y = y-1; neighbors[3].psi = psi+7;\n",
    "            neighbors[4].x = x-1; neighbors[4].y = y-1; neighbors[4].psi = psi+6;\n",
    "        elseif psi == 8\n",
    "            neighbors[1].x = x+1; neighbors[1].y = y-1; neighbors[1].psi = psi; \n",
    "            neighbors[2].x = x+1; neighbors[2].y = y-1; neighbors[2].psi = psi+7;\n",
    "            neighbors[3].x = x;   neighbors[3].y = y-1; neighbors[3].psi = psi+7;\n",
    "            neighbors[4].x = x;   neighbors[4].y = y-1; neighbors[4].psi = psi+6;\n",
    "        end\n",
    "    end\n",
    "    # make sure psi is between 1 and 8\n",
    "    for i = 1:4\n",
    "        neighbors[i].psi = mod(neighbors[i].psi,8)\n",
    "        if neighbors[i].psi == 0\n",
    "            neighbors[i].psi = 8;\n",
    "        end\n",
    "    end\n",
    "    neighbors[5].x = x; neighbors[5].y = y; neighbors[5].psi = psi;\n",
    "    \n",
    "    # initialize done states \n",
    "    for i = 1:5 neighbors[i].done = false end\n",
    "    reward_states = mdp.reward_states\n",
    "    \n",
    "    # detection of done states\n",
    "    n = length(reward_states)\n",
    "    for i = 1:n\n",
    "        # terminate at target/obstacle\n",
    "        if isequal(state, reward_states[i])\n",
    "            fill_probability!(probability, 1.0, 5)\n",
    "            neighbors[5].done = true\n",
    "            return d\n",
    "        end\n",
    "        # terminate at boundary\n",
    "        if atbounds(mdp, state)\n",
    "            fill_probability!(probability, 1.0, 5)\n",
    "            neighbors[5].done = true\n",
    "            return d\n",
    "        end\n",
    "    end\n",
    "    \n",
    "    if !inbounds(mdp, neighbors[1]) || !inbounds(mdp, neighbors[2]) ||\n",
    "        !inbounds(mdp, neighbors[3]) || !inbounds(mdp, neighbors[4]) # at least one of the neighbors is outside bounds\n",
    "        fill_probability!(probability, 1.0, 5) # stuck in current state when terminated\n",
    "    else # none of the neighbors is outside bounds\n",
    "        probability[1:4] = tp\n",
    "    end\n",
    "    \n",
    "    return d\n",
    "end;"
   ]
  },
  {
   "cell_type": "markdown",
   "metadata": {},
   "source": [
    "## Reward Model (R)"
   ]
  },
  {
   "cell_type": "code",
   "execution_count": 23,
   "metadata": {
    "collapsed": false
   },
   "outputs": [],
   "source": [
    "function POMDPs.reward(mdp::Needle, state::NeedleState, action::Symbol, statep::NeedleState) #deleted action\n",
    "    if state.done\n",
    "        return 0.0\n",
    "    end\n",
    "    r = 0.0\n",
    "    reward_states = mdp.reward_states\n",
    "    reward_values = mdp.reward_values\n",
    "    n = length(reward_states)\n",
    "    for i = 1:n\n",
    "        if isequal(state, reward_states[i]) # reward, obstacle and wall states\n",
    "            r += reward_values[i]\n",
    "        end\n",
    "    end\n",
    "    r += -1; # penalty for every step taken    \n",
    "    return r\n",
    "end;\n"
   ]
  },
  {
   "cell_type": "markdown",
   "metadata": {},
   "source": [
    "## Miscellaneous Functions"
   ]
  },
  {
   "cell_type": "code",
   "execution_count": 24,
   "metadata": {
    "collapsed": false
   },
   "outputs": [],
   "source": [
    "POMDPs.n_states(mdp::Needle) = 2*mdp.size_x*mdp.size_y*mdp.size_psi\n",
    "POMDPs.n_actions(mdp::Needle) = 2\n",
    "POMDPs.discount(mdp::Needle) = mdp.discount_factor;"
   ]
  },
  {
   "cell_type": "code",
   "execution_count": 25,
   "metadata": {
    "collapsed": false
   },
   "outputs": [],
   "source": [
    "function POMDPs.state_index(mdp::Needle, state::NeedleState)\n",
    "    sd = Int(state.done + 1)\n",
    "    return sub2ind((mdp.size_x, mdp.size_y, mdp.size_psi, 2, 2), state.x, state.y, state.psi, sd)\n",
    "end;"
   ]
  },
  {
   "cell_type": "code",
   "execution_count": 26,
   "metadata": {
    "collapsed": false
   },
   "outputs": [],
   "source": [
    "function POMDPs.isterminal(mdp::Needle, s::NeedleState)\n",
    "    s.done ? (return true) : (return false)\n",
    "end;"
   ]
  },
  {
   "cell_type": "markdown",
   "metadata": {},
   "source": [
    "## Value Iteration Solver"
   ]
  },
  {
   "cell_type": "code",
   "execution_count": 27,
   "metadata": {
    "collapsed": false
   },
   "outputs": [
    {
     "name": "stdout",
     "output_type": "stream",
     "text": [
      "Iteration : 1, residual: 99.0, iteration run-time: 0.168620107, total run-time: 0.168620107\n",
      "Iteration : 2, residual: 71.29575000000001, iteration run-time: 0.160712923, total run-time: 0.32933303\n",
      "Iteration : 3, residual: 57.70896637500002, iteration run-time: 0.145045764, total run-time: 0.47437879400000005\n",
      "Iteration : 4, residual: 38.759395906801544, iteration run-time: 0.150691528, total run-time: 0.625070322\n",
      "Iteration : 5, residual: 31.986784885797615, iteration run-time: 0.151515739, total run-time: 0.776586061\n",
      "Iteration : 6, residual: 25.62353365735233, iteration run-time: 0.157468285, total run-time: 0.934054346\n",
      "Iteration : 7, residual: 18.921858511010647, iteration run-time: 0.152071334, total run-time: 1.08612568\n",
      "Iteration : 8, residual: 12.82880737061843, iteration run-time: 0.14900813, total run-time: 1.23513381\n",
      "Iteration : 9, residual: 5.3782266470799165, iteration run-time: 0.154618079, total run-time: 1.389751889\n",
      "Iteration : 10, residual: 1.9403980293356227, iteration run-time: 0.158568232, total run-time: 1.548320121\n",
      "Iteration : 11, residual: 0.7269827422690464, iteration run-time: 0.148138455, total run-time: 1.696458576\n",
      "Iteration : 12, residual: 0.421176493840699, iteration run-time: 0.15170518, total run-time: 1.848163756\n",
      "Iteration : 13, residual: 0.28032496547800556, iteration run-time: 0.147962278, total run-time: 1.996126034\n",
      "Iteration : 14, residual: 0.2092370934704295, iteration run-time: 0.152009177, total run-time: 2.148135211\n",
      "Iteration : 15, residual: 0.13378129737349598, iteration run-time: 0.148965213, total run-time: 2.297100424\n",
      "Iteration : 16, residual: 0.11061204699102722, iteration run-time: 0.151141724, total run-time: 2.448242148\n",
      "Iteration : 17, residual: 0.09121370455052036, iteration run-time: 0.152740426, total run-time: 2.6009825739999997\n",
      "Iteration : 18, residual: 0.07483010435450277, iteration run-time: 0.157800372, total run-time: 2.7587829459999997\n",
      "Iteration : 19, residual: 0.06124370312501792, iteration run-time: 0.141673294, total run-time: 2.9004562399999996\n",
      "Iteration : 20, residual: 0.05001569677623663, iteration run-time: 0.151154268, total run-time: 3.0516105079999996\n",
      "Iteration : 21, residual: 0.040779176737751, iteration run-time: 0.154549695, total run-time: 3.2061602029999996\n",
      "Iteration : 22, residual: 0.03321242202001806, iteration run-time: 0.154735055, total run-time: 3.3608952579999998\n",
      "Iteration : 23, residual: 0.027023938241969914, iteration run-time: 0.156010426, total run-time: 3.5169056839999997\n",
      "Iteration : 24, residual: 0.02197313404247936, iteration run-time: 0.147562339, total run-time: 3.6644680229999995\n",
      "Iteration : 25, residual: 0.01785742045178762, iteration run-time: 0.14383952, total run-time: 3.8083075429999997\n",
      "Iteration : 26, residual: 0.014506309005552387, iteration run-time: 0.145694913, total run-time: 3.9540024559999996\n",
      "Iteration : 27, residual: 0.011780573010458761, iteration run-time: 0.147758991, total run-time: 4.1017614469999994\n",
      "Iteration : 28, residual: 0.009564647824817252, iteration run-time: 0.149320481, total run-time: 4.251081928\n",
      "Iteration : 29, residual: 0.007764095107158253, iteration run-time: 0.148765261, total run-time: 4.399847189\n",
      "Iteration : 30, residual: 0.00630161716551747, iteration run-time: 0.15115741, total run-time: 4.551004599\n",
      "Iteration : 31, residual: 0.005114054712314964, iteration run-time: 0.152893217, total run-time: 4.703897816\n",
      "Iteration : 32, residual: 0.004149947455556413, iteration run-time: 0.148531447, total run-time: 4.852429262999999\n",
      "Iteration : 33, residual: 0.0033673770720268337, iteration run-time: 0.155004912, total run-time: 5.007434174999999\n",
      "Iteration : 34, residual: 0.0027322430623109017, iteration run-time: 0.156042877, total run-time: 5.163477051999999\n",
      "Iteration : 35, residual: 0.002216819488273458, iteration run-time: 0.156514968, total run-time: 5.319992019999999\n",
      "Iteration : 36, residual: 0.0017985750257458744, iteration run-time: 0.149299616, total run-time: 5.4692916359999995\n",
      "Iteration : 37, residual: 0.0014592071430850062, iteration run-time: 0.154822194, total run-time: 5.62411383\n",
      "Iteration : 38, residual: 0.001183853053426276, iteration run-time: 0.15671017, total run-time: 5.780824\n",
      "Iteration : 39, residual: 0.000960445713098057, iteration run-time: 0.15458965, total run-time: 5.93541365\n",
      "Iteration : 40, residual: 0.0007791900046414391, iteration run-time: 0.152457432, total run-time: 6.087871082\n",
      "Iteration : 41, residual: 0.0006321359336103338, iteration run-time: 0.153055616, total run-time: 6.240926698\n",
      "Iteration : 42, residual: 0.0005128317759266476, iteration run-time: 0.15694494, total run-time: 6.397871638\n",
      "Iteration : 43, residual: 0.0004160421527261704, iteration run-time: 0.156693729, total run-time: 6.5545653669999995\n",
      "Iteration : 44, residual: 0.0003375189568228798, iteration run-time: 0.157939361, total run-time: 6.712504728\n",
      "Iteration : 45, residual: 0.0002738153526447018, iteration run-time: 0.154094891, total run-time: 6.866599619\n",
      "Iteration : 46, residual: 0.00022213474256416177, iteration run-time: 0.152323735, total run-time: 7.018923354\n",
      "Iteration : 47, residual: 0.0001802081652655385, iteration run-time: 0.15571327, total run-time: 7.174636624\n",
      "Iteration : 48, residual: 0.00014619478774036132, iteration run-time: 0.149699213, total run-time: 7.324335837\n",
      "Iteration : 49, residual: 0.00011860114661566001, iteration run-time: 0.154374253, total run-time: 7.47871009\n",
      "Iteration : 50, residual: 9.621561470529727e-5, iteration run-time: 0.157537862, total run-time: 7.636247952\n"
     ]
    }
   ],
   "source": [
    "using DiscreteValueIteration\n",
    "\n",
    "# initialize the problem\n",
    "mdp_vi = Needle()\n",
    "\n",
    "# initialize the solver\n",
    "# max_iterations: maximum number of iterations value iteration runs for (default is 100)\n",
    "# belres: the value of Bellman residual used in the solver (defualt is 1e-3)\n",
    "solver = ValueIterationSolver(max_iterations=500, belres=1e-4)\n",
    "\n",
    "# initialize the policy by passing in your problem\n",
    "policy_vi = ValueIterationPolicy(mdp_vi)\n",
    "\n",
    "# solve for an optimal policy\n",
    "# if verbose=false, the text output will be supressed (false by default)\n",
    "solve(solver, mdp_vi, policy_vi, verbose=true);"
   ]
  },
  {
   "cell_type": "markdown",
   "metadata": {},
   "source": [
    "### Value iteration policy simulation"
   ]
  },
  {
   "cell_type": "code",
   "execution_count": 32,
   "metadata": {
    "collapsed": false
   },
   "outputs": [
    {
     "data": {
      "image/png": "[encoded data removed]",
      "text/plain": [
       "PyPlot.Figure(PyObject <matplotlib.figure.Figure object at 0x7fac8a316450>)"
      ]
     },
     "metadata": {},
     "output_type": "display_data"
    },
    {
     "name": "stdout",
     "output_type": "stream",
     "text": [
      "Total discounted reward: 36.920925890000014\n",
      "Target missed\n"
     ]
    }
   ],
   "source": [
    "s = NeedleState(4,10,7)\n",
    "hist_vi = HistoryRecorder()\n",
    "\n",
    "r = simulate(hist_vi, mdp_vi, policy_vi, s)\n",
    "\n",
    "println(\"Total discounted reward: $r\")\n",
    "\n",
    "if posequal(hist_vi.state_hist[end], mdp.reward_states[1])\n",
    "    println(\"Target reached\")\n",
    "else\n",
    "    println(\"Target missed\")\n",
    "end\n",
    "\n",
    "# define tissue environment\n",
    "plot([1 10 10 1 1]',[1 1 10 10 1]',linewidth=10,color=\"r\") # tissue bounds\n",
    "plot(mdp.reward_states[1].x,mdp.reward_states[1].y,marker=\"o\",markersize=40,color=\"g\",markeredgecolor=\"none\")\n",
    "plot(mdp.reward_states[9].x,mdp.reward_states[9].y,marker=\"o\",markersize=40,color=\"r\",markeredgecolor=\"none\")\n",
    "\n",
    "# needle trajectory\n",
    "steps = length(hist_vi.state_hist)\n",
    "for i = 1:steps-1 \n",
    "    state = hist_vi.state_hist[i]\n",
    "    action = hist_vi.action_hist[i]\n",
    "    if action == :cw\n",
    "        c = \"y\"\n",
    "    else\n",
    "        c = \"b\"\n",
    "    end\n",
    "    plot(state.x,state.y,color=c,marker=\"o\",markersize=15)\n",
    "    quiver(state.x,state.y,0.5*cos((state.psi-1)*pi/4),0.5*sin((state.psi-1)*pi/4))\n",
    "end\n",
    "\n",
    "title(@sprintf(\"Needle tip trajectory (value iteration): reward = %0.2f\",r))\n",
    "axis(\"equal\")\n",
    "axis([0, 11, 0, 11])\n",
    "xlabel(\"x\")\n",
    "ylabel(\"y\")\n",
    "grid(true)"
   ]
  },
  {
   "cell_type": "code",
   "execution_count": 29,
   "metadata": {
    "collapsed": false
   },
   "outputs": [],
   "source": [
    "# N = 100000\n",
    "# r_all = ones(1,N)\n",
    "# for i = 1:N\n",
    "#     r_all[i] = simulate(hist_vi, mdp, policy_vi, s)\n",
    "# end\n",
    "# println(value(policy_vi, s))\n",
    "# mean(r_all)"
   ]
  },
  {
   "cell_type": "markdown",
   "metadata": {},
   "source": [
    "## Monte-Carlo Tree Search Solver"
   ]
  },
  {
   "cell_type": "code",
   "execution_count": 30,
   "metadata": {
    "collapsed": false,
    "scrolled": true
   },
   "outputs": [
    {
     "name": "stderr",
     "output_type": "stream",
     "text": [
      "WARNING: using MCTS.mdp in module Main conflicts with an existing identifier.\n"
     ]
    }
   ],
   "source": [
    "using MCTS\n",
    "\n",
    "# initialize the problem\n",
    "mdp_MCTS = Needle()\n",
    "\n",
    "# initialize the solver\n",
    "# the hyper parameters in MCTS can be tricky to set properly\n",
    "# n_iterations: the number of iterations that each search runs for\n",
    "# depth: the depth of the tree (how far away from the current state the algorithm explores)\n",
    "# exploration constant: this is how much weight to put into exploratory actions. \n",
    "# A good rule of thumb is to set the exploration constant to what you expect the upper bound on your average expected reward to be.\n",
    "solver = MCTSSolver(n_iterations=100, depth=50, exploration_constant=1.0)\n",
    "\n",
    "# initialize the policy by passing in your problem and the solver\n",
    "policy_MCTS = MCTSPolicy(solver, mdp_MCTS);"
   ]
  },
  {
   "cell_type": "markdown",
   "metadata": {},
   "source": [
    "### MCTS policy simulation"
   ]
  },
  {
   "cell_type": "code",
   "execution_count": 34,
   "metadata": {
    "collapsed": false
   },
   "outputs": [
    {
     "data": {
      "image/png": "[encoded data removed]",
      "text/plain": [
       "PyPlot.Figure(PyObject <matplotlib.figure.Figure object at 0x7fac786bcf90>)"
      ]
     },
     "metadata": {},
     "output_type": "display_data"
    },
    {
     "name": "stdout",
     "output_type": "stream",
     "text": [
      "Total discounted reward: 42.13436210000001\n",
      "Target missed\n"
     ]
    }
   ],
   "source": [
    "s = NeedleState(4,10,7)\n",
    "\n",
    "hist_MCTS = HistoryRecorder()\n",
    "r = simulate(hist_MCTS, mdp_MCTS, policy_MCTS, s)\n",
    "\n",
    "println(\"Total discounted reward: $r\")\n",
    "\n",
    "if posequal(hist_MCTS.state_hist[end], mdp_MCTS.reward_states[1])\n",
    "    println(\"Target reached\")\n",
    "else\n",
    "    println(\"Target missed\")\n",
    "end\n",
    "\n",
    "# define tissue environment\n",
    "plot([1 10 10 1 1]',[1 1 10 10 1]',linewidth=10,color=\"r\") # tissue bounds\n",
    "plot(mdp.reward_states[1].x,mdp.reward_states[1].y,marker=\"o\",markersize=40,color=\"g\",markeredgecolor=\"none\")\n",
    "plot(mdp.reward_states[9].x,mdp.reward_states[9].y,marker=\"o\",markersize=40,color=\"r\",markeredgecolor=\"none\")\n",
    "\n",
    "# needle trajectory\n",
    "steps = length(hist_MCTS.state_hist)\n",
    "for i = 1:steps-1 \n",
    "    state = hist_MCTS.state_hist[i]\n",
    "    action = hist_MCTS.action_hist[i]\n",
    "    if action == :cw\n",
    "        c = \"y\"\n",
    "    else\n",
    "        c = \"b\"\n",
    "    end\n",
    "    plot(state.x,state.y,color=c,marker=\"o\",markersize=15)\n",
    "    quiver(state.x,state.y,0.5*cos((state.psi-1)*pi/4),0.5*sin((state.psi-1)*pi/4))\n",
    "end\n",
    "\n",
    "title(@sprintf(\"Needle tip trajectory (MCTS): reward = %0.2f\",r))\n",
    "axis(\"equal\")\n",
    "axis([0, 11, 0, 11])\n",
    "xlabel(\"x\")\n",
    "ylabel(\"y\")\n",
    "grid(true)"
   ]
  },
  {
   "cell_type": "code",
   "execution_count": null,
   "metadata": {
    "collapsed": false
   },
   "outputs": [],
   "source": []
  }
 ],
 "metadata": {
  "kernelspec": {
   "display_name": "Julia 0.5.0",
   "language": "julia",
   "name": "julia-0.5"
  },
  "language_info": {
   "file_extension": ".jl",
   "mimetype": "application/julia",
   "name": "julia",
   "version": "0.5.0"
  }
 },
 "nbformat": 4,
 "nbformat_minor": 0
}
