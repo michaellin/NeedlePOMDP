{
 "cells": [
  {
   "cell_type": "code",
   "execution_count": 9,
   "metadata": {
    "collapsed": false
   },
   "outputs": [
    {
     "name": "stderr",
     "output_type": "stream",
     "text": [
      "WARNING: using Distributions.Categorical in module Main conflicts with an existing identifier.\n",
      "WARNING: using Distributions.pdf in module Main conflicts with an existing identifier.\n"
     ]
    }
   ],
   "source": [
    "using POMDPs\n",
    "using Distributions"
   ]
  },
  {
   "cell_type": "code",
   "execution_count": 10,
   "metadata": {
    "collapsed": false
   },
   "outputs": [
    {
     "data": {
      "text/plain": [
       "POMDPToolbox.DiscreteBelief"
      ]
     },
     "execution_count": 10,
     "metadata": {},
     "output_type": "execute_result"
    }
   ],
   "source": [
    "using POMDPToolbox # for DiscreteBelief, HistoryRecorder, etc\n",
    "typealias Categorical DiscreteBelief # just a vector of probabilities"
   ]
  },
  {
   "cell_type": "code",
   "execution_count": 12,
   "metadata": {
    "collapsed": false
   },
   "outputs": [],
   "source": [
    "importall POMDPs"
   ]
  },
  {
   "cell_type": "markdown",
   "metadata": {},
   "source": [
    "We will simplify the needle environment by using a grid world which represents the tissue in which the needle would travel. The state of the needle includes s:(x, y, theta) which is the x,y position in the grid and the orientation of the needle tip. By using a Grid world we are locally approximating the state of the needle, so we should be careful about this so that we can scale this to a finer approximation."
   ]
  },
  {
   "cell_type": "code",
   "execution_count": null,
   "metadata": {
    "collapsed": true
   },
   "outputs": [],
   "source": [
    "\n",
    "type GridWorldState \n",
    "    x::Int64     # x position\n",
    "    y::Int64     # y position\n",
    "    theta::Int64 # orientation of needle tip\n",
    "    bumped::Bool # did we bump the wall?\n",
    "    done::Bool   # did we puncture the target?\n",
    "    discount::Float64\n",
    "end"
   ]
  }
 ],
 "metadata": {
  "kernelspec": {
   "display_name": "Julia 0.5.0",
   "language": "julia",
   "name": "julia-0.5"
  },
  "language_info": {
   "file_extension": ".jl",
   "mimetype": "application/julia",
   "name": "julia",
   "version": "0.5.0"
  }
 },
 "nbformat": 4,
 "nbformat_minor": 1
}
